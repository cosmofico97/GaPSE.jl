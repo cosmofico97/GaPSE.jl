{
 "cells": [
  {
   "cell_type": "markdown",
   "id": "5c8db560-0421-4385-ae58-16c5b3810874",
   "metadata": {},
   "source": [
    "This file is part of GaPSE\n",
    "Copyright (C) 2022 Matteo Foglieni\n",
    "\n",
    "GaPSE is free software: you can redistribute it and/or modify\n",
    "it under the terms of the GNU General Public License as published by\n",
    "the Free Software Foundation, either version 3 of the License, or\n",
    "(at your option) any later version.\n",
    "\n",
    "GaPSE is distributed in the hope that it will be useful, but\n",
    "WITHOUT ANY WARRANTY; without even the implied warranty of\n",
    "MERCHANTABILITY or FITNESS FOR A PARTICULAR PURPOSE. See the GNU\n",
    "General Public License for more details.\n",
    "\n",
    "You should have received a copy of the GNU General Public License\n",
    "along with GaPSE. If not, see <http://www.gnu.org/licenses/>.\n",
    "```\n",
    "\n",
    "\n",
    "```"
   ]
  },
  {
   "cell_type": "markdown",
   "id": "f32a62c7-806e-45b7-9e67-3364fee9de1b",
   "metadata": {},
   "source": [
    "# Generic Window"
   ]
  },
  {
   "cell_type": "markdown",
   "id": "47bfd86c-8ee6-47a0-916c-1d6d0a59075f",
   "metadata": {},
   "source": [
    "This is a small tutorial in order to show how to use GaPSE when one is interested in the power spectrum obtained with a generic window function, and not with the toy-model we implemented.\n",
    "The theoretical formula we will use is the following (Eq.(2.13) of Castorina, Di Dio (2021)); we remember that all the distances $s, s_1, s_2$ are comoving distances measured in $h_0^{-1}\\mathrm{Mpc}$:\n",
    "\n",
    "$$\n",
    "    \\left\\langle \\hat{P}_L(k) \\right\\rangle = \n",
    "        \\frac{2 L + 1}{A} (-i)^L\n",
    "        \\sum_{\\ell=0}^{\\infty} \n",
    "        \\sum_{\\ell_1=0}^{\\infty} \n",
    "        \\begin{pmatrix}\n",
    "            L & \\ell & \\ell_1 \\\\\n",
    "            0 & 0 & 0\n",
    "        \\end{pmatrix}^2\n",
    "        \\int_0^{\\infty}\\!\\mathrm{d} s \\, s^2 \\, \\xi_\\ell(s, s_{\\rm eff}) \\, \n",
    "        j_L(k s) \\, Q_{\\ell_1}(s) \\, ,\n",
    "$$\n",
    "\n",
    "where:\n",
    "- $\\left\\langle \\hat{P}_L(k) \\right\\rangle$ is the order $L$ Power Spectrum of the effect we are interested in; we are basing this expression on the Yamamoto estimator (see Yamamoto (2000) and Yamamoto (2006))\n",
    "- $A$ is a normalization constant\n",
    "- the 2x3 matrix represents the Wigner-3j symbols\n",
    "- $\\xi_\\ell$ is the order $\\ell$ multipole of the Two-Point Correlation Function (TPCF)\n",
    "- $j_L$ is the spherical Bessel function of order $L$\n",
    "- $s_{\\mathrm{eff}}$ is the comoving distance associated with the effective redshift (see the `TUTORIAL.ipynb` note\n",
    "\n",
    "$Q_{\\ell_1}$ can be easily estimated with FFT methods:\n",
    "\n",
    "$$\n",
    "\\begin{split}\n",
    "    Q_{\\ell_1}(s) &:= \\int_0^{\\infty}\\mathrm{d} \\, s_1 \\; s_1^2 \\;\n",
    "    \\phi(s_1) \\; F_{\\ell_1}(s_1, s) \\\\\n",
    "    F_{\\ell_1} (s_1 , s) &:= \n",
    "    \\int_{4\\pi} \\mathrm{d}\\Omega_{\\mathbf{\\hat{s}}} \\,  \n",
    "    \\int_{4\\pi} \\mathrm{d}\\Omega_{\\mathbf{\\hat{s}}_1} \\,\n",
    "    \\phi(s_2) \\, W(\\mathbf{\\hat{s}}_1) \\, W(\\mathbf{\\hat{s}}_2) \\,\n",
    "    \\mathcal{L}_{\\ell_1}(\\mathbf{\\hat{s}} \\cdot \\mathbf{\\hat{s}}_1)  \\, .\n",
    "\\end{split}\n",
    "$$\n",
    "\n",
    "where:\n",
    "- $\\mathcal{L}_{\\ell_1}$ is the Legendre polynomial of order $\\ell_1$\n",
    "- $\\mathrm{d}\\Omega_{\\mathbf{\\hat{s}}}$ is the infinitesimal solid angle pointing in the direction of the versor $\\mathbf{\\hat{s}}$\n",
    "- $\\phi(s)$ and  $W(\\mathbf{\\hat{s}})$ are respectively the radial and angular part of your window function\n",
    "\n",
    "Suppose we want the Power Spectrum of the Galaxy Number Counts (GNC) General Relatvistic (GR) effects. The idea is simple:\n",
    "- first of all, you must compute all the GNC Two-Point Correlation Functions (TPCFs) for some multipole order (we suggest at least to compute for 0 ≤ L ≤ 4), setting `use_windows=false`\n",
    "- then we'll use the functions `create_file_for_XiMultipole` and `PS_multipole_GenWin` , and we'll get the PS multipole we wanted"
   ]
  },
  {
   "cell_type": "code",
   "execution_count": null,
   "id": "a6f3b467-6c5f-4e6d-8526-b516654de024",
   "metadata": {},
   "outputs": [],
   "source": []
  }
 ],
 "metadata": {
  "kernelspec": {
   "display_name": "Julia 1.8.3",
   "language": "julia",
   "name": "julia-1.8"
  },
  "language_info": {
   "file_extension": ".jl",
   "mimetype": "application/julia",
   "name": "julia",
   "version": "1.8.3"
  }
 },
 "nbformat": 4,
 "nbformat_minor": 5
}
