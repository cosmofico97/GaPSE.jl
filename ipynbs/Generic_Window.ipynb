{
 "cells": [
  {
   "cell_type": "markdown",
   "id": "5c8db560-0421-4385-ae58-16c5b3810874",
   "metadata": {},
   "source": [
    "This file is part of GaPSE\n",
    "Copyright (C) 2022 Matteo Foglieni\n",
    "\n",
    "GaPSE is free software: you can redistribute it and/or modify\n",
    "it under the terms of the GNU General Public License as published by\n",
    "the Free Software Foundation, either version 3 of the License, or\n",
    "(at your option) any later version.\n",
    "\n",
    "GaPSE is distributed in the hope that it will be useful, but\n",
    "WITHOUT ANY WARRANTY; without even the implied warranty of\n",
    "MERCHANTABILITY or FITNESS FOR A PARTICULAR PURPOSE. See the GNU\n",
    "General Public License for more details.\n",
    "\n",
    "You should have received a copy of the GNU General Public License\n",
    "along with GaPSE. If not, see <http://www.gnu.org/licenses/>.\n",
    "```\n",
    "\n",
    "\n",
    "```"
   ]
  },
  {
   "cell_type": "markdown",
   "id": "f32a62c7-806e-45b7-9e67-3364fee9de1b",
   "metadata": {},
   "source": [
    "# Generic Window"
   ]
  },
  {
   "cell_type": "markdown",
   "id": "47bfd86c-8ee6-47a0-916c-1d6d0a59075f",
   "metadata": {},
   "source": [
    "This is a small tutorial in order to show how to use GaPSE when one is interested in the power spectrum obtained with a generic window function, and not with the toy-model we implemented.\n",
    "The theoretical formula we will use is the following (Eq.(2.13) of Castorina, Di Dio (2021)); we remember that all the distances $s, s_1, s_2$ are comoving distances measured in $h_0^{-1}\\mathrm{Mpc}$:\n",
    "\n",
    "$$\n",
    "    \\left\\langle \\hat{P}_L(k) \\right\\rangle = \n",
    "        \\frac{2 L + 1}{A} (-i)^L\n",
    "        \\sum_{\\ell=0}^{\\infty} \n",
    "        \\sum_{\\ell_1=0}^{\\infty} \n",
    "        \\begin{pmatrix}\n",
    "            L & \\ell & \\ell_1 \\\\\n",
    "            0 & 0 & 0\n",
    "        \\end{pmatrix}^2\n",
    "        \\int_0^{\\infty}\\!\\mathrm{d} s \\, s^2 \\, \\xi_\\ell(s, s_{\\rm eff}) \\, \n",
    "        j_L(k s) \\, Q_{\\ell_1}(s) \\, ,\n",
    "$$\n",
    "\n",
    "where:\n",
    "- $\\left\\langle \\hat{P}_L(k) \\right\\rangle$ is the order $L$ Power Spectrum of the effect we are interested in; we are basing this expression on the Yamamoto estimator (see Yamamoto (2000) and Yamamoto (2006))\n",
    "- $A$ is a normalization constant\n",
    "- the 2x3 matrix represents the Wigner-3j symbols\n",
    "- $\\xi_\\ell$ is the order $\\ell$ multipole of the Two-Point Correlation Function (TPCF)\n",
    "- $j_L$ is the spherical Bessel function of order $L$\n",
    "- $s_{\\mathrm{eff}}$ is the comoving distance associated with the effective redshift (see the `TUTORIAL.ipynb` notebook)\n",
    "\n",
    "$Q_{\\ell_1}$ can be easily estimated with FFT methods:\n",
    "\n",
    "$$\n",
    "\\begin{split}\n",
    "    Q_{\\ell_1}(s) &:= \\int_0^{\\infty}\\mathrm{d}s_1 \\; s_1^2 \\;\n",
    "    \\phi(s_1) \\; F_{\\ell_1}(s_1, s) \\\\\n",
    "    F_{\\ell_1} (s_1 , s) &:= \n",
    "    \\int_{4\\pi} \\mathrm{d}\\Omega_{\\mathbf{\\hat{s}}} \\,  \n",
    "    \\int_{4\\pi} \\mathrm{d}\\Omega_{\\mathbf{\\hat{s}}_1} \\,\n",
    "    \\phi(s_2) \\, W(\\mathbf{\\hat{s}}_1) \\, W(\\mathbf{\\hat{s}}_2) \\,\n",
    "    \\mathcal{L}_{\\ell_1}(\\mathbf{\\hat{s}} \\cdot \\mathbf{\\hat{s}}_1)  \\, .\n",
    "\\end{split}\n",
    "$$\n",
    "\n",
    "where:\n",
    "- $\\mathcal{L}_{\\ell_1}$ is the Legendre polynomial of order $\\ell_1$\n",
    "- $\\mathrm{d}\\Omega_{\\mathbf{\\hat{s}}}$ is the infinitesimal solid angle pointing in the direction of the versor $\\mathbf{\\hat{s}}$\n",
    "- $\\phi(s)$ and  $W(\\mathbf{\\hat{s}})$ are respectively the radial and angular part of your window function (we remember that we assumed that such separability of the window function is possible)\n",
    "\n",
    "Suppose we want the Power Spectrum of the Galaxy Number Counts (GNC) General Relatvistic (GR) effects. The idea is simple:\n",
    "- first of all, you must compute the $Q_{\\ell_1}(s)$ multipoles ($0 \\leq \\ell_1 \\leq 4$ should be enough in almost all the realistic cases, but depending on your specific choise maybe you could even need less than that) and store them in a file let's call it `Ql_multipoles.txt`.  The file should have the following structure:\n",
    "```text\n",
    "    $ cat Ql_multipoles.txt \n",
    "    # Any comment line in the file must start with a #\n",
    "    # you can have how many comment lines you want in the header; they \n",
    "    # will be all skipped.\n",
    "    # Then you must provide in blank space separated columns:\n",
    "    # - as first column, the comoving distance values, measured in Mpc/h_0\n",
    "    # - from the second column onwards, all the Q_{\\ell_1} multipoles you want;\n",
    "    #   they must be ordered followinf the ascending multipole order (so \\ell_1 = 0\n",
    "    #   must be the 2 column), and you can go as further as you want in the multipole\n",
    "    #   order\n",
    "    # \n",
    "    # s [Mpc/h_0] \t Q_{l1=0} \t Q_{l1=1} \t Q_{l1=2} \t ...\n",
    "    1.0 \t0.9999999999999999 \t 1.445269850978461e-7 \t 0.000011917268941324522\t...\n",
    "    21.0\t0.9832914433168294 \t -0.0025537781362117177  -0.0033199998619560947\t    ...\n",
    "    41.0\t0.9669175943095181 \t -0.004923364937797496 \t -0.006463561496567318\t    ... \t\n",
    "    ... \t... \t\t\t\t ... \t\t\t\t\t ...\n",
    "```\n",
    "\n",
    "- then you can proceed in the computation of all the GNC Two-Point Correlation Functions (TPCFs) for the same multipole orders, setting `use_windows=false`\n",
    "- finally, you'll use the functions `create_file_for_XiMultipole` and `PS_multipole_GenWin` , and you'll get the PS multipole described in the previous equation."
   ]
  },
  {
   "cell_type": "code",
   "execution_count": 8,
   "id": "589a10a4-11d2-467d-ae23-8d74d74a011b",
   "metadata": {},
   "outputs": [],
   "source": [
    "DIR = \"Generic_Window/\";\n",
    "COMPUTE_XIS_GNC = false;"
   ]
  },
  {
   "cell_type": "markdown",
   "id": "0dd72092-3903-4bfc-a442-9533784ef79e",
   "metadata": {
    "jp-MarkdownHeadingCollapsed": true,
    "tags": []
   },
   "source": [
    "## Creation of a Cosmology"
   ]
  },
  {
   "cell_type": "markdown",
   "id": "93f8fa98-ba1f-4e12-9a88-768d13266821",
   "metadata": {},
   "source": [
    "As always, let's create a Cosmology struct. Note that, even if you want to study your window function and you are not interested in the toy-model one, it's (currently) mandatory to provide the files for a WindowF and a WindowFIntegrated anyway. Just give the default ones in the `Data` directory (even if are suited for a different redshift bin, it does not matter).\n",
    "\n",
    "Just remember to ALWAYS SET `use_windows = false` in each TPCF computation! "
   ]
  },
  {
   "cell_type": "code",
   "execution_count": 1,
   "id": "0a093163-6f09-48ba-8a4e-0b056907e01c",
   "metadata": {},
   "outputs": [],
   "source": [
    "PATH_TO_GAPSE = \"../\";"
   ]
  },
  {
   "cell_type": "code",
   "execution_count": 2,
   "id": "bd3c137a-b9f9-41e2-b7f0-7a4d2843f9af",
   "metadata": {},
   "outputs": [],
   "source": [
    "include(PATH_TO_GAPSE * \"src/GaPSE.jl\");"
   ]
  },
  {
   "cell_type": "code",
   "execution_count": 3,
   "id": "abcae7cb-bbcd-467c-80c0-ce859309fd16",
   "metadata": {},
   "outputs": [],
   "source": [
    "using DelimitedFiles, Plots, Dierckx, SpecialFunctions, TwoFAST, ProgressMeter\n",
    "using Printf, LaTeXStrings, GridInterpolations, LegendrePolynomials"
   ]
  },
  {
   "cell_type": "code",
   "execution_count": 4,
   "id": "e5c2abd0-dd14-49f0-8228-c924c1121ffe",
   "metadata": {},
   "outputs": [],
   "source": [
    "#FILE_F_MAP =  PATH_TO_GAPSE * \"data/NEW_F_pi2.txt\";\n",
    "FILE_F_MAP =  PATH_TO_GAPSE * \"data/F_REFERENCE_pi2.txt\";\n",
    "#=\n",
    "kwargs_map_F_hcub = Dict(\n",
    "     :θ_max => π / 2.0, :tolerance => 1e-10, \n",
    "     :rtol => 1e-2, :atol => 1e-3, :pr => true,\n",
    ");\n",
    "\n",
    "kwargs_map_F_trap = Dict(\n",
    "     :θ_max => π / 2.0, :tolerance => 1e-10, \n",
    "     :N => 1000, :pr => true,\n",
    ");\n",
    "\n",
    "xs = [x for x in 0:0.02:5]\n",
    "μs = union(\n",
    "    [μ for μ in range(-1.0, -0.98, length = 50)], \n",
    "    [μ for μ in range(-0.98, 0.98, length = 102)],\n",
    "    [μ for μ in range(0.98, 1.0, length = 50)]);\n",
    "GaPSE.print_map_F(FILE_F_MAP, xs, μs; \n",
    "    alg = :trap, Fmap_opts = kwargs_map_F_trap # we recommend to use :trap\n",
    "    #alg = :hcub, Fmap_opts = kwargs_map_F_hcub # but you can use also :hcub if you prefer\n",
    ")\n",
    "=#"
   ]
  },
  {
   "cell_type": "code",
   "execution_count": 5,
   "id": "a00d5f74-279a-4dc4-bf26-5a700b712940",
   "metadata": {},
   "outputs": [],
   "source": [
    "z_min, z_max, θ_max = 1.0, 1.5, π / 2.0\n",
    "\n",
    "FILE_BACKGROUND = PATH_TO_GAPSE * \"data/WideA_ZA_background.dat\";\n",
    "\n",
    "#=\n",
    "WFI_opts = Dict(\n",
    "    :llim => nothing, :rlim => nothing, \n",
    "    :rtol => 1e-2, :atol => 0.0, \n",
    "    :N => 1000, :pr => true,\n",
    ")\n",
    "=#\n",
    "\n",
    "params = GaPSE.CosmoParams(z_min, z_max, θ_max;\n",
    "    Ω_b = 0.0489, Ω_cdm = 0.251020, h_0 = 0.70, s_lim=1e-2,\n",
    "    s_b = 0.0, 𝑓_evo = 0.0, b = 1.5,\n",
    "    IPS_opts = Dict(\n",
    "        :fit_left_min => 1e-6, :fit_left_max => 3e-6,\n",
    "        :fit_right_min => 1e1, :fit_right_max => 2e1),\n",
    "    IPSTools_opts = Dict(\n",
    "        :N => 1024, :fit_min => 0.05, :fit_max => 0.5, \n",
    "        :con => true, :k_min => 1e-8, :k_max => 10.0),\n",
    "    #=\n",
    "    WFI_opts = Dict(\n",
    "        :llim => nothing, :rlim => nothing, \n",
    "        :rtol => 1e-2, :atol => 0.0, \n",
    "        :N => 1000, :pr => true,)\n",
    "    =#\n",
    ");"
   ]
  },
  {
   "cell_type": "code",
   "execution_count": 6,
   "id": "5e81aff6-3d32-4257-a0ba-b642074ac571",
   "metadata": {},
   "outputs": [],
   "source": [
    "#FILE_F_MAP =  PATH_TO_GAPSE * \"data/NEW_F_pi2.txt\";\n",
    "#FILE_IF_MAP = PATH_TO_GAPSE * \"data/NEW_IntegrF_pi2_z115.txt\";\n",
    "\n",
    "#FILE_F_MAP = PATH_TO_GAPSE*\"data/F_REFERENCE_pi2.txt\";\n",
    "FILE_IF_MAP = PATH_TO_GAPSE*\"data/IntegrF_REFERENCE_pi2_z115.txt\";\n",
    "\n",
    "#=\n",
    "calc_μs = union(\n",
    "    [μ for μ in range(-1.0, -0.98, length = 50)], \n",
    "    [μ for μ in range(-0.98, 0.98, length = 102)],\n",
    "    [μ for μ in range(0.98, 1.0, length = 50)]);\n",
    "\n",
    "GaPSE.print_map_IntegratedF(\n",
    "    z_min, z_max, calc_μs,\n",
    "    FILE_F_MAP, FILE_IF_MAP, \n",
    "    FILE_BACKGROUND;\n",
    "    alg = :trap, N_ss = 200, m = 2.1,\n",
    "    Dict(\n",
    "        :llim => nothing, :rlim => nothing, \n",
    "        :rtol => 1e-2, :atol => 0.0, \n",
    "        :N => 1000, :pr => true,\n",
    "    )...\n",
    ")\n",
    "=#"
   ]
  },
  {
   "cell_type": "code",
   "execution_count": 7,
   "id": "98b6caa6-0a8b-461e-a491-82fdf6357081",
   "metadata": {},
   "outputs": [
    {
     "name": "stdout",
     "output_type": "stream",
     "text": [
      "###############\n",
      "#    GaPSE    #\n",
      "############### \n",
      "#\n",
      "# The Cosmology considered had the following paremeters:\n",
      "# \n",
      "# - Matter Power Spectrum input file: \"../test/datatest/file_pk.txt\"\n",
      "# - Background data input file: \"../data/WideA_ZA_background.dat\"\n",
      "# - F window function input file: \"../data/F_REFERENCE_pi2.txt\"\n",
      "# - Integrated F window function input file: \"../data/IntegrF_REFERENCE_pi2_z115.txt\"\n",
      "#\n",
      "# - Basic CosmoParams considered: \n",
      "#\t z_min = 1.0 \t z_max = 1.5\n",
      "#\t θ_max = 1.5707963267948966 [rad] \t h_0 = 0.7\n",
      "#\t Ω_b = 0.0489 \t Ω_cdm = 0.25102 \t Ω_M0 = 0.29992\n",
      "#\t b = 1.5 \t f_evo = 0.0 \t s_b = 0.0\n",
      "#\n",
      "# - CosmoParams about the Input Power Spectrum: \n",
      "#\t fit_left_min = 1.0e-6 \t fit_right_min = 10.0 \t \n",
      "#\t fit_left_max = 3.0e-6 \t fit_right_max = 20.0 \t \n",
      "#\n",
      "# - CosmoParams about the Input Power Spectrum Tools: \n",
      "#\t k_max = 10.0 \t fit_max = 0.5 \t N = 1024 \t \n",
      "#\t con = true \t k_min = 1.0e-8 \t fit_min = 0.05 \t \n",
      "#\n",
      "# - Computed quantities: \n",
      "# \t effective redshift z_eff = 1.2613556177172358 \n",
      "# \t comoving s_min = 2312.5774317555542 Mpc/h_0\n",
      "# \t comoving s_max = 3054.483020067565 Mpc/h_0\n",
      "# \t comoving s_eff = 2725.877200832351 Mpc/h_0\n",
      "# \t Volume of the survey V_survey = 3.3783056930052956e10 Mpc^3/h_0^3\n",
      "# \t σ_0 = 15.593462966741178\n",
      "# \t σ_1 = 15.074895881392285\n",
      "# \t σ_2 = 100.85852368830226\n",
      "# \t σ_3 = 3735.1226181519773\n",
      "# \t σ_4 = 3.415930015488999e6\n",
      "# \t (where σ_i = \\int_{k_{min}}^{k_{max}}\\frac{dq}{2 π^2} q^{2-i} P(q))\n",
      "# \n"
     ]
    }
   ],
   "source": [
    "FILE_PS = PATH_TO_GAPSE * \"test/datatest/file_pk.txt\";\n",
    "cosmo = GaPSE.Cosmology(params, FILE_BACKGROUND, FILE_PS, FILE_F_MAP, FILE_IF_MAP);\n",
    "\n",
    "GaPSE.parameters_used(stdout, cosmo)"
   ]
  },
  {
   "cell_type": "markdown",
   "id": "ca63b312-ddcc-41a9-b839-658231b8d496",
   "metadata": {
    "jp-MarkdownHeadingCollapsed": true,
    "tags": []
   },
   "source": [
    "## Ql multipoles"
   ]
  },
  {
   "cell_type": "markdown",
   "id": "97574f67-e72b-4edd-9e38-58826b1d9fc3",
   "metadata": {},
   "source": [
    "For this tutorial, we will consider again as window function the azimutally simmetry toy-model one described in the `TUTORIAL.ipynb`. \n",
    "However, we will not exploit its peculiar simmetry to get a simplified analitical expression; we will instead use the general Power Spectrum equation described at the beginning of this notebook. \n",
    "\n",
    "In order to do so, the only equation we miss is the one relating the window function $F(x,\\mu)$ (that we can compute with the GaPSE functions) and the multipoles $F_{\\ell_1}$. Having a look at Eq.(A.11-12) of Castorina, Di Dio (2021), we have: \n",
    "\n",
    "$$\n",
    "\\begin{split}\n",
    "    F(s_1, s_ \\mu) :&= \\phi\\left(\\sqrt{s_1^2 + s^2 + 2 \\, s_1 \\, s \\, \\mu}\\right) \\; F\\left(\\frac{s}{s_1}, \\mu\\right) \\\\\n",
    "                    &= \\sum_{l_1=0}^{\\infty} \\frac{2 \\ell_1 + 1}{2} \\, \\mathcal{L}_{\\ell_1}(\\mu) \\, F_{\\ell_1}(s_1,s)\n",
    "\\end{split}\n",
    "$$\n",
    "\n",
    "$$\n",
    "\\Rightarrow \\quad F_{\\ell_1}(s_1,s) = \\int_{-1}^{+1}\\mathrm{d}\\mu \\; \\mathcal{L}_{\\ell_1}(\\mu) \\; \n",
    "    \\phi\\left(\\sqrt{s_1^2 + s^2 + 2 \\, s_1 \\, s \\, \\mu}\\right) \\; F\\left(\\frac{s}{s_1}, \\mu\\right) \n",
    "$$"
   ]
  },
  {
   "cell_type": "markdown",
   "id": "399de62f-593f-4fba-9a49-ec6df595a035",
   "metadata": {},
   "source": [
    "All the analitical formulae necessary to compute $Q_{\\ell_1}$ from $F(x,\\mu)$ are written down; we must make the integral over $\\mathrm{d}\\mu$ first (with $\\mathcal{L}_{\\ell_1}(\\mu) \\; \\phi\\left(\\sqrt{s_1^2 + s^2 + 2 \\, s_1 \\, s \\, \\mu}\\right)$ as weight) and then the one over $\\mathrm{d}s_1$ (with $s_1^2 \\; \\phi(s_1) $ as weight).\n",
    "\n",
    "We have such $Q_{\\ell_1}$ multipoles already stored in the file `data/Ql_multipoles.txt`, until $L=4$."
   ]
  },
  {
   "cell_type": "markdown",
   "id": "8ad06023-1256-4a65-b8b6-42cd2bf157a7",
   "metadata": {},
   "source": [
    "## Compute the TPCFs"
   ]
  },
  {
   "cell_type": "markdown",
   "id": "32949b43-996d-4bb1-be8e-b6f45b68d00f",
   "metadata": {},
   "source": [
    " Here we give the code in order to compute all the TPCFs for the GNC group, without the observer velocity terms, until $L=4$."
   ]
  },
  {
   "cell_type": "code",
   "execution_count": null,
   "id": "eca9b3ee-e095-41ea-91a0-817d43da3044",
   "metadata": {},
   "outputs": [],
   "source": [
    "name_xis_GNC_L0_noF_noobsvel_file = DIR * \"xis_GNC_L0_noF_noobsvel.txt\";\n",
    "name_xis_GNC_L1_noF_noobsvel_file = DIR * \"xis_GNC_L1_noF_noobsvel.txt\";\n",
    "name_xis_GNC_L2_noF_noobsvel_file = DIR * \"xis_GNC_L2_noF_noobsvel.txt\";\n",
    "name_xis_GNC_L3_noF_noobsvel_file = DIR * \"xis_GNC_L3_noF_noobsvel.txt\";\n",
    "name_xis_GNC_L4_noF_noobsvel_file = DIR * \"xis_GNC_L4_noF_noobsvel.txt\";"
   ]
  },
  {
   "cell_type": "code",
   "execution_count": null,
   "id": "f5b73842-6612-4c72-8c28-3a1aeceec8bc",
   "metadata": {},
   "outputs": [],
   "source": [
    "if COMPUTE_XIS_GNC == true\n",
    "    GaPSE.print_map_sum_ξ_GNC_multipole(\n",
    "        cosmo, name_xis_GNC_L0_noF_noobsvel_file,\n",
    "        10 .^ range(0, log10(2 * cosmo.s_max), length=500);\n",
    "        use_windows=false, L=0, alg=:quad, obs=:noobsvel,\n",
    "        single=true, enhancer=1e8,\n",
    "        N_trap=200, N_lob=200, atol_quad=0.0, rtol_quad=1e-2,\n",
    "        N_χs=100, N_χs_2=60\n",
    "    )\n",
    "end"
   ]
  },
  {
   "cell_type": "code",
   "execution_count": null,
   "id": "e8dd37bc-5bc4-4f5e-948e-7aa9eb1af0ac",
   "metadata": {},
   "outputs": [],
   "source": [
    "if COMPUTE_XIS_GNC == true\n",
    "    GaPSE.print_map_sum_ξ_GNC_multipole(\n",
    "        cosmo, name_xis_GNC_L1_noF_noobsvel_file,\n",
    "        10 .^ range(0, log10(2 * cosmo.s_max), length=500);\n",
    "        use_windows=false, L=1, alg=:lobatto, obs=:noobsvel,\n",
    "        single=true, enhancer=1e8,\n",
    "        N_trap=200, N_lob=1000, atol_quad=0.0, rtol_quad=1e-2,\n",
    "        N_χs=100, N_χs_2=50\n",
    "    )\n",
    "end"
   ]
  },
  {
   "cell_type": "code",
   "execution_count": null,
   "id": "2e9df462-5bd1-408f-b4fb-a5da79d53b13",
   "metadata": {},
   "outputs": [],
   "source": [
    "if COMPUTE_XIS_GNC == true\n",
    "    GaPSE.print_map_sum_ξ_GNC_multipole(\n",
    "        cosmo, name_xis_GNC_L2_noF_noobsvel_file,\n",
    "        10 .^ range(0, log10(2 * cosmo.s_max), length=500);\n",
    "        use_windows=false, L=2, alg=:quad, obs=:noobsvel,\n",
    "        single=true, enhancer=1e8,\n",
    "        N_trap=200, N_lob=1000, atol_quad=0.0, rtol_quad=1e-2,\n",
    "        N_χs=100, N_χs_2=50\n",
    "    )\n",
    "end"
   ]
  },
  {
   "cell_type": "code",
   "execution_count": null,
   "id": "114d6c1e-4047-4ec8-bdd7-55875eaf3bb4",
   "metadata": {},
   "outputs": [],
   "source": [
    "if COMPUTE_XIS_GNC == true\n",
    "    GaPSE.print_map_sum_ξ_GNC_multipole(\n",
    "        cosmo, name_xis_GNC_L3_noF_noobsvel_file,\n",
    "        10 .^ range(0, log10(2 * cosmo.s_max), length=500);\n",
    "        use_windows=false, L=3, alg=:lobatto, obs=:noobsvel,\n",
    "        single=true, enhancer=1e8,\n",
    "        N_trap=200, N_lob=1000, atol_quad=0.0, rtol_quad=1e-2,\n",
    "        N_χs=100, N_χs_2=50\n",
    "    )\n",
    "end"
   ]
  },
  {
   "cell_type": "code",
   "execution_count": null,
   "id": "b1a16066-dc50-43d1-b2ee-cb5da7892e31",
   "metadata": {},
   "outputs": [],
   "source": [
    "if COMPUTE_XIS_GNC == true\n",
    "    GaPSE.print_map_sum_ξ_GNC_multipole(\n",
    "        cosmo, name_xis_GNC_L4_noF_noobsvel_file,\n",
    "        10 .^ range(0, log10(2 * cosmo.s_max), length=500);\n",
    "        use_windows=false, L=4, alg=:lobatto, obs=:noobsvel,\n",
    "        single=true, enhancer=1e8,\n",
    "        N_trap=200, N_lob=1000, atol_quad=0.0, rtol_quad=1e-2,\n",
    "        N_χs=100, N_χs_2=50\n",
    "    )\n",
    "end"
   ]
  },
  {
   "cell_type": "markdown",
   "id": "5216fad6-cbad-48a3-bb1d-e213ad7c7dcf",
   "metadata": {},
   "source": [
    "## "
   ]
  }
 ],
 "metadata": {
  "kernelspec": {
   "display_name": "Julia 1.8.3",
   "language": "julia",
   "name": "julia-1.8"
  },
  "language_info": {
   "file_extension": ".jl",
   "mimetype": "application/julia",
   "name": "julia",
   "version": "1.8.3"
  }
 },
 "nbformat": 4,
 "nbformat_minor": 5
}
