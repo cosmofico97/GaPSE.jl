{
 "cells": [
  {
   "cell_type": "markdown",
   "id": "5c8db560-0421-4385-ae58-16c5b3810874",
   "metadata": {},
   "source": [
    "This file is part of GaPSE\n",
    "Copyright (C) 2022 Matteo Foglieni\n",
    "\n",
    "GaPSE is free software: you can redistribute it and/or modify\n",
    "it under the terms of the GNU General Public License as published by\n",
    "the Free Software Foundation, either version 3 of the License, or\n",
    "(at your option) any later version.\n",
    "\n",
    "GaPSE is distributed in the hope that it will be useful, but\n",
    "WITHOUT ANY WARRANTY; without even the implied warranty of\n",
    "MERCHANTABILITY or FITNESS FOR A PARTICULAR PURPOSE. See the GNU\n",
    "General Public License for more details.\n",
    "\n",
    "You should have received a copy of the GNU General Public License\n",
    "along with GaPSE. If not, see <http://www.gnu.org/licenses/>.\n",
    "```\n",
    "\n",
    "\n",
    "```"
   ]
  },
  {
   "cell_type": "markdown",
   "id": "f32a62c7-806e-45b7-9e67-3364fee9de1b",
   "metadata": {},
   "source": [
    "# Generic Window"
   ]
  },
  {
   "cell_type": "markdown",
   "id": "47bfd86c-8ee6-47a0-916c-1d6d0a59075f",
   "metadata": {},
   "source": [
    "This is a small tutorial in order to show how to use GaPSE when one is interested in the power spectrum obtained with a generic window function, and not with the toy-model we implemented.\n",
    "The theoretical formula we will use is the following (Eq.(2.13) of Castorina, Di Dio (2021)); we remember that all the distances $s, s_1, s_2$ are comoving distances measured in $h_0^{-1}\\mathrm{Mpc}$:\n",
    "\n",
    "$$\n",
    "    \\left\\langle \\hat{P}_L(k) \\right\\rangle = \n",
    "        \\frac{2 L + 1}{A} (-i)^L\n",
    "        \\sum_{\\ell=0}^{\\infty} \n",
    "        \\sum_{\\ell_1=0}^{\\infty} \n",
    "        \\begin{pmatrix}\n",
    "            L & \\ell & \\ell_1 \\\\\n",
    "            0 & 0 & 0\n",
    "        \\end{pmatrix}^2\n",
    "        \\int_0^{\\infty}\\!\\mathrm{d} s \\, s^2 \\, \\xi_\\ell(s, s_{\\rm eff}) \\, \n",
    "        j_L(k s) \\, Q_{\\ell_1}(s) \\, ,\n",
    "$$\n",
    "\n",
    "where:\n",
    "- $\\left\\langle \\hat{P}_L(k) \\right\\rangle$ is the order $L$ Power Spectrum of the effect we are interested in; we are basing this expression on the Yamamoto estimator (see Yamamoto (2000) and Yamamoto (2006))\n",
    "- $A$ is a normalization constant\n",
    "- the 2x3 matrix represents the Wigner-3j symbols\n",
    "- $\\xi_\\ell$ is the order $\\ell$ multipole of the Two-Point Correlation Function (TPCF)\n",
    "- $j_L$ is the spherical Bessel function of order $L$\n",
    "- $s_{\\mathrm{eff}}$ is the comoving distance associated with the effective redshift (see the `TUTORIAL.ipynb` notebook)\n",
    "\n",
    "$Q_{\\ell_1}$ can be easily estimated with FFT methods:\n",
    "\n",
    "$$\n",
    "\\begin{split}\n",
    "    Q_{\\ell_1}(s) &:= \\int_0^{\\infty}\\mathrm{d}s_1 \\; s_1^2 \\;\n",
    "    \\phi(s_1) \\; F_{\\ell_1}(s_1, s) \\\\\n",
    "    F_{\\ell_1} (s_1 , s) &:= \n",
    "    \\int_{4\\pi} \\mathrm{d}\\Omega_{\\mathbf{\\hat{s}}} \\,  \n",
    "    \\int_{4\\pi} \\mathrm{d}\\Omega_{\\mathbf{\\hat{s}}_1} \\,\n",
    "    \\phi(s_2) \\, W(\\mathbf{\\hat{s}}_1) \\, W(\\mathbf{\\hat{s}}_2) \\,\n",
    "    \\mathcal{L}_{\\ell_1}(\\mathbf{\\hat{s}} \\cdot \\mathbf{\\hat{s}}_1)  \\, .\n",
    "\\end{split}\n",
    "$$\n",
    "\n",
    "where:\n",
    "- $\\mathcal{L}_{\\ell_1}$ is the Legendre polynomial of order $\\ell_1$\n",
    "- $\\mathrm{d}\\Omega_{\\mathbf{\\hat{s}}}$ is the infinitesimal solid angle pointing in the direction of the versor $\\mathbf{\\hat{s}}$\n",
    "- $\\phi(s)$ and  $W(\\mathbf{\\hat{s}})$ are respectively the radial and angular part of your window function (we remember that we assumed that such separability of the window function is possible)\n",
    "\n",
    "Suppose we want the Power Spectrum of the Galaxy Number Counts (GNC) General Relatvistic (GR) effects. The idea is simple:\n",
    "- first of all, you must compute the $Q_{\\ell_1}(s)$ multipoles ($0 \\leq \\ell_1 \\leq 4$ should be enough in almost all the realistic cases, but depending on your specific choise maybe you could even need less than that) and store them in a file let's call it `Ql_multipoles.txt`.  The file should have the following structure:\n",
    "```text\n",
    "    $ cat Ql_multipoles.txt \n",
    "    # Any comment line in the file must start with a #\n",
    "    # you can have how many comment lines you want in the header; they \n",
    "    # will be all skipped.\n",
    "    # Then you must provide in blank space separated columns:\n",
    "    # - as first column, the comoving distance values, measured in Mpc/h_0\n",
    "    # - from the second column onwards, all the Q_{\\ell_1} multipoles you want;\n",
    "    #   they must be ordered followinf the ascending multipole order (so \\ell_1 = 0\n",
    "    #   must be the 2 column), and you can go as further as you want in the multipole\n",
    "    #   order\n",
    "    # \n",
    "    # s [Mpc/h_0] \t Q_{l1=0} \t Q_{l1=1} \t Q_{l1=2} \t ...\n",
    "    1.0 \t0.9999999999999999 \t 1.445269850978461e-7 \t 0.000011917268941324522\t...\n",
    "    21.0\t0.9832914433168294 \t -0.0025537781362117177  -0.0033199998619560947\t    ...\n",
    "    41.0\t0.9669175943095181 \t -0.004923364937797496 \t -0.006463561496567318\t    ... \t\n",
    "    ... \t... \t\t\t\t ... \t\t\t\t\t ...\n",
    "```\n",
    "\n",
    "- then you can proceed in the computation of all the GNC Two-Point Correlation Functions (TPCFs) for the same multipole orders, setting `use_windows=false`\n",
    "- finally, you'll use the functions `create_file_for_XiMultipole` and `PS_multipole_GenWin` , and you'll get the PS multipole described in the previous equation."
   ]
  },
  {
   "cell_type": "code",
   "execution_count": 1,
   "id": "589a10a4-11d2-467d-ae23-8d74d74a011b",
   "metadata": {},
   "outputs": [],
   "source": [
    "DIR = \"Generic_Window/\";\n",
    "COMPUTE_XIS_GNC = false;"
   ]
  },
  {
   "cell_type": "markdown",
   "id": "0dd72092-3903-4bfc-a442-9533784ef79e",
   "metadata": {
    "tags": []
   },
   "source": [
    "## Creation of a Cosmology"
   ]
  },
  {
   "cell_type": "markdown",
   "id": "93f8fa98-ba1f-4e12-9a88-768d13266821",
   "metadata": {},
   "source": [
    "As always, let's create a Cosmology struct. Note that, even if you want to study your window function and you are not interested in the toy-model one, it's (currently) mandatory to provide the files for a WindowF and a WindowFIntegrated anyway. Just give the default ones in the `Data` directory (even if are suited for a different redshift bin, it does not matter).\n",
    "\n",
    "Just remember to ALWAYS SET `use_windows = false` in each TPCF computation! "
   ]
  },
  {
   "cell_type": "code",
   "execution_count": 2,
   "id": "0a093163-6f09-48ba-8a4e-0b056907e01c",
   "metadata": {},
   "outputs": [],
   "source": [
    "PATH_TO_GAPSE = \"../\";"
   ]
  },
  {
   "cell_type": "code",
   "execution_count": 3,
   "id": "bd3c137a-b9f9-41e2-b7f0-7a4d2843f9af",
   "metadata": {},
   "outputs": [],
   "source": [
    "include(PATH_TO_GAPSE * \"src/GaPSE.jl\");"
   ]
  },
  {
   "cell_type": "code",
   "execution_count": 4,
   "id": "abcae7cb-bbcd-467c-80c0-ce859309fd16",
   "metadata": {},
   "outputs": [],
   "source": [
    "using DelimitedFiles, Plots, Dierckx, SpecialFunctions, TwoFAST, ProgressMeter\n",
    "using Printf, LaTeXStrings, GridInterpolations, LegendrePolynomials"
   ]
  },
  {
   "cell_type": "code",
   "execution_count": 5,
   "id": "e5c2abd0-dd14-49f0-8228-c924c1121ffe",
   "metadata": {},
   "outputs": [],
   "source": [
    "#FILE_F_MAP =  PATH_TO_GAPSE * \"data/NEW_F_pi2.txt\";\n",
    "FILE_F_MAP =  PATH_TO_GAPSE * \"data/F_REFERENCE_pi2.txt\";\n",
    "#=\n",
    "kwargs_map_F_hcub = Dict(\n",
    "     :θ_max => π / 2.0, :tolerance => 1e-10, \n",
    "     :rtol => 1e-2, :atol => 1e-3, :pr => true,\n",
    ");\n",
    "\n",
    "kwargs_map_F_trap = Dict(\n",
    "     :θ_max => π / 2.0, :tolerance => 1e-10, \n",
    "     :N => 1000, :pr => true,\n",
    ");\n",
    "\n",
    "xs = [x for x in 0:0.02:5]\n",
    "μs = union(\n",
    "    [μ for μ in range(-1.0, -0.98, length = 50)], \n",
    "    [μ for μ in range(-0.98, 0.98, length = 102)],\n",
    "    [μ for μ in range(0.98, 1.0, length = 50)]);\n",
    "GaPSE.print_map_F(FILE_F_MAP, xs, μs; \n",
    "    alg = :trap, Fmap_opts = kwargs_map_F_trap # we recommend to use :trap\n",
    "    #alg = :hcub, Fmap_opts = kwargs_map_F_hcub # but you can use also :hcub if you prefer\n",
    ")\n",
    "=#"
   ]
  },
  {
   "cell_type": "code",
   "execution_count": 6,
   "id": "a00d5f74-279a-4dc4-bf26-5a700b712940",
   "metadata": {},
   "outputs": [],
   "source": [
    "z_min, z_max, θ_max = 1.0, 1.5, π / 2.0\n",
    "\n",
    "FILE_BACKGROUND = PATH_TO_GAPSE * \"data/WideA_ZA_background.dat\";\n",
    "\n",
    "#=\n",
    "WFI_opts = Dict(\n",
    "    :llim => nothing, :rlim => nothing, \n",
    "    :rtol => 1e-2, :atol => 0.0, \n",
    "    :N => 1000, :pr => true,\n",
    ")\n",
    "=#\n",
    "\n",
    "params = GaPSE.CosmoParams(z_min, z_max, θ_max;\n",
    "    Ω_b = 0.0489, Ω_cdm = 0.251020, h_0 = 0.70, s_lim=1e-2,\n",
    "    s_b = 0.0, 𝑓_evo = 0.0, b = 1.5,\n",
    "    IPS_opts = Dict(\n",
    "        :fit_left_min => 1e-6, :fit_left_max => 3e-6,\n",
    "        :fit_right_min => 1e1, :fit_right_max => 2e1),\n",
    "    IPSTools_opts = Dict(\n",
    "        :N => 1024, :fit_min => 0.05, :fit_max => 0.5, \n",
    "        :con => true, :k_min => 1e-8, :k_max => 10.0),\n",
    "    #=\n",
    "    WFI_opts = Dict(\n",
    "        :llim => nothing, :rlim => nothing, \n",
    "        :rtol => 1e-2, :atol => 0.0, \n",
    "        :N => 1000, :pr => true,)\n",
    "    =#\n",
    ");"
   ]
  },
  {
   "cell_type": "code",
   "execution_count": 7,
   "id": "5e81aff6-3d32-4257-a0ba-b642074ac571",
   "metadata": {},
   "outputs": [],
   "source": [
    "#FILE_F_MAP =  PATH_TO_GAPSE * \"data/NEW_F_pi2.txt\";\n",
    "#FILE_IF_MAP = PATH_TO_GAPSE * \"data/NEW_IntegrF_pi2_z115.txt\";\n",
    "\n",
    "#FILE_F_MAP = PATH_TO_GAPSE*\"data/F_REFERENCE_pi2.txt\";\n",
    "FILE_IF_MAP = PATH_TO_GAPSE*\"data/IntegrF_REFERENCE_pi2_z115.txt\";\n",
    "\n",
    "#=\n",
    "calc_μs = union(\n",
    "    [μ for μ in range(-1.0, -0.98, length = 50)], \n",
    "    [μ for μ in range(-0.98, 0.98, length = 102)],\n",
    "    [μ for μ in range(0.98, 1.0, length = 50)]);\n",
    "\n",
    "GaPSE.print_map_IntegratedF(\n",
    "    z_min, z_max, calc_μs,\n",
    "    FILE_F_MAP, FILE_IF_MAP, \n",
    "    FILE_BACKGROUND;\n",
    "    alg = :trap, N_ss = 200, m = 2.1,\n",
    "    Dict(\n",
    "        :llim => nothing, :rlim => nothing, \n",
    "        :rtol => 1e-2, :atol => 0.0, \n",
    "        :N => 1000, :pr => true,\n",
    "    )...\n",
    ")\n",
    "=#"
   ]
  },
  {
   "cell_type": "code",
   "execution_count": 8,
   "id": "98b6caa6-0a8b-461e-a491-82fdf6357081",
   "metadata": {},
   "outputs": [
    {
     "name": "stdout",
     "output_type": "stream",
     "text": [
      "###############\n",
      "#    GaPSE    #\n",
      "############### \n",
      "#\n",
      "# The Cosmology considered had the following paremeters:\n",
      "# \n",
      "# - Matter Power Spectrum input file: \"../test/datatest/file_pk.txt\"\n",
      "# - Background data input file: \"../data/WideA_ZA_background.dat\"\n",
      "# - F window function input file: \"../data/F_REFERENCE_pi2.txt\"\n",
      "# - Integrated F window function input file: \"../data/IntegrF_REFERENCE_pi2_z115.txt\"\n",
      "#\n",
      "# - Basic CosmoParams considered: \n",
      "#\t z_min = 1.0 \t z_max = 1.5\n",
      "#\t θ_max = 1.5707963267948966 [rad] \t h_0 = 0.7\n",
      "#\t Ω_b = 0.0489 \t Ω_cdm = 0.25102 \t Ω_M0 = 0.29992\n",
      "#\t b = 1.5 \t f_evo = 0.0 \t s_b = 0.0\n",
      "#\n",
      "# - CosmoParams about the Input Power Spectrum: \n",
      "#\t fit_left_min = 1.0e-6 \t fit_right_min = 10.0 \t \n",
      "#\t fit_left_max = 3.0e-6 \t fit_right_max = 20.0 \t \n",
      "#\n",
      "# - CosmoParams about the Input Power Spectrum Tools: \n",
      "#\t k_max = 10.0 \t fit_max = 0.5 \t N = 1024 \t \n",
      "#\t con = true \t k_min = 1.0e-8 \t fit_min = 0.05 \t \n",
      "#\n",
      "# - Computed quantities: \n",
      "# \t effective redshift z_eff = 1.2613556177172358 \n",
      "# \t comoving s_min = 2312.5774317555542 Mpc/h_0\n",
      "# \t comoving s_max = 3054.483020067565 Mpc/h_0\n",
      "# \t comoving s_eff = 2725.877200832351 Mpc/h_0\n",
      "# \t Volume of the survey V_survey = 3.3783056930052956e10 Mpc^3/h_0^3\n",
      "# \t σ_0 = 15.593462966741178\n",
      "# \t σ_1 = 15.074895881392285\n",
      "# \t σ_2 = 100.85852368830226\n",
      "# \t σ_3 = 3735.1226181519773\n",
      "# \t σ_4 = 3.415930015488999e6\n",
      "# \t (where σ_i = \\int_{k_{min}}^{k_{max}}\\frac{dq}{2 π^2} q^{2-i} P(q))\n",
      "# \n"
     ]
    }
   ],
   "source": [
    "FILE_PS = PATH_TO_GAPSE * \"test/datatest/file_pk.txt\";\n",
    "cosmo = GaPSE.Cosmology(params, FILE_BACKGROUND, FILE_PS, FILE_F_MAP, FILE_IF_MAP);\n",
    "\n",
    "GaPSE.parameters_used(stdout, cosmo)"
   ]
  },
  {
   "cell_type": "markdown",
   "id": "ca63b312-ddcc-41a9-b839-658231b8d496",
   "metadata": {
    "tags": []
   },
   "source": [
    "## Ql multipoles"
   ]
  },
  {
   "cell_type": "markdown",
   "id": "97574f67-e72b-4edd-9e38-58826b1d9fc3",
   "metadata": {},
   "source": [
    "For this tutorial, we will consider again as window function the azimutally simmetry toy-model one described in the `TUTORIAL.ipynb`. \n",
    "However, we will not exploit its peculiar simmetry to get a simplified analitical expression; we will instead use the general Power Spectrum equation described at the beginning of this notebook. \n",
    "\n",
    "In order to do so, the only equation we miss is the one relating the window function $F(x,\\mu)$ (that we can compute with the GaPSE functions) and the multipoles $F_{\\ell_1}$. Having a look at Eq.(A.11-12) of Castorina, Di Dio (2021), we have: \n",
    "\n",
    "$$\n",
    "\\begin{split}\n",
    "    F(s_1, s_ \\mu) :&= \\phi\\left(\\sqrt{s_1^2 + s^2 + 2 \\, s_1 \\, s \\, \\mu}\\right) \\; F\\left(\\frac{s}{s_1}, \\mu\\right) \\\\\n",
    "                    &= \\sum_{l_1=0}^{\\infty} \\frac{2 \\ell_1 + 1}{2} \\, \\mathcal{L}_{\\ell_1}(\\mu) \\, F_{\\ell_1}(s_1,s)\n",
    "\\end{split}\n",
    "$$\n",
    "\n",
    "$$\n",
    "\\Rightarrow \\quad F_{\\ell_1}(s_1,s) = \\int_{-1}^{+1}\\mathrm{d}\\mu \\; \\mathcal{L}_{\\ell_1}(\\mu) \\; \n",
    "    \\phi\\left(\\sqrt{s_1^2 + s^2 + 2 \\, s_1 \\, s \\, \\mu}\\right) \\; F\\left(\\frac{s}{s_1}, \\mu\\right) \n",
    "$$"
   ]
  },
  {
   "cell_type": "markdown",
   "id": "399de62f-593f-4fba-9a49-ec6df595a035",
   "metadata": {},
   "source": [
    "All the analitical formulae necessary to compute $Q_{\\ell_1}$ from $F(x,\\mu)$ are written down; we must make the integral over $\\mathrm{d}\\mu$ first (with $\\mathcal{L}_{\\ell_1}(\\mu) \\; \\phi\\left(\\sqrt{s_1^2 + s^2 + 2 \\, s_1 \\, s \\, \\mu}\\right)$ as weight) and then the one over $\\mathrm{d}s_1$ (with $s_1^2 \\; \\phi(s_1) $ as weight).\n",
    "There is however a useful trick: we can invert the integration order, making firstly the one over $\\mathrm{d}s_1$ and then the one over $\\mathrm{d}\\mu$. his allow us to avoid to compute the $\\mathrm{d}s_1$ integral, because that expression is exactly the definition of the Integrated window function $\\mathcal{F}(s,\\mu)$ that we already computed!\n",
    "\n",
    "$$\n",
    "\\begin{split}\n",
    "    Q_{\\ell_1}(s) :\n",
    "        &= \\int_0^{\\infty}\\mathrm{d}s_1 \\; s_1^2 \\; \\phi(s_1) \\; F_{\\ell_1}(s_1, s) \\\\\n",
    "        &= \\int_0^{\\infty}\\mathrm{d}s_1 \\; s_1^2 \\; \\phi(s_1) \\; \n",
    "            \\int_{-1}^{+1}\\mathrm{d}\\mu \\; \\mathcal{L}_{\\ell_1}(\\mu) \\; \n",
    "            \\phi\\left(\\sqrt{s_1^2 + s^2 + 2 \\, s_1 \\, s \\, \\mu}\\right) \\; \n",
    "            F\\left(\\frac{s}{s_1}, \\mu\\right) \\\\\n",
    "        &= \\int_{-1}^{+1}\\mathrm{d}\\mu \\; \\mathcal{L}_{\\ell_1}(\\mu) \\; \n",
    "            \\int_0^{\\infty}\\mathrm{d}s_1 \\; s_1^2 \\; \\phi(s_1) \\; \n",
    "            \\phi\\left(\\sqrt{s_1^2 + s^2 + 2 \\, s_1 \\, s \\, \\mu}\\right) \\; \n",
    "            F\\left(\\frac{s}{s_1}, \\mu\\right) \\\\\n",
    "        &= \\int_{-1}^{+1}\\mathrm{d}\\mu \\; \\mathcal{L}_{\\ell_1}(\\mu) \\; \\mathcal{F}(s,\\mu)\n",
    "\\end{split}\n",
    "$$\n",
    "\n",
    "We then implemented in the code the function `print_map_WindowFIntegrated_multipole` for such computation\n",
    "\n",
    "```julia\n",
    "print_map_WindowFIntegrated_multipole(\n",
    "          ss::Vector{Float64},\n",
    "          windowFint::Union{String,GaPSE.WindowFIntegrated}, out::String;\n",
    "          s_min, s_max,\n",
    "          pr::Bool=true, L_max::Int=4, alg::Symbol=:lobatto,\n",
    "          N_lob::Int=100, N_trap::Int=200,\n",
    "          atol_quad::Float64=0.0, rtol_quad::Float64=1e-2,\n",
    "          enhancer::Float64=1e6)\n",
    "\n",
    "     print_map_WindowFIntegrated_multipole(\n",
    "          s_zs::Vector{Float64},\n",
    "          windowFint::Union{String,GaPSE.WindowFIntegrated}, out::String,\n",
    "          file_data::String; z_min, z_max,\n",
    "          names_bg=GaPSE.NAMES_BACKGROUND, h_0=0.7, kwargs...))\n",
    "\n",
    "     print_map_WindowFIntegrated_multipole(\n",
    "          windowFint::Union{String,GaPSE.WindowFIntegrated}, out::String,\n",
    "          file_data::String; z_min, z_max,\n",
    "          names_bg=GaPSE.NAMES_BACKGROUND, h_0=0.7, N::Int=100, \n",
    "          m::Float64=2.1, st::Float64=0.0, kwargs...)\n",
    "```\n",
    "\n",
    "Evaluate the integrated window function multipoles $Q_{\\ell_1}(s)$ in a vector of $s$ values for all\n",
    "the multipoles $0 \\leq \\ell_1 \\leq L_\\mathrm{max}$, and print the results in the `out` file.\n",
    "The computation of the multipole is performed through `WindowFIntegrated_multipole`.\n",
    "\n",
    "The first method takes as input:\n",
    "- `ss::Vector{Float64}` :  the vector of s points where to \n",
    "  sample the integrated window function multipoles $Q_{\\ell_1}$.`ss` must be a float vector of \n",
    "  increasing comoving distance values (so each element must be ≥ 0); the first and last values \n",
    "  ARE NOT RELATED to `s_min` and `s_max`.\n",
    "- `windowFint::Union{String,WindowFIntegrated}`, i.e. the integrated window function itself; it can be \n",
    "  passed as the namefile where the integrated window is stored in (that will be opened with `WindowFIntegrated`) \n",
    "  or as a `WindowFIntegrated` struct directly.\n",
    "- `out::String` : the name of the output file\n",
    "- `s_min` and `s_max` (keyword arguments) : min and max comoving distance of the survey;\n",
    "  their values will be internally used by \n",
    "\n",
    "The second method takes as input the min and max redshifts of the survey (`z_min`and `z_max`),\n",
    "the vector of redshifts `zs::Vector{Float64}` for the integrated window function sampling, `windowFint` \n",
    "as before and the `file_data` where can be found the association $z \\rightarrow s(z)$. \n",
    "Such file must have the structure of the \n",
    "background data produced by the [`CLASS`](https://github.com/lesgourg/class_public) code.\n",
    "Note that also `zs` musyt be a float vector of increasing redshift values (so each element must be ≥ 0).\n",
    "This method internally recalls the first one, so the other `kwargs...` are in common.\n",
    "\n",
    "The third method takes as input the min and max redshifts of the survey (`z_min`and `z_max`) and the same \n",
    "input as the second method (`windowF`, `out` and `file_data`) but NOT THE REDSHIFT SAMPLING VECTOR `zs`.\n",
    "The sampling will be internally made linearly from $s = \\mathrm{st}$(where `st::Float64 = 0.0` is a \n",
    "keyword argument) to $s = m \\, s_{\\mathrm{max}}$, where `s_max` is the comoving distance associated to \n",
    "`z_max` (for the data stored in `file_data`) and `m::Float64 = 2.1` a coefficient that we \n",
    "suggest to set equals to `2 < m < 3`.\n",
    "`N::Int = 100` is the number of `s` values used for the sampling in the interval \n",
    "$[0, m \\, s_{\\mathrm{max}}]$.\n",
    "This method internally recalls the first one, so the other `kwargs...` are in common."
   ]
  },
  {
   "cell_type": "markdown",
   "id": "8c538ddc-ba7f-40f7-a048-0531ed5d347c",
   "metadata": {},
   "source": [
    "We have such $Q_{\\ell_1}$ for the redshift bin $1.0 \\leq z \\leq 1.5$ multipoles already stored in the file `data/Ql_multipoles_of_F_REFERENCE_z115.txt`, until $L=4$. \n",
    "In the next outputs we show its header and a plot of them.\n",
    "\n",
    "The command we used in order to produce such file is commened in the same cell."
   ]
  },
  {
   "cell_type": "code",
   "execution_count": 9,
   "id": "aaac61bb-3808-4b49-b219-fff30e9b3866",
   "metadata": {},
   "outputs": [
    {
     "name": "stdout",
     "output_type": "stream",
     "text": [
      "###############\n",
      "#    GaPSE    #\n",
      "############### \n",
      "#\n",
      "# This is an integration map of the Q_{l_1} multipoles, defined as:\n",
      "#      Q_{l_1}(s_1, s \\mu) = \\int_{-1}^{+1} \\mathrm{d}\\mu \\mathcal{L}_{l_1}(\\mu) \\mathcal{F}(s, \\mu)\n",
      "#      \\mathcal{F}(s, \\mu) = \\int_0^{\\infty} \\mathrm{d}s_1 s_1^2 \\phi(s_1) \\phi(\\sqrt(s_1^2 + s^2 + 2 s_1 s \\mu)) F(s/s_1, \\mu)\n",
      "# where \\mathcal{L}_{l_1}(\\mu) is tre Legendre polynomial if order l1 and\n",
      "# F(x, \\mu) is the window function considered (for its analytical definition, check the code).\n",
      "#\n",
      "#\n",
      "# Time needed for this computation [in s]: 54.9950897693634\n",
      "# The keyword arguments were:\n",
      "#\n",
      "# s [h_0^{-1} Mpc] \t Q_{l_1=0} \t Q_{l_1=1} \t Q_{l_1=2} \t Q_{l_1=3} \t Q_{l_1=4} \t \n",
      "1.0 \t 4.1857800000750543e11 \t -4.377435879373042e7 \t -5.084259164821501e8 \t 1.2380785453994218e6 \t -3.641597411371149e8 \t \n",
      "7.419834176318205 \t 4.16656285072337e11 \t -3.247984840894028e8 \t -9.25042499972539e8 \t 9.186336883352188e6 \t -2.832860726295231e8 \t \n",
      "13.83966835263641 \t 4.147345701371686e11 \t -6.058226093850927e8 \t -1.3416590834629254e9 \t 1.7134595221309297e7 \t -2.024124041219242e8 \t \n",
      "20.259502528954613 \t 4.128128552020003e11 \t -8.86846734680752e8 \t -1.7582756669533086e9 \t 2.508285355926556e7 \t -1.2153873561433087e8 \t \n",
      "26.67933670527282 \t 4.108911402668319e11 \t -1.1678708599764044e9 \t -2.174892250443698e9 \t 3.3031111897220485e7 \t -4.066506710673776e7 \t \n"
     ]
    },
    {
     "data": {
      "text/plain": [
       "Process(`\u001b[4mhead\u001b[24m \u001b[4m-n\u001b[24m \u001b[4m20\u001b[24m \u001b[4m../data/Ql_multipoles_of_F_REFERENCE_z115.txt\u001b[24m`, ProcessExited(0))"
      ]
     },
     "execution_count": 9,
     "metadata": {},
     "output_type": "execute_result"
    }
   ],
   "source": [
    "#=\n",
    "windowfint_z115 = GaPSE.WindowFIntegrated(PATH_TO_GAPSE*\"data/IntegrF_REFERENCE_pi2_z115.txt\");\n",
    "GaPSE.print_map_WindowFIntegrated_multipole(windowfint_z115, PATH_TO_GAPSE*\"data/PowerSpectrumGenwin/Ql_multipoles_of_F_REFERENCE_z115.txt\", \n",
    "    PATH_TO_GAPSE*\"data/WideA_ZA_background.dat\"; z_min = 1.0, z_max=1.5, st = 1.0, N=1000, pr=true, L_max=4,\n",
    "    alg=:lobatto, N_lob=100, N_trap=200, atol_quad=0.0, rtol_quad=1e-2, enhancer=1e6, h_0=0.7)\n",
    "=#\n",
    "\n",
    "name_file_Qmultipoles = PATH_TO_GAPSE*\"data/Ql_multipoles_of_F_REFERENCE_z115.txt\";\n",
    "run(`head -n 20 $(name_file_Qmultipoles)`)"
   ]
  },
  {
   "cell_type": "code",
   "execution_count": 10,
   "id": "b60af18d-1f7c-4efd-a486-0941b4afea45",
   "metadata": {},
   "outputs": [],
   "source": [
    "s_vec, all_Q_l1 = GaPSE.readxall(name_file_Qmultipoles);"
   ]
  },
  {
   "cell_type": "code",
   "execution_count": null,
   "id": "d81937ee-aeda-4131-bd33-5993bf64dd62",
   "metadata": {},
   "outputs": [],
   "source": [
    "pyplot()\n",
    "plot(s_vec, all_Q_l1[1], xaxis=:log, label=\"L=0\", \n",
    "    xlabel=L\"s \\quad [h_0^{-1}\\mathrm{Mpc}]\", \n",
    "    ylabel=L\"Q_{\\ell_1}(s)\",\n",
    "    xticks = (\n",
    "        vcat([a*10.0^b for b in 0:3 for a in 1:9], 10.0^4), \n",
    "        vcat([a==1 ? L\"10^{%$b}\" : nothing for b in 0:3 for a in 1:9], L\"10^{4}\")\n",
    "    ),)\n",
    "plot!(s_vec, all_Q_l1[2], xaxis=:log, label=\"L=1\")\n",
    "plot!(s_vec, all_Q_l1[3], xaxis=:log, label=\"L=2\")\n",
    "plot!(s_vec, all_Q_l1[4], xaxis=:log, label=\"L=3\")\n",
    "plot!(s_vec, all_Q_l1[5], xaxis=:log, label=\"L=4\")"
   ]
  },
  {
   "cell_type": "markdown",
   "id": "7b68707f-f920-4785-8d54-18dffc5a1a6b",
   "metadata": {},
   "source": [
    "```\n",
    "\n",
    "\n",
    "```\n",
    "IMPORTANT NOTE: In order to obtain a correctly normalized Power Spectum, the multipoles $Q_{\\ell_1}$ should be normalized properly, i.e. it should be true that:\n",
    "\n",
    "$$\n",
    "    \\lim_{s \\rightarrow 0^{+}} Q_{\\ell_1 = 0}(s) = 1.0\n",
    "$$\n",
    "\n",
    "The code implemented in GaPSE DO NOT MAKE SUCH NORMALIZATION as you can see in the previous plot, you have to do it manually. Of course, because this is only an overall constant and nothing more, you can also compute the Power Spectrum without normalization and divide only at the end for the first value  of the monopole $Q_{\\ell_1=0}$, i.e. for all_Q_l1\\[1\\]\\[1\\], that in this case is equal to:"
   ]
  },
  {
   "cell_type": "code",
   "execution_count": null,
   "id": "44be707e-c82d-422d-84da-978aa50c1571",
   "metadata": {},
   "outputs": [],
   "source": [
    "all_Q_l1[1][1]"
   ]
  },
  {
   "cell_type": "markdown",
   "id": "afc1e32d-57d5-4a9d-a5e6-2967303f78f2",
   "metadata": {},
   "source": [
    "```\n",
    "\n",
    "\n",
    "```"
   ]
  },
  {
   "cell_type": "markdown",
   "id": "8ad06023-1256-4a65-b8b6-42cd2bf157a7",
   "metadata": {
    "tags": []
   },
   "source": [
    "## Compute the TPCFs"
   ]
  },
  {
   "cell_type": "markdown",
   "id": "32949b43-996d-4bb1-be8e-b6f45b68d00f",
   "metadata": {},
   "source": [
    " Here we give the code in order to compute all the TPCFs for the GNC group, without the observer velocity terms, until $L=4$."
   ]
  },
  {
   "cell_type": "code",
   "execution_count": null,
   "id": "eca9b3ee-e095-41ea-91a0-817d43da3044",
   "metadata": {},
   "outputs": [],
   "source": [
    "name_xis_GNC_L0_noF_noobsvel_file = DIR * \"xis_GNC_L0_noF_noobsvel_GenWin.txt\";\n",
    "name_xis_GNC_L1_noF_noobsvel_file = DIR * \"xis_GNC_L1_noF_noobsvel_GenWin.txt\";\n",
    "name_xis_GNC_L2_noF_noobsvel_file = DIR * \"xis_GNC_L2_noF_noobsvel_GenWin.txt\";\n",
    "name_xis_GNC_L3_noF_noobsvel_file = DIR * \"xis_GNC_L3_noF_noobsvel_GenWin.txt\";\n",
    "name_xis_GNC_L4_noF_noobsvel_file = DIR * \"xis_GNC_L4_noF_noobsvel_GenWin.txt\";"
   ]
  },
  {
   "cell_type": "code",
   "execution_count": null,
   "id": "f5b73842-6612-4c72-8c28-3a1aeceec8bc",
   "metadata": {},
   "outputs": [],
   "source": [
    "if COMPUTE_XIS_GNC == true\n",
    "    GaPSE.print_map_sum_ξ_GNC_multipole(\n",
    "        cosmo, name_xis_GNC_L0_noF_noobsvel_file,\n",
    "        10 .^ range(0, log10(2 * cosmo.s_max), length=500);\n",
    "        use_windows=false, L=0, alg=:quad, obs=:noobsvel,\n",
    "        single=true, enhancer=1e8,\n",
    "        N_trap=200, N_lob=200, atol_quad=0.0, rtol_quad=1e-2,\n",
    "        N_χs=100, N_χs_2=60\n",
    "    )\n",
    "end"
   ]
  },
  {
   "cell_type": "code",
   "execution_count": null,
   "id": "e8dd37bc-5bc4-4f5e-948e-7aa9eb1af0ac",
   "metadata": {},
   "outputs": [],
   "source": [
    "if COMPUTE_XIS_GNC == true\n",
    "    GaPSE.print_map_sum_ξ_GNC_multipole(\n",
    "        cosmo, name_xis_GNC_L1_noF_noobsvel_file,\n",
    "        10 .^ range(0, log10(2 * cosmo.s_max), length=500);\n",
    "        use_windows=false, L=1, alg=:lobatto, obs=:noobsvel,\n",
    "        single=true, enhancer=1e8,\n",
    "        N_trap=200, N_lob=1000, atol_quad=0.0, rtol_quad=1e-2,\n",
    "        N_χs=100, N_χs_2=50\n",
    "    )\n",
    "end"
   ]
  },
  {
   "cell_type": "code",
   "execution_count": null,
   "id": "2e9df462-5bd1-408f-b4fb-a5da79d53b13",
   "metadata": {},
   "outputs": [],
   "source": [
    "if COMPUTE_XIS_GNC == true\n",
    "    GaPSE.print_map_sum_ξ_GNC_multipole(\n",
    "        cosmo, name_xis_GNC_L2_noF_noobsvel_file,\n",
    "        10 .^ range(0, log10(2 * cosmo.s_max), length=500);\n",
    "        use_windows=false, L=2, alg=:quad, obs=:noobsvel,\n",
    "        single=true, enhancer=1e8,\n",
    "        N_trap=200, N_lob=1000, atol_quad=0.0, rtol_quad=1e-2,\n",
    "        N_χs=100, N_χs_2=50\n",
    "    )\n",
    "end"
   ]
  },
  {
   "cell_type": "code",
   "execution_count": null,
   "id": "114d6c1e-4047-4ec8-bdd7-55875eaf3bb4",
   "metadata": {},
   "outputs": [],
   "source": [
    "if COMPUTE_XIS_GNC == true\n",
    "    GaPSE.print_map_sum_ξ_GNC_multipole(\n",
    "        cosmo, name_xis_GNC_L3_noF_noobsvel_file,\n",
    "        10 .^ range(0, log10(2 * cosmo.s_max), length=500);\n",
    "        use_windows=false, L=3, alg=:lobatto, obs=:noobsvel,\n",
    "        single=true, enhancer=1e8,\n",
    "        N_trap=200, N_lob=1000, atol_quad=0.0, rtol_quad=1e-2,\n",
    "        N_χs=100, N_χs_2=50\n",
    "    )\n",
    "end"
   ]
  },
  {
   "cell_type": "code",
   "execution_count": null,
   "id": "b1a16066-dc50-43d1-b2ee-cb5da7892e31",
   "metadata": {},
   "outputs": [],
   "source": [
    "if COMPUTE_XIS_GNC == true\n",
    "    GaPSE.print_map_sum_ξ_GNC_multipole(\n",
    "        cosmo, name_xis_GNC_L4_noF_noobsvel_file,\n",
    "        10 .^ range(0, log10(2 * cosmo.s_max), length=500);\n",
    "        use_windows=false, L=4, alg=:lobatto, obs=:noobsvel,\n",
    "        single=true, enhancer=1e8,\n",
    "        N_trap=200, N_lob=1000, atol_quad=0.0, rtol_quad=1e-2,\n",
    "        N_χs=100, N_χs_2=50\n",
    "    )\n",
    "end"
   ]
  },
  {
   "cell_type": "markdown",
   "id": "5216fad6-cbad-48a3-bb1d-e213ad7c7dcf",
   "metadata": {
    "tags": []
   },
   "source": [
    "## create_file_for_XiMultipoles function"
   ]
  },
  {
   "cell_type": "markdown",
   "id": "132ef3ad-24b6-4f52-95c1-a8c6d193cd61",
   "metadata": {},
   "source": [
    "In order to use the function `PS_multipole_GenWin`, that computes the chosen monopole of the Power Spectrum for an arbitrary window function, we must have a SINGLE file containing all the TPCFs multipoles of the effect we are interested in. To obtain such a file, we will exploit another GaPSE function, i.e. \n",
    "\n",
    "As \"effect\" we consider the sum of all the 25 GNC TPCFs, which is the second column in each one of the 5 files we produced in the previous section. Of course, if you are interested in a specific effect, the procedure will not change: simply you will select the appropriate column number."
   ]
  },
  {
   "cell_type": "markdown",
   "id": "d374425e-e8d7-4d36-acfc-c319c3a00acc",
   "metadata": {},
   "source": [
    "```julia\n",
    "create_file_for_XiMultipoles(out::String, names::Vector{String}, \n",
    "          effect::Union{String, Integer}, group::String=\"GNC\"; \n",
    "          comments::Bool=true, xdt::DataType=Float64, ydt::DataType=Float64)\n",
    "```\n",
    "\n",
    "\n",
    "Read the column number `effect` (if is an Integer) or the one corresponding to the GR effect `effect`\n",
    "for the input group `group` (if is a String) from all the filenames stored in the Vector `names`, \n",
    "and save them in a file named `out`.\n",
    "\n",
    "The first column of `out` will be the same as the first column of the first filename in `names`; it\n",
    "is however checked internally if the first column of all the other files coincides with this one.\n",
    "The following columns of `out` follow the order in `names`. Note that `effect`, if passed as Integer,\n",
    "must be > 1 (because 1 is the index of the first column, used as x-axis).\n",
    "\n",
    "`group` must be one among the following: $(GaPSE.VALID_GROUPS)\n",
    "If `group=$(GaPSE.VALID_GROUPS[end])`, then `effect` must be an integer (because \n",
    "you are not selecting a specific effect in one of the native GaPSE groups).\n",
    "\n",
    "`xdt` and `ydt` are the data types to be used for respectively the first column and the 2-3-4-... columns \n",
    "of `out`.\n",
    "Set `comments=true` if the files in `names` start with a header that must be skipped (its lines must start with\n",
    "#, otherwise they will not be recognised as comments)."
   ]
  },
  {
   "cell_type": "code",
   "execution_count": null,
   "id": "2e03c4ec-0f69-4bef-b854-4a4267a7196e",
   "metadata": {},
   "outputs": [],
   "source": [
    "name_file_ximultipoles = DIR*\"xis_GNC_L01234_noF_noobsvel.txt\"\n",
    "\n",
    "vector_xis_names = [\n",
    "    name_xis_GNC_L0_noF_noobsvel_file,\n",
    "    name_xis_GNC_L1_noF_noobsvel_file,\n",
    "    name_xis_GNC_L2_noF_noobsvel_file,\n",
    "    name_xis_GNC_L3_noF_noobsvel_file,\n",
    "    name_xis_GNC_L4_noF_noobsvel_file,\n",
    "];\n",
    "\n",
    "GaPSE.create_file_for_XiMultipoles(name_file_ximultipoles, vector_xis_names, 2, \"GNC\");\n",
    "\n",
    "run(`head -n 18 $(name_file_ximultipoles)`)"
   ]
  },
  {
   "cell_type": "markdown",
   "id": "5496ac5a-a368-4601-8251-f989fd193a86",
   "metadata": {},
   "source": [
    "## PS_multipole_GenWin"
   ]
  },
  {
   "cell_type": "markdown",
   "id": "6888ccb6-573c-414d-aef2-2dde85b6e20b",
   "metadata": {},
   "source": [
    "It is now all set: we can compute the Power Spectrum for our generic window function, using as input the two files we produced to the GaPSE function `PS_multipole_GenWin`.\n",
    "\n",
    "```julia\n",
    "PS_multipole_GenWin(\n",
    "      ximult::Union{XiMultipoles,String}, genwin::Union{GenericWindow,String};\n",
    "      alg::Symbol=:fftlog, L::Int=0,\n",
    "      cut_first_n::Int=0, cut_last_n::Int=0,\n",
    "      kwargs...)\n",
    "```\n",
    "\n",
    "- `ximult::Union{XiMultipoles,String}` : Two-Point Correlation functions to be used in the computation. You can\n",
    "  provide either a `XiMultipoles` struct containing them or the String filename where they are stored (that will \n",
    "  be internally open with `XiMultipoles` too). \n",
    "  The file must have a structure analogous to the `genwin` one (explained before). You can use \n",
    "  `create_file_for_XiMultipoles` to produce such a file.\n",
    "\n",
    "- `genwin::Union{GenericWindow,String}` : multipoles $Q_{\\ell_1}$ of the generic window function you want \n",
    "  to consider. You can provide either a `GenericWindow` struct containing them or the String filename \n",
    "  where they are stored (that will be internally open with `GenericWindow` too). \n",
    "  The file must have the following structure explained before\n",
    "  \n",
    "All the other options (`kwargs...` included) are the same as for the \"standard\" `PS_multipole` explained in the `TUTORIAL.ipynb`.\n",
    "We give finally the practically usage:"
   ]
  },
  {
   "cell_type": "code",
   "execution_count": null,
   "id": "4b439ea1-8b04-4b55-b7b4-909ecdb89793",
   "metadata": {},
   "outputs": [],
   "source": [
    "ps_kwargs(alg::Symbol = :fftlog) = alg == :twofast ?\n",
    "    Dict(\n",
    "        :alg => :twofast, :epl => true, :pr => false, \n",
    "        :N_left => 12, :N_right => 12,\n",
    "        :p0_left => [-2.0, 1.0], :p0_right => [-2.0, 1.0],\n",
    "        :int_s_min => 1e0, :int_s_max => 1200.0,\n",
    "        :cut_first_n=>0, :cut_last_n => 0\n",
    "    ) : alg == :fftlog ?\n",
    "    Dict(\n",
    "        :alg => :fftlog, :pr=>true, :ν => 1.5, \n",
    "        :n_extrap_low => 0, :n_extrap_high => 0, \n",
    "        :n_pad => 500, :cut_first_n=>0, :cut_last_n => 0,\n",
    "    ) : throw(AssertionError(\"alg = :fftlog (recommended) or alg = :twofast !\"));\n",
    "tf = :fftlog;\n",
    "\n",
    "ks, pks = GaPSE.PS_multipole_GenWin(name_file_ximultipoles, name_file_Qmultipoles; L=0, ps_kwargs(:fftlog)...);\n",
    "#ks, pks = GaPSE.PS_multipole_GenWin(name_file_ximultipoles, \"../../GaPSE-free-ipynb/ARTICLE_RESULTS/ARTICLE_GenWin/QL_s_Lmax4.dat\"; \n",
    "#    L=0, ps_kwargs(:fftlog)...);\n",
    "plot(ks[pks.≠0],abs.(pks)[pks.≠0], axis=:log)"
   ]
  },
  {
   "cell_type": "markdown",
   "id": "c1dc6674-9cc2-4d86-b4b8-e909ad09c45b",
   "metadata": {},
   "source": [
    "We can compare the previous result with the \"standard one\" obtained exploting the analytical solution based on the properties of azimutally simmetric window fuction we are using. The Power Spectrum of the 25 GNC effects sum is stored in `ps_GNC_L0_withF_noobsvel_GenWin.txt`(there is also `xis_GNC_L0_withF_noobsvel_GenWin.txt` if you are interested).\n",
    "\n",
    "We must of course remember to divide the PS here computed by the normalization constant `all_Q_l1[1][1]`"
   ]
  },
  {
   "cell_type": "code",
   "execution_count": null,
   "id": "7dc2eaa0-9b72-434c-9ec4-6764907f9c49",
   "metadata": {},
   "outputs": [],
   "source": [
    "true_ks, true_pks, true_all_pks = GaPSE.readxyall(DIR*\"ps_GNC_L0_withF_noobsvel_GenWin.txt\");"
   ]
  },
  {
   "cell_type": "code",
   "execution_count": null,
   "id": "edf9b011-039c-47e3-9650-a36a91f38d97",
   "metadata": {},
   "outputs": [],
   "source": [
    "pyplot()\n",
    "\n",
    "xs_1 = ks\n",
    "ys_1 = pks ./ all_Q_l1[1][1]\n",
    "\n",
    "xs_2 = true_ks\n",
    "ys_2 = true_pks\n",
    "spline = Spline1D(xs_2, ys_2)\n",
    "\n",
    "\n",
    "S_VLIM = 2*π/(2*cosmo.s_max)\n",
    "S_VLIM_F = @sprintf(\"%.5f\", S_VLIM)\n",
    "\n",
    "p1 = plot([xs_1, xs_2], [abs.(ys_1), abs.(ys_2)],\n",
    "    xaxis=:log, yaxis=:log, grid=true, gridalpha=0.2,gridlinewidth=1,\n",
    "    yticks=[10.0^i for i in 2:5], tickfontsize = 10, labelfontsize=15,\n",
    "    xticks = (\n",
    "        vcat([a*10.0^b for b in -4:(-1) for a in 1:9], 10.0^0), \n",
    "        vcat([a==1 ? L\"10^{%$b}\" : nothing for b in -4:(-1) for a in 1:9], L\"10^{0}\")\n",
    "    ),\n",
    "    lc=[:red :blue], \n",
    "    title = \"Comparison PS L=0 withF, computed from Q_l1 and not\",\n",
    "    label=[\"Ql\" \"true\"], ls=[:solid :dash], \n",
    "    ylabel = L\"|P(k)| \\quad [h_0^{-3}\\,\\mathrm{Mpc}^3]\",\n",
    "    legend=:bottomleft)\n",
    "vline!(p1, [S_VLIM], label=\"$S_VLIM_F \" * L\" h_0^{-1}\\mathrm{Mpc}\", lc=:black, lw=0.5, ls=:dash)\n",
    "\n",
    "p2 = plot(xs_1, spline.(xs_1) ./ ys_1, \n",
    "    ylabel=\"Ratio\", lc=:green, \n",
    "    xaxis=:log,grid=true, gridalpha=0.2,gridlinewidth=1,\n",
    "    ylim=(0.8,1.2), \n",
    "    legend=false, \n",
    "    xticks = (\n",
    "        vcat([a*10.0^b for b in -4:(-1) for a in 1:9], 10.0^0), \n",
    "        vcat([a==1 ? L\"10^{%$b}\" : nothing for b in -4:(-1) for a in 1:9], L\"10^{0}\")\n",
    "    ),\n",
    "    #xlabel=L\"$k \\quad [h_0 \\,\\mathrm{Mpc}^{-1}]$\",\n",
    "    )\n",
    "vline!(p2, [S_VLIM], label=\"$S_VLIM_F \" * L\" h_0^{-1}\\mathrm{Mpc}\", lc=:black, lw=0.5, ls=:dash)\n",
    "\n",
    "p3 = plot(xs_1, abs.(spline.(xs_1) .- ys_1), \n",
    "    ylabel=\"Difference\", lc=:green, \n",
    "    axis=:log, grid=true, gridalpha=0.2,gridlinewidth=1,\n",
    "    #ylim=(0.0,2), \n",
    "    xticks = (\n",
    "        vcat([a*10.0^b for b in -4:(-1) for a in 1:9], 10.0^0), \n",
    "        vcat([a==1 ? L\"10^{%$b}\" : nothing for b in -4:(-1) for a in 1:9], L\"10^{0}\")\n",
    "    ),\n",
    "    legend=false, \n",
    "    xlabel=L\"$k \\quad [h_0 \\,\\mathrm{Mpc}^{-1}]$\")\n",
    "VAXES = 4e-3\n",
    "vline!(p3, [S_VLIM], label=\"$VAXES Mpc/h_0\", lc=:black, lw=0.5, ls=:dash)\n",
    "\n",
    "P = plot(p1, p2, p3, size=(600, 800), layout= @layout [ x ; y ; z ] )\n",
    "#savefig(P, DIR*\"ps_comparison.pdf\")\n",
    "#display(P)"
   ]
  },
  {
   "cell_type": "markdown",
   "id": "8e371bd2-cd06-4846-84bf-3efb7ffc8c85",
   "metadata": {},
   "source": [
    "The two curves are very similar, and the differences are easily explained:\n",
    "- The $<5\\%$ difference at small $k$s it's due to the fact that the TPCFs should be computed further than $2 \\, s_{\\mathrm{max}}$ when you want to use this PS formula; if you also expand them with a power law for greater $s$ values, this difference disappear. Also it's worth to mention that such difference affects the PS outside the minimum $k$ inside the survey (equals to $k_{\\mathrm{min}} = 2 \\pi / (2 \\, s_{\\mathrm{max}})$, and showed with a black dashed vertical line in the plot)\n",
    "- the $>10\\%$ difference at large $k$s it's instead related with the minimum sampled comoving distance value for the TPCFs, which is $1 \\, h_0^{-1}\\mathrm{Mpc}$; consequently, for $k > 2 \\pi/(1 h_0^{-1}\\mathrm{Mpc}) \\simeq 6 h_0 \\mathrm{Mpc}^{-1}$ the PS doesn't exist anymore, and the close you get to that limit the more the PS is affected by such artefact. Again, if you expand the TPCFs further to 0 (i.e. set `:n_extrap_high => 100` in the fftlog options, for example), the problem disappear."
   ]
  },
  {
   "cell_type": "code",
   "execution_count": null,
   "id": "73afb50b-92c6-48e9-a2e1-f6222be3725e",
   "metadata": {},
   "outputs": [],
   "source": []
  }
 ],
 "metadata": {
  "kernelspec": {
   "display_name": "Julia 1.8.3",
   "language": "julia",
   "name": "julia-1.8"
  },
  "language_info": {
   "file_extension": ".jl",
   "mimetype": "application/julia",
   "name": "julia",
   "version": "1.8.3"
  }
 },
 "nbformat": 4,
 "nbformat_minor": 5
}
