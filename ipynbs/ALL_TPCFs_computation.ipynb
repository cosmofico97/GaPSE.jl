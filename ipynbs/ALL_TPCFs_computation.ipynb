{
 "cells": [
  {
   "cell_type": "markdown",
   "id": "be6f9a70-7659-4dfa-833c-b22df9d8eae6",
   "metadata": {},
   "source": [
    "This file is part of GaPSE\n",
    "Copyright (C) 2022 Matteo Foglieni\n",
    "\n",
    "GaPSE is free software: you can redistribute it and/or modify\n",
    "it under the terms of the GNU General Public License as published by\n",
    "the Free Software Foundation, either version 3 of the License, or\n",
    "(at your option) any later version.\n",
    "\n",
    "GaPSE is distributed in the hope that it will be useful, but\n",
    "WITHOUT ANY WARRANTY; without even the implied warranty of\n",
    "MERCHANTABILITY or FITNESS FOR A PARTICULAR PURPOSE. See the GNU\n",
    "General Public License for more details.\n",
    "\n",
    "You should have received a copy of the GNU General Public License\n",
    "along with GaPSE. If not, see <http://www.gnu.org/licenses/>.\n",
    "```\n",
    "\n",
    "\n",
    "```"
   ]
  },
  {
   "cell_type": "markdown",
   "id": "151c1093-edee-4099-aaf0-4989fa4c15e5",
   "metadata": {},
   "source": [
    "# Practical example"
   ]
  },
  {
   "cell_type": "markdown",
   "id": "c47189ef-2b80-4605-89cf-e487dc443800",
   "metadata": {},
   "source": [
    "This notebook provides a practival example of how compute all the Two-Point Correlation Functions (TPCFs) concerninf the Luminosity Distance (LD) preturbations and relativistic Galaxy Number Counts (GNC). They are splitted in:\n",
    "- 16 TPCFs for LDxLD\n",
    "- 25 TPCFs for GNCxGNC\n",
    "- 20 TPCFs for GNCxLD\n",
    "- 20 TPCFs for LDxGNC"
   ]
  },
  {
   "cell_type": "markdown",
   "id": "8329037a-0b5a-40b2-9a8a-eedb45cfdd11",
   "metadata": {
    "tags": []
   },
   "source": [
    "## Basics and Cosmology parameters implementation"
   ]
  },
  {
   "cell_type": "code",
   "execution_count": 1,
   "id": "4de68061-65c2-4d5a-97b0-26e2bda0257e",
   "metadata": {},
   "outputs": [],
   "source": [
    "PATH_TO_GAPSE = \"../\";"
   ]
  },
  {
   "cell_type": "code",
   "execution_count": 2,
   "id": "9e58b4be-20ac-47f2-a7c6-1e06ecdd50a6",
   "metadata": {},
   "outputs": [],
   "source": [
    "include(PATH_TO_GAPSE * \"src/GaPSE.jl\");"
   ]
  },
  {
   "cell_type": "code",
   "execution_count": 3,
   "id": "0cc05c54-3834-4625-abe2-f58dfbb2b2ee",
   "metadata": {},
   "outputs": [],
   "source": [
    "using DelimitedFiles, Plots, Dierckx, SpecialFunctions\n",
    "using Printf, LaTeXStrings"
   ]
  },
  {
   "cell_type": "code",
   "execution_count": 4,
   "id": "cb9eb2cc-f91d-455d-bb7f-9525e8d386ba",
   "metadata": {},
   "outputs": [],
   "source": [
    "FILE_BACKGROUND = PATH_TO_GAPSE * \"data/WideA_ZA_background.dat\"\n",
    "\n",
    "z_min, z_max, θ_max = 0.05, 0.20, π / 2.0\n",
    "params = GaPSE.CosmoParams(z_min, z_max, θ_max;\n",
    "    Ω_b = 0.0489, Ω_cdm = 0.251020, h_0 = 0.70, s_lim=1e-2,\n",
    "    s_b = 0.0, 𝑓_evo = 0.0, b = 1.0,\n",
    "    IPS_opts = Dict(\n",
    "        :fit_left_min => 1e-6, :fit_left_max => 3e-6,\n",
    "        :fit_right_min => 1e1, :fit_right_max => 2e1),\n",
    "    IPSTools_opts = Dict(\n",
    "        :N => 1024, :fit_min => 0.05, :fit_max => 0.5, \n",
    "        :con => true, :k_min => 1e-8, :k_max => 10.0),\n",
    "    WFI_opts = Dict(\n",
    "        :llim => 0.0, :rlim => Inf, :N => 1000,\n",
    "         :trap => true, :rtol => 1e-2, :atol => 0.0,\n",
    "         :ss_start => 0.0, :ss_step => 10.0,\n",
    "         :ss_stop => 0.0),\n",
    ");"
   ]
  },
  {
   "cell_type": "markdown",
   "id": "499f3340-a951-4565-a23a-b09ad81c78f0",
   "metadata": {
    "tags": []
   },
   "source": [
    "## Window F and Integrated window F computation"
   ]
  },
  {
   "cell_type": "code",
   "execution_count": 5,
   "id": "aa28cd7f-c145-49bd-9242-046cb50a5e80",
   "metadata": {},
   "outputs": [
    {
     "name": "stderr",
     "output_type": "stream",
     "text": [
      "\u001b[32mwindow F evaluation: 100%|██████████████████████████████| Time: 0:24:23\u001b[39m\n"
     ]
    }
   ],
   "source": [
    "calc_xs = [x for x in 0:0.01:5];\n",
    "calc_μs = union([μ for μ in -1.0:0.01:(-0.9)], \n",
    "        [μ for μ in -0.9:0.05:0.9], \n",
    "        [μ for μ in 0.9:0.01:1.0]);\n",
    "\n",
    "name_F = \"data/F.txt\"\n",
    "\n",
    "GaPSE.print_map_F(PATH_TO_GAPSE * name_F, \n",
    "    calc_xs, calc_μs; trapz = true, \n",
    "    Fmap_opts = Dict(\n",
    "        :θ_max => θ_max, :tolerance => 1e-8, \n",
    "        :N => 1000, :pr => true,\n",
    "        #:rtol => 1e-2, :atol => 1e-3,\n",
    "    )\n",
    ")"
   ]
  },
  {
   "cell_type": "code",
   "execution_count": 6,
   "id": "5dec5846-f5f1-423e-b893-d5f7dafc9ad6",
   "metadata": {},
   "outputs": [
    {
     "name": "stderr",
     "output_type": "stream",
     "text": [
      "\u001b[32mcalculating intF: 100%|█████████████████████████████████| Time: 0:00:09\u001b[39m\n"
     ]
    }
   ],
   "source": [
    "new_calc_μs = union([μ for μ in -1.0:0.01:(-0.9)], \n",
    "        [μ for μ in -0.9:0.05:0.9], \n",
    "        [μ for μ in 0.9:0.01:1.0]);\n",
    "name_intF = \"data/IntF.txt\"\n",
    "\n",
    "GaPSE.print_map_IntegratedF(\n",
    "    PATH_TO_GAPSE * name_F, \n",
    "    PATH_TO_GAPSE * name_intF, \n",
    "    z_min, z_max, new_calc_μs, FILE_BACKGROUND;\n",
    "    trap = true, Dict(\n",
    "        :ss_start => 100, :ss_stop => 500, \n",
    "        :ss_step => 50, :llim => 0.0, :rlim => Inf, \n",
    "        :rtol => 5e-2, :atol => 0.0, :N => 300, :pr => true,\n",
    "    )...\n",
    ")"
   ]
  },
  {
   "cell_type": "markdown",
   "id": "992f84bb-42a4-4245-ae44-7a6199f03fd2",
   "metadata": {
    "jp-MarkdownHeadingCollapsed": true,
    "tags": []
   },
   "source": [
    "## Cosmology implementation"
   ]
  },
  {
   "cell_type": "code",
   "execution_count": 7,
   "id": "c6e059ad-b943-4c16-8dfc-b185bd854684",
   "metadata": {},
   "outputs": [
    {
     "name": "stdout",
     "output_type": "stream",
     "text": [
      "###############\n",
      "#    GaPSE    #\n",
      "############### \n",
      "#\n",
      "# The Cosmology considered had the following paremeters:\n",
      "# \n",
      "# - Matter Power Spectrum input file: \"../test/datatest/file_pk.txt\"\n",
      "# - F window function input file: \"../data/F.txt\"\n",
      "# - Background data input file: \"../data/WideA_ZA_background.dat\"\n",
      "#\n",
      "# - Basic CosmoParams considered: \n",
      "#\t z_min = 0.05 \t z_max = 0.2\n",
      "#\t θ_max = 1.5707963267948966 [rad] \t h_0 = 0.7\n",
      "#\t Ω_b = 0.0489 \t Ω_cdm = 0.25102 \t Ω_M0 = 0.29992\n",
      "#\t b = 1.0 \t 𝑓_evo = 0.0 \t s_b = 0.0\n",
      "#\n",
      "# - CosmoParams about the Input Power Spectrum: \n",
      "#\t fit_left_min = 1.0e-6 \t fit_right_min = 10.0 \t \n",
      "#\t fit_left_max = 3.0e-6 \t fit_right_max = 20.0 \t \n",
      "#\n",
      "# - CosmoParams about the Input Power Spectrum Tools: \n",
      "#\t k_max = 10.0 \t fit_max = 0.5 \t N = 1024 \t \n",
      "#\t con = true \t k_min = 1.0e-8 \t fit_min = 0.05 \t \n",
      "#\n",
      "# - CosmoParams about the Integrated Window Function F: \n",
      "#\t ss_step = 10.0 \t N = 1000 \t rtol = 0.01 \t \n",
      "#\t llim = 0.0 \t atol = 0.0 \t rlim = Inf \t \n",
      "#\t ss_stop = 0.0 \t trap = true \t ss_start = 0.0 \t \n",
      "#\n",
      "# - Computed quantities: \n",
      "# \t effective redshift z_eff = 0.15045636096023224 \n",
      "# \t comoving s_min = 148.1920001465757 Mpc/h_0\n",
      "# \t comoving s_max = 571.7022420258767 Mpc/h_0\n",
      "# \t comoving s_eff = 435.3747095690664 Mpc/h_0\n",
      "# \t Volume of the survey V_survey = 3.845366167995967e8 Mpc^3/h_0^3\n",
      "# \t σ_0 = 15.593462966741178\n",
      "# \t σ_1 = 15.074895881392285\n",
      "# \t σ_2 = 100.85852368830226\n",
      "# \t σ_3 = 3735.1226181519773\n",
      "# \t (where σ_i = \\int_{k_{min}}^{k_{max}}\\frac{dq}{2 π^2} q^{2-i} P(q))\n",
      "# \n"
     ]
    }
   ],
   "source": [
    "#FILE_F_MAP = PATH_TO_GAPSE * \"data/F_REFERENCE_pi2.txt\"\n",
    "#FILE_IF_MAP = PATH_TO_GAPSE * \"data/IntegrF_REFERENCE_pi2.txt\"\n",
    "FILE_PS = PATH_TO_GAPSE * \"test/datatest/file_pk.txt\"\n",
    "\n",
    "cosmo = GaPSE.Cosmology(params, FILE_BACKGROUND, FILE_PS, \n",
    "    PATH_TO_GAPSE * name_F, PATH_TO_GAPSE * name_intF)\n",
    "\n",
    "GaPSE.parameters_used(stdout, cosmo)"
   ]
  },
  {
   "cell_type": "markdown",
   "id": "88ca8721-b604-426b-84b8-31e6c1acf435",
   "metadata": {
    "tags": []
   },
   "source": [
    "## LD TPCFs Computation "
   ]
  },
  {
   "cell_type": "code",
   "execution_count": 10,
   "id": "c4401e95-e7c4-4157-8fb0-9d939a714649",
   "metadata": {},
   "outputs": [
    {
     "name": "stderr",
     "output_type": "stream",
     "text": [
      "\u001b[32mauto_doppler, L=0: 100%|████████████████████████████████| Time: 0:00:00\u001b[39m\n",
      "\u001b[32mauto_lensing, L=0: 100%|████████████████████████████████| Time: 0:01:59\u001b[39m\n",
      "\u001b[32mauto_localgp, L=0: 100%|████████████████████████████████| Time: 0:00:00\u001b[39m\n",
      "\u001b[32mauto_integratedgp, L=0: 100%|███████████████████████████| Time: 0:00:09\u001b[39m\n",
      "\u001b[32mlensing_doppler, L=0: 100%|█████████████████████████████| Time: 0:00:03\u001b[39m\n",
      "\u001b[32mdoppler_lensing, L=0: 100%|█████████████████████████████| Time: 0:00:02\u001b[39m\n",
      "\u001b[32mdoppler_localgp, L=0: 100%|█████████████████████████████| Time: 0:00:00\u001b[39m\n",
      "\u001b[32mlocalgp_doppler, L=0: 100%|█████████████████████████████| Time: 0:00:00\u001b[39m\n",
      "\u001b[32mdoppler_integratedgp, L=0: 100%|████████████████████████| Time: 0:00:01\u001b[39m\n",
      "\u001b[32mintegratedgp_doppler, L=0: 100%|████████████████████████| Time: 0:00:01\u001b[39m\n",
      "\u001b[32mlensing_localgp, L=0: 100%|█████████████████████████████| Time: 0:00:02\u001b[39m\n",
      "\u001b[32mlocalgp_lensing, L=0: 100%|█████████████████████████████| Time: 0:00:01\u001b[39m\n",
      "\u001b[32mlensing_integratedgp, L=0: 100%|████████████████████████| Time: 0:00:12\u001b[39m\n",
      "\u001b[32mintegratedgp_lensing, L=0: 100%|████████████████████████| Time: 0:00:12\u001b[39m\n",
      "\u001b[32mlocalgp_integratedgp, L=0: 100%|████████████████████████| Time: 0:00:01\u001b[39m\n",
      "\u001b[32mintegratedgp_localgp, L=0: 100%|████████████████████████| Time: 0:00:01\u001b[39m\n"
     ]
    },
    {
     "name": "stdout",
     "output_type": "stream",
     "text": [
      "\n",
      "time needed for map_sum_ξ_LD_multipole [in s] = 173.60419 \n",
      "\n"
     ]
    }
   ],
   "source": [
    "GaPSE.print_map_sum_ξ_LD_multipole(\n",
    "    cosmo, \"map_sum_xis_LD_L0_noF.txt\", \n",
    "    10 .^ range(0, 3, length = 300);\n",
    "    L = 0, use_windows = false, \n",
    "    enhancer = 1e8, single = true, N_μs = 30, μ_atol = 0.0, \n",
    "    μ_rtol = 1e-2, N_χs = 100, N_χs_2 = 60);"
   ]
  },
  {
   "cell_type": "code",
   "execution_count": 11,
   "id": "5d9e4160-ff51-49a8-b549-f86054ac59b2",
   "metadata": {},
   "outputs": [
    {
     "name": "stderr",
     "output_type": "stream",
     "text": [
      "\u001b[32mauto_lensing, L=0: 100%|████████████████████████████████| Time: 0:01:36\u001b[39m\n",
      "\u001b[32mauto_integratedgp, L=0: 100%|███████████████████████████| Time: 0:00:13\u001b[39m\n",
      "\u001b[32mlensing_doppler, L=0: 100%|█████████████████████████████| Time: 0:00:03\u001b[39m\n",
      "\u001b[32mdoppler_lensing, L=0: 100%|█████████████████████████████| Time: 0:00:02\u001b[39m\n",
      "\u001b[32mdoppler_localgp, L=0: 100%|█████████████████████████████| Time: 0:00:00\u001b[39m\n",
      "\u001b[32mlocalgp_doppler, L=0: 100%|█████████████████████████████| Time: 0:00:00\u001b[39m\n",
      "\u001b[32mdoppler_integratedgp, L=0: 100%|████████████████████████| Time: 0:00:01\u001b[39m\n",
      "\u001b[32mintegratedgp_doppler, L=0: 100%|████████████████████████| Time: 0:00:01\u001b[39m\n",
      "\u001b[32mlensing_localgp, L=0: 100%|█████████████████████████████| Time: 0:00:02\u001b[39m\n",
      "\u001b[32mlocalgp_lensing, L=0: 100%|█████████████████████████████| Time: 0:00:01\u001b[39m\n",
      "\u001b[32mlensing_integratedgp, L=0: 100%|████████████████████████| Time: 0:00:24\u001b[39m\n",
      "\u001b[32mintegratedgp_lensing, L=0: 100%|████████████████████████| Time: 0:00:23\u001b[39m\n",
      "\u001b[32mlocalgp_integratedgp, L=0: 100%|████████████████████████| Time: 0:00:01\u001b[39m\n",
      "\u001b[32mintegratedgp_localgp, L=0: 100%|████████████████████████| Time: 0:00:01\u001b[39m\n"
     ]
    },
    {
     "name": "stdout",
     "output_type": "stream",
     "text": [
      "\n",
      "time needed for map_sum_ξ_LD_multipole [in s] = 174.32165 \n",
      "\n"
     ]
    }
   ],
   "source": [
    "GaPSE.print_map_sum_ξ_LD_multipole(\n",
    "    cosmo, \"map_sum_xis_LD_L0_withF.txt\", \n",
    "    10 .^ range(0, 3, length = 300);\n",
    "    L = 0, use_windows = true, \n",
    "    enhancer = 1e8, single = true, N_μs = 30, μ_atol = 0.0, \n",
    "    μ_rtol = 1e-2, N_χs = 100, N_χs_2 = 60);"
   ]
  },
  {
   "cell_type": "markdown",
   "id": "d405f1ac-f22a-419a-be41-89a3bd3b4cda",
   "metadata": {
    "jp-MarkdownHeadingCollapsed": true,
    "tags": []
   },
   "source": [
    "## GNC TPCFs Computation "
   ]
  },
  {
   "cell_type": "code",
   "execution_count": 12,
   "id": "3a92ad3c-9469-4995-b8b1-5501fae0581d",
   "metadata": {},
   "outputs": [
    {
     "name": "stderr",
     "output_type": "stream",
     "text": [
      "\u001b[32mauto_newton, L=0: 100%|█████████████████████████████████| Time: 0:00:00\u001b[39m\n",
      "\u001b[32mauto_doppler, L=0: 100%|████████████████████████████████| Time: 0:00:00\u001b[39m\n",
      "\u001b[32mauto_lensing, L=0: 100%|████████████████████████████████| Time: 0:02:33\u001b[39m\n",
      "\u001b[32mauto_localgp, L=0: 100%|████████████████████████████████| Time: 0:00:00\u001b[39m\n",
      "\u001b[32mauto_integratedgp, L=0: 100%|███████████████████████████| Time: 0:00:09\u001b[39m\n",
      "\u001b[32mnewton_doppler, L=0: 100%|██████████████████████████████| Time: 0:00:00\u001b[39m\n",
      "\u001b[32mdoppler_newton, L=0: 100%|██████████████████████████████| Time: 0:00:00\u001b[39m\n",
      "\u001b[32mnewton_lensing, L=0: 100%|██████████████████████████████| Time: 0:00:08\u001b[39m\n",
      "\u001b[32mlensing_newton, L=0: 100%|██████████████████████████████| Time: 0:00:06\u001b[39m\n",
      "\u001b[32mnewton_localgp, L=0: 100%|██████████████████████████████| Time: 0:00:00\u001b[39m\n",
      "\u001b[32mlocalgp_newton, L=0: 100%|██████████████████████████████| Time: 0:00:00\u001b[39m\n",
      "\u001b[32mnewton_integratedgp, L=0: 100%|█████████████████████████| Time: 0:00:01\u001b[39m\n",
      "\u001b[32mintegratedgp_newton, L=0: 100%|█████████████████████████| Time: 0:00:01\u001b[39m\n",
      "\u001b[32mlensing_doppler, L=0: 100%|█████████████████████████████| Time: 0:00:03\u001b[39m\n",
      "\u001b[32mdoppler_lensing, L=0: 100%|█████████████████████████████| Time: 0:00:02\u001b[39m\n",
      "\u001b[32mdoppler_localgp, L=0: 100%|█████████████████████████████| Time: 0:00:00\u001b[39m\n",
      "\u001b[32mlocalgp_doppler, L=0: 100%|█████████████████████████████| Time: 0:00:00\u001b[39m\n",
      "\u001b[32mdoppler_integratedgp, L=0: 100%|████████████████████████| Time: 0:00:01\u001b[39m\n",
      "\u001b[32mintegratedgp_doppler, L=0: 100%|████████████████████████| Time: 0:00:02\u001b[39m\n",
      "\u001b[32mlensing_localgp, L=0: 100%|█████████████████████████████| Time: 0:00:02\u001b[39m\n",
      "\u001b[32mlocalgp_lensing, L=0: 100%|█████████████████████████████| Time: 0:00:02\u001b[39m\n",
      "\u001b[32mlensing_integratedgp, L=0: 100%|████████████████████████| Time: 0:00:12\u001b[39m\n",
      "\u001b[32mintegratedgp_lensing, L=0: 100%|████████████████████████| Time: 0:00:13\u001b[39m\n",
      "\u001b[32mlocalgp_integratedgp, L=0: 100%|████████████████████████| Time: 0:00:01\u001b[39m\n",
      "\u001b[32mintegratedgp_localgp, L=0: 100%|████████████████████████| Time: 0:00:01\u001b[39m\n"
     ]
    },
    {
     "name": "stdout",
     "output_type": "stream",
     "text": [
      "\n",
      "time needed for map_sum_ξ_GNC_multipole [in s] = 231.69391 \n",
      "\n"
     ]
    }
   ],
   "source": [
    "GaPSE.print_map_sum_ξ_GNC_multipole(\n",
    "    cosmo, \"map_sum_xis_GNC_L0_noF.txt\", \n",
    "    10 .^ range(0, 3, length = 300);\n",
    "    L = 0, use_windows = false, \n",
    "    enhancer = 1e8, single = true, N_μs = 30, μ_atol = 0.0, \n",
    "    μ_rtol = 1e-2, N_χs = 100, N_χs_2 = 60);"
   ]
  },
  {
   "cell_type": "code",
   "execution_count": 13,
   "id": "c179c455-fd5b-4100-98a2-9358accfb006",
   "metadata": {},
   "outputs": [
    {
     "name": "stderr",
     "output_type": "stream",
     "text": [
      "\u001b[32mauto_newton, L=0: 100%|█████████████████████████████████| Time: 0:00:00\u001b[39m\n",
      "\u001b[32mauto_lensing, L=0: 100%|████████████████████████████████| Time: 0:01:39\u001b[39m\n",
      "\u001b[32mauto_integratedgp, L=0: 100%|███████████████████████████| Time: 0:00:13\u001b[39m\n",
      "\u001b[32mnewton_doppler, L=0: 100%|██████████████████████████████| Time: 0:00:00\u001b[39m\n",
      "\u001b[32mdoppler_newton, L=0: 100%|██████████████████████████████| Time: 0:00:00\u001b[39m\n",
      "\u001b[32mnewton_lensing, L=0: 100%|██████████████████████████████| Time: 0:00:05\u001b[39m\n",
      "\u001b[32mlensing_newton, L=0: 100%|██████████████████████████████| Time: 0:00:05\u001b[39m\n",
      "\u001b[32mnewton_integratedgp, L=0: 100%|█████████████████████████| Time: 0:00:01\u001b[39m\n",
      "\u001b[32mintegratedgp_newton, L=0: 100%|█████████████████████████| Time: 0:00:02\u001b[39m\n",
      "\u001b[32mlensing_doppler, L=0: 100%|█████████████████████████████| Time: 0:00:03\u001b[39m\n",
      "\u001b[32mdoppler_lensing, L=0: 100%|█████████████████████████████| Time: 0:00:02\u001b[39m\n",
      "\u001b[32mdoppler_localgp, L=0: 100%|█████████████████████████████| Time: 0:00:00\u001b[39m\n",
      "\u001b[32mlocalgp_doppler, L=0: 100%|█████████████████████████████| Time: 0:00:00\u001b[39m\n",
      "\u001b[32mdoppler_integratedgp, L=0: 100%|████████████████████████| Time: 0:00:02\u001b[39m\n",
      "\u001b[32mintegratedgp_doppler, L=0: 100%|████████████████████████| Time: 0:00:02\u001b[39m\n",
      "\u001b[32mlensing_localgp, L=0: 100%|█████████████████████████████| Time: 0:00:03\u001b[39m\n",
      "\u001b[32mlocalgp_lensing, L=0: 100%|█████████████████████████████| Time: 0:00:02\u001b[39m\n",
      "\u001b[32mlensing_integratedgp, L=0: 100%|████████████████████████| Time: 0:00:25\u001b[39m\n",
      "\u001b[32mintegratedgp_lensing, L=0: 100%|████████████████████████| Time: 0:00:23\u001b[39m\n",
      "\u001b[32mlocalgp_integratedgp, L=0: 100%|████████████████████████| Time: 0:00:01\u001b[39m\n",
      "\u001b[32mintegratedgp_localgp, L=0: 100%|████████████████████████| Time: 0:00:01\u001b[39m\n"
     ]
    },
    {
     "name": "stdout",
     "output_type": "stream",
     "text": [
      "\n",
      "time needed for map_sum_ξ_GNC_multipole [in s] = 200.53506 \n",
      "\n"
     ]
    }
   ],
   "source": [
    "GaPSE.print_map_sum_ξ_GNC_multipole(\n",
    "    cosmo, \"map_sum_xis_GNC_L0_withF.txt\", \n",
    "    10 .^ range(0, 3, length = 300);\n",
    "    L = 0, use_windows = true, \n",
    "    enhancer = 1e8, single = true, N_μs = 30, μ_atol = 0.0, \n",
    "    μ_rtol = 1e-2, N_χs = 100, N_χs_2 = 60);"
   ]
  },
  {
   "cell_type": "markdown",
   "id": "c959fac9-b984-4428-810c-56cfeebe757e",
   "metadata": {
    "jp-MarkdownHeadingCollapsed": true,
    "tags": []
   },
   "source": [
    "## GNCxLD TPCFs Computation "
   ]
  },
  {
   "cell_type": "code",
   "execution_count": null,
   "id": "db10752e-d869-4225-ac65-8ea7328bfe9e",
   "metadata": {},
   "outputs": [
    {
     "ename": "LoadError",
     "evalue": "UndefVarError: DIR not defined",
     "output_type": "error",
     "traceback": [
      "UndefVarError: DIR not defined",
      "",
      "Stacktrace:",
      " [1] top-level scope",
      "   @ In[1]:1",
      " [2] eval",
      "   @ ./boot.jl:368 [inlined]",
      " [3] include_string(mapexpr::typeof(REPL.softscope), mod::Module, code::String, filename::String)",
      "   @ Base ./loading.jl:1428"
     ]
    }
   ],
   "source": [
    "GaPSE.print_map_sum_ξ_GNCxLD_multipole(\n",
    "    cosmo, \"map_sum_xis_GNCxLD_L0_noF.txt\", \n",
    "    10 .^ range(0, 3, length = 300);\n",
    "    L = 0, use_windows = false, \n",
    "    enhancer = 1e8, single = true, N_μs = 30, μ_atol = 0.0, \n",
    "    μ_rtol = 1e-2, N_χs = 100, N_χs_2 = 60);"
   ]
  },
  {
   "cell_type": "code",
   "execution_count": 15,
   "id": "44b6bc36-80ae-4d01-b818-a72089f5bc60",
   "metadata": {},
   "outputs": [
    {
     "name": "stderr",
     "output_type": "stream",
     "text": [
      "\u001b[32mnewton_doppler, L=0: 100%|██████████████████████████████| Time: 0:00:00\u001b[39m\n",
      "\u001b[32mnewton_lensing, L=0: 100%|██████████████████████████████| Time: 0:00:05\u001b[39m\n",
      "\u001b[32mnewton_integratedgp, L=0: 100%|█████████████████████████| Time: 0:00:01\u001b[39m\n",
      "\u001b[32mdoppler_lensing, L=0: 100%|█████████████████████████████| Time: 0:00:02\u001b[39m\n",
      "\u001b[32mdoppler_localgp, L=0: 100%|█████████████████████████████| Time: 0:00:00\u001b[39m\n",
      "\u001b[32mdoppler_integratedgp, L=0: 100%|████████████████████████| Time: 0:00:01\u001b[39m\n",
      "\u001b[32mlensing_doppler, L=0: 100%|█████████████████████████████| Time: 0:00:03\u001b[39m\n",
      "\u001b[32mlensing_lensing, L=0: 100%|█████████████████████████████| Time: 0:01:52\u001b[39m\n",
      "\u001b[32mlensing_localgp, L=0: 100%|█████████████████████████████| Time: 0:00:02\u001b[39m\n",
      "\u001b[32mlensing_integratedgp, L=0: 100%|████████████████████████| Time: 0:00:24\u001b[39m\n",
      "\u001b[32mlocalgp_doppler, L=0: 100%|█████████████████████████████| Time: 0:00:00\u001b[39m\n",
      "\u001b[32mlocalgp_lensing, L=0: 100%|█████████████████████████████| Time: 0:00:02\u001b[39m\n",
      "\u001b[32mlocalgp_integratedgp, L=0: 100%|████████████████████████| Time: 0:00:01\u001b[39m\n",
      "\u001b[32mintegratedgp_doppler, L=0: 100%|████████████████████████| Time: 0:00:01\u001b[39m\n",
      "\u001b[32mintegratedgp_lensing, L=0: 100%|████████████████████████| Time: 0:00:23\u001b[39m\n",
      "\u001b[32mintegratedgp_localgp, L=0: 100%|████████████████████████| Time: 0:00:01\u001b[39m\n",
      "\u001b[32mintegratedgp_integratedgp, L=0: 100%|███████████████████| Time: 0:00:13\u001b[39m\n"
     ]
    },
    {
     "name": "stdout",
     "output_type": "stream",
     "text": [
      "\n",
      "time needed for map_sum_ξ_GNCxLD_multipole [in s] = 200.73078 \n",
      "\n"
     ]
    }
   ],
   "source": [
    "GaPSE.print_map_sum_ξ_GNCxLD_multipole(\n",
    "    cosmo, \"map_sum_xis_GNCxLD_L0_withF.txt\", \n",
    "    10 .^ range(0, 3, length = 300);\n",
    "    L = 0, use_windows = true, \n",
    "    enhancer = 1e8, single = true, N_μs = 30, μ_atol = 0.0, \n",
    "    μ_rtol = 1e-2, N_χs = 100, N_χs_2 = 60);"
   ]
  },
  {
   "cell_type": "markdown",
   "id": "ba9b9f57-3384-4166-b526-434c821a3434",
   "metadata": {
    "jp-MarkdownHeadingCollapsed": true,
    "tags": []
   },
   "source": [
    "## LDxGNC TPCFs Computation "
   ]
  },
  {
   "cell_type": "code",
   "execution_count": 16,
   "id": "c1f70a03-cc59-4ef7-898c-4b9ac1ca2c01",
   "metadata": {},
   "outputs": [
    {
     "name": "stderr",
     "output_type": "stream",
     "text": [
      "\u001b[32mdoppler_newton, L=0: 100%|██████████████████████████████| Time: 0:00:00\u001b[39m\n",
      "\u001b[32mlensing_newton, L=0: 100%|██████████████████████████████| Time: 0:00:06\u001b[39m\n",
      "\u001b[32mlocalgp_newton, L=0: 100%|██████████████████████████████| Time: 0:00:00\u001b[39m\n",
      "\u001b[32mintegratedgp_newton, L=0: 100%|█████████████████████████| Time: 0:00:01\u001b[39m\n",
      "\u001b[32mdoppler_doppler, L=0: 100%|█████████████████████████████| Time: 0:00:00\u001b[39m\n",
      "\u001b[32mlensing_doppler, L=0: 100%|█████████████████████████████| Time: 0:00:03\u001b[39m\n",
      "\u001b[32mlocalgp_doppler, L=0: 100%|█████████████████████████████| Time: 0:00:00\u001b[39m\n",
      "\u001b[32mintegratedgp_doppler, L=0: 100%|████████████████████████| Time: 0:00:01\u001b[39m\n",
      "\u001b[32mdoppler_lensing, L=0: 100%|█████████████████████████████| Time: 0:00:02\u001b[39m\n",
      "\u001b[32mlensing_lensing, L=0: 100%|█████████████████████████████| Time: 0:01:59\u001b[39m\n",
      "\u001b[32mlocalgp_lensing, L=0: 100%|█████████████████████████████| Time: 0:00:01\u001b[39m\n",
      "\u001b[32mintegratedgp_lensing, L=0: 100%|████████████████████████| Time: 0:00:13\u001b[39m\n",
      "\u001b[32mdoppler_localgp, L=0: 100%|█████████████████████████████| Time: 0:00:00\u001b[39m\n",
      "\u001b[32mlensing_localgp, L=0: 100%|█████████████████████████████| Time: 0:00:02\u001b[39m\n",
      "\u001b[32mlocalgp_localgp, L=0: 100%|█████████████████████████████| Time: 0:00:00\u001b[39m\n",
      "\u001b[32mintegratedgp_localgp, L=0: 100%|████████████████████████| Time: 0:00:01\u001b[39m\n",
      "\u001b[32mdoppler_integratedgp, L=0: 100%|████████████████████████| Time: 0:00:01\u001b[39m\n",
      "\u001b[32mlensing_integratedgp, L=0: 100%|████████████████████████| Time: 0:00:11\u001b[39m\n",
      "\u001b[32mlocalgp_integratedgp, L=0: 100%|████████████████████████| Time: 0:00:01\u001b[39m\n",
      "\u001b[32mintegratedgp_integratedgp, L=0: 100%|███████████████████| Time: 0:00:09\u001b[39m\n"
     ]
    },
    {
     "name": "stdout",
     "output_type": "stream",
     "text": [
      "\n",
      "time needed for map_sum_ξ_LDxGNC_multipole [in s] = 182.48000 \n",
      "\n"
     ]
    }
   ],
   "source": [
    "GaPSE.print_map_sum_ξ_LDxGNC_multipole(\n",
    "    cosmo, \"map_sum_xis_LDxGNC_L0_noF.txt\", \n",
    "    10 .^ range(0, 3, length = 300);\n",
    "    L = 0, use_windows = false, \n",
    "    enhancer = 1e8, single = true, N_μs = 30, μ_atol = 0.0, \n",
    "    μ_rtol = 1e-2, N_χs = 100, N_χs_2 = 60);"
   ]
  },
  {
   "cell_type": "code",
   "execution_count": 17,
   "id": "d339c0c1-67a2-480b-aa17-c50337c49fb1",
   "metadata": {},
   "outputs": [
    {
     "name": "stderr",
     "output_type": "stream",
     "text": [
      "\u001b[32mdoppler_newton, L=0: 100%|██████████████████████████████| Time: 0:00:00\u001b[39m\n",
      "\u001b[32mlensing_newton, L=0: 100%|██████████████████████████████| Time: 0:00:05\u001b[39m\n",
      "\u001b[32mintegratedgp_newton, L=0: 100%|█████████████████████████| Time: 0:00:02\u001b[39m\n",
      "\u001b[32mlensing_doppler, L=0: 100%|█████████████████████████████| Time: 0:00:03\u001b[39m\n",
      "\u001b[32mlocalgp_doppler, L=0: 100%|█████████████████████████████| Time: 0:00:00\u001b[39m\n",
      "\u001b[32mintegratedgp_doppler, L=0: 100%|████████████████████████| Time: 0:00:01\u001b[39m\n",
      "\u001b[32mdoppler_lensing, L=0: 100%|█████████████████████████████| Time: 0:00:02\u001b[39m\n",
      "\u001b[32mlensing_lensing, L=0: 100%|█████████████████████████████| Time: 0:01:35\u001b[39m\n",
      "\u001b[32mlocalgp_lensing, L=0: 100%|█████████████████████████████| Time: 0:00:01\u001b[39m\n",
      "\u001b[32mintegratedgp_lensing, L=0: 100%|████████████████████████| Time: 0:00:23\u001b[39m\n",
      "\u001b[32mdoppler_localgp, L=0: 100%|█████████████████████████████| Time: 0:00:00\u001b[39m\n",
      "\u001b[32mlensing_localgp, L=0: 100%|█████████████████████████████| Time: 0:00:03\u001b[39m\n",
      "\u001b[32mintegratedgp_localgp, L=0: 100%|████████████████████████| Time: 0:00:01\u001b[39m\n",
      "\u001b[32mdoppler_integratedgp, L=0: 100%|████████████████████████| Time: 0:00:01\u001b[39m\n",
      "\u001b[32mlensing_integratedgp, L=0: 100%|████████████████████████| Time: 0:00:25\u001b[39m\n",
      "\u001b[32mlocalgp_integratedgp, L=0: 100%|████████████████████████| Time: 0:00:01\u001b[39m\n",
      "\u001b[32mintegratedgp_integratedgp, L=0: 100%|███████████████████| Time: 0:00:13\u001b[39m\n"
     ]
    },
    {
     "name": "stdout",
     "output_type": "stream",
     "text": [
      "\n",
      "time needed for map_sum_ξ_LDxGNC_multipole [in s] = 184.28141 \n",
      "\n"
     ]
    }
   ],
   "source": [
    "GaPSE.print_map_sum_ξ_LDxGNC_multipole(\n",
    "    cosmo, \"map_sum_xis_LDxGNC_L0_withF.txt\", \n",
    "    10 .^ range(0, 3, length = 300);\n",
    "    L = 0, use_windows = true, \n",
    "    enhancer = 1e8, single = true, N_μs = 30, μ_atol = 0.0, \n",
    "    μ_rtol = 1e-2, N_χs = 100, N_χs_2 = 60);"
   ]
  }
 ],
 "metadata": {
  "kernelspec": {
   "display_name": "Julia 1.8.2",
   "language": "julia",
   "name": "julia-1.8"
  },
  "language_info": {
   "file_extension": ".jl",
   "mimetype": "application/julia",
   "name": "julia",
   "version": "1.8.2"
  }
 },
 "nbformat": 4,
 "nbformat_minor": 5
}
