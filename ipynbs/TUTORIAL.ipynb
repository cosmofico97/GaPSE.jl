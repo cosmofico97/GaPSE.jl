{
 "cells": [
  {
   "cell_type": "markdown",
   "id": "d21f745a-823d-42e4-909f-a6d8e56c4f02",
   "metadata": {
    "jp-MarkdownHeadingCollapsed": true,
    "tags": []
   },
   "source": [
    "This file is part of GaPSE\n",
    "Copyright (C) 2022 Matteo Foglieni\n",
    "\n",
    "GaPSE is free software: you can redistribute it and/or modify\n",
    "it under the terms of the GNU General Public License as published by\n",
    "the Free Software Foundation, either version 3 of the License, or\n",
    "(at your option) any later version.\n",
    "\n",
    "GaPSE is distributed in the hope that it will be useful, but\n",
    "WITHOUT ANY WARRANTY; without even the implied warranty of\n",
    "MERCHANTABILITY or FITNESS FOR A PARTICULAR PURPOSE. See the GNU\n",
    "General Public License for more details.\n",
    "\n",
    "You should have received a copy of the GNU General Public License\n",
    "along with GaPSE. If not, see <http://www.gnu.org/licenses/>.\n",
    "```\n",
    "\n",
    "\n",
    "```"
   ]
  },
  {
   "cell_type": "markdown",
   "id": "b5087e3c-81f1-47db-8a30-00b7803dc643",
   "metadata": {},
   "source": [
    "# GaPSE TUTORIAL"
   ]
  },
  {
   "cell_type": "markdown",
   "id": "97147094-5e51-497c-81e8-b63cac7e465a",
   "metadata": {},
   "source": [
    "This is a small tour of the Galaxy Power Spectrum Estimator software. It shows\n",
    "how the program can be easily used inside a Jupyter Notebook.\n",
    "\n",
    "However, if you prefer, you can also write the commands you are interested to execute inside the file \"GaPSE-exe.jl\", and then run in the command line\n",
    "\n",
    "```\n",
    "$ julia GaPSE-exe.jl\n",
    "```\n",
    "\n",
    "Furthermore, almost all the functions implemented inside GaPSE have a detailed documentation; feel free to check it whenever you want with the usual Julia command `?NAME` (where `NAME` is the name of the function/object you are interested in).\n",
    "\n",
    "For this tutorial we will show the computation of the Two-Point Correlation Functions (TPCFs) concerning the relativistic Galaxy Number Counts (GNC) perturbations. The code may computes in a very intuitive way also the Luminosity Distance (LD) one's and the cross correlations GNCxLD and LDxGNC."
   ]
  },
  {
   "cell_type": "markdown",
   "id": "eb165808-2632-47a6-9ce0-fec5d96a5bc2",
   "metadata": {
    "jp-MarkdownHeadingCollapsed": true,
    "tags": []
   },
   "source": [
    "## Path to GaPSE"
   ]
  },
  {
   "cell_type": "markdown",
   "id": "b883a7cf-1808-4fbe-b57a-e7e97e133440",
   "metadata": {},
   "source": [
    "First of all, we have to include GaPSE in our Jupyter Notebook:"
   ]
  },
  {
   "cell_type": "code",
   "execution_count": 1,
   "id": "2980e208-f08c-43b7-8cc1-26cb0998976c",
   "metadata": {},
   "outputs": [],
   "source": [
    "# In case you prefer to use GaPSE in a Jupyter Notebook in a \"distant\" directory,\n",
    "# you only have to set this path equal to the directory GaPSE is stored in.\n",
    "PATH_TO_GAPSE = \"../\"; "
   ]
  },
  {
   "cell_type": "code",
   "execution_count": 2,
   "id": "51ea1fd8-8970-48fb-8eee-6bc2f4cc4fa8",
   "metadata": {},
   "outputs": [],
   "source": [
    "include(PATH_TO_GAPSE * \"src/GaPSE.jl\");\n",
    "# NOTE : do not run this cell multiple times! In you have a problem, restart\n",
    "# the kernel an re-run all the cells."
   ]
  },
  {
   "cell_type": "code",
   "execution_count": 3,
   "id": "235f6017-56a7-490a-83ef-f3e7d0af8177",
   "metadata": {},
   "outputs": [],
   "source": [
    "using DelimitedFiles, Plots, Printf, LaTeXStrings \n",
    "# These are useful libraries for plots and reading files, but they are not\n",
    "# mandatory in order to run the code"
   ]
  },
  {
   "cell_type": "markdown",
   "id": "a56d670e-1e60-4fd6-8bf8-3bf04a66379b",
   "metadata": {},
   "source": [
    "```\n",
    "\n",
    "\n",
    "\n",
    "\n",
    "```"
   ]
  },
  {
   "cell_type": "markdown",
   "id": "ea037d96-ed1f-4428-92f9-0ae2e86fe343",
   "metadata": {
    "jp-MarkdownHeadingCollapsed": true,
    "tags": []
   },
   "source": [
    "## Creation of a Cosmology "
   ]
  },
  {
   "cell_type": "markdown",
   "id": "f6e27497-5413-4b46-a254-e30b11aabfc6",
   "metadata": {},
   "source": [
    "The fundamental struct of GaPSE is `Cosmology`; it contains all the \n",
    "relevant information for future computations.\n",
    "\n",
    "Let's have a look at the `Cosmology` constructor:\n",
    "\n",
    "```julia\n",
    "Cosmology(params::CosmoParams, file_data::String,\n",
    "    file_ips::String, file_windowF::String,\n",
    "    file_IntwindowF::String)\n",
    "```\n",
    "\n",
    "\n",
    "As we can see, in order to create such a struct, we must give a `params::CosmoParams` struct (we will see it later) and 4 input files:\n",
    "- `file_data` : the background data for the Universe considered;\n",
    "- `file_ips` : the matter power spectrum at redshift z=0 we are focused on;\n",
    "- `file_windowF` : a map on μ and x of the window function F (use the default one initially, provided inside GaPSE directory `data/`);\n",
    "- `file_IntwindowF` : a map on μ and s of the window function F integrated over `s_1` (again, use the default one initially, provided inside GaPSE directory `data/`);\n",
    "  \n",
    "The first two files should be produced by the [CLASS](https://github.com/lesgourg/class_public) software. As an example, we take the two stored inside `data/`:"
   ]
  },
  {
   "cell_type": "code",
   "execution_count": null,
   "id": "584584e3-54c2-4e32-a9db-6f85d92afa01",
   "metadata": {},
   "outputs": [],
   "source": [
    "FILE_PS = PATH_TO_GAPSE * \"data/WideA_ZA_pk.dat\";\n",
    "FILE_BACKGROUND = PATH_TO_GAPSE * \"data/WideA_ZA_background.dat\";\n",
    "FILE_F_MAP = PATH_TO_GAPSE * \"data/F_REFERENCE_pi2.txt\";\n",
    "FILE_IF_MAP = PATH_TO_GAPSE * \"data/IntegrF_REFERENCE_pi2_z005020.txt\";"
   ]
  },
  {
   "cell_type": "markdown",
   "id": "f18e7554-a2b2-4841-a811-1ba06215b028",
   "metadata": {},
   "source": [
    "Now we have to set the dimensions of the survey we are considering. \n",
    "\n",
    "GaPSE assumes that the survey has an azimutally simmetric volume, contained inside two concentric spheres (with radius specified by the input minimum and maximum redshifts `z_min` and `z_max`) and with angular extensions `2 θ_max` (so `θ_max` is the angle between the central axis and the edge). The extreme redshifts are internally translated into extreme comoving distances $s_\\mathrm{min}$ and $s_\\mathrm{max}$.\n",
    "\n",
    "Here we show a orthogonal projection on the plane containing the three points $O$ (the observer), $\\mathbf{s}_\\mathrm{min}$ and $\\mathbf{s}_\\mathrm{max}$."
   ]
  },
  {
   "cell_type": "markdown",
   "id": "9c223266-104e-490a-abf2-96bfffd32708",
   "metadata": {},
   "source": [
    "<img src=\"images/survey.png\" style=\"width: 400px;\">"
   ]
  },
  {
   "cell_type": "markdown",
   "id": "8f5ffbb4-4fff-4d71-8302-d844e168dc92",
   "metadata": {},
   "source": [
    "We also show the comoving effective distance $s_\\mathrm{eff}$, which is the counterpart of the effective redshift $z_\\mathrm{eff}$ calculated as follows:\n",
    "\n",
    "$$\n",
    "\\begin{split}\n",
    "z_\\mathrm{eff} := \n",
    "    \\frac{\n",
    "        \\int \\mathrm{d}^3\\mathbf{s} \\, \\phi^2(\\mathbf{s}) \\, z(s)\n",
    "     }{\n",
    "         \\int \\mathrm{d}^3\\mathbf{s}\\, \\phi^2(\\mathbf{s}) \n",
    "      } &= \\frac{\n",
    "          \\int_0^\\infty \\mathrm{d}s  \\, s^2 \\, \\phi^2(s) \\, z(s) \\times\n",
    "          \\int_{4\\pi}\\mathrm{d}^2\\hat{\\mathbf{s}} \\, W^2(\\hat{\\mathbf{s}})\n",
    "      }{\n",
    "          \\int_0^\\infty \\mathrm{d}s \\, s^2 \\, \\phi^2(s)\\times\n",
    "          \\int_{4\\pi}\\mathrm{d}^2\\hat{\\mathbf{s}} \\, W^2(\\hat{\\mathbf{s}})\n",
    "      } \\\\[5pt]\n",
    "      &= \\frac{\n",
    "          \\int_0^\\infty \\mathrm{d}s  \\, s^2 \\, \\phi^2(s) \\, z(s)\n",
    "      }{\n",
    "          \\int_0^\\infty \\mathrm{d}s \\, s^2 \\, \\phi^2(s)\n",
    "      } \\\\[4pt]\n",
    "      &= \\frac{3}{s_\\mathrm{max}^3 - s_\\mathrm{min}^3} \\,\n",
    "          \\int_{s_\\mathrm{min}}^{s_\\mathrm{max}} \\mathrm{d}s  \\, s^2 \\, z(s)\n",
    "\\end{split}\n",
    "$$\n",
    "\n",
    "where $\\phi(s)$ and $W(\\hat{s})$ are respectivelly the radial and angulal window functions; it is assumed that the survey window function $\\phi(\\mathbf{s})$ can be separated into a radial and angular part:\n",
    "\n",
    "$$\n",
    "\\phi(\\mathbf{s}) = \\phi(s) \\, W(\\hat{s})\n",
    "$$\n",
    "\n",
    "$$ \\phi(s, s_\\mathrm{min}, s_\\mathrm{max}) = \n",
    "    \\begin{cases} 1 \\quad s_\\mathrm{min} < s < s_\\mathrm{max} \\\\ 0 \\quad \\mathrm{otherwise}\\end{cases} $$\n",
    "    \n",
    " $$ W(\\hat{s}, \\theta_\\mathrm{MAX}) = \n",
    "    \\begin{cases} 1 \\quad 0 \\leq \\theta < \\theta_\\mathrm{MAX} \\\\ 0 \\quad \\mathrm{otherwise}\\end{cases} $$"
   ]
  },
  {
   "cell_type": "markdown",
   "id": "47b719a9-a083-4736-a6f5-48fedcfe1d41",
   "metadata": {},
   "source": [
    "If you are not interested in a specific survey, but only in the \"true\" TPCFs of the Universe considered, do not worry: let the default values for these fields, in the functions we are going to show you will only have \n",
    "to set `use_window = false`."
   ]
  },
  {
   "cell_type": "markdown",
   "id": "96eb1ddd-2711-45c4-8e80-e30d1c5781b4",
   "metadata": {},
   "source": [
    "For this demo case, let's set the following survey volume values:"
   ]
  },
  {
   "cell_type": "code",
   "execution_count": null,
   "id": "f203b147-7ceb-4d1d-9a3e-ff9303197827",
   "metadata": {},
   "outputs": [],
   "source": [
    "z_min, z_max, θ_max = 0.05, 0.20, π / 2.0;"
   ]
  },
  {
   "cell_type": "markdown",
   "id": "f51ec0aa-c583-4025-bf5b-3077feb12ee4",
   "metadata": {},
   "source": [
    "At this point, we have to create the `CosmoParams` struct previously mentioned, that will contains all the options to be passed to `Cosmology`.\n",
    "Beyond the already mentioned `z_min`, `z_max` and `θ_max` (which are mandatory), you may choose to specify:\n",
    "- `Ω_b::Float64` and `Ω_cdm::Float64` : barionic and cold-dark-matter density parameters\n",
    "\n",
    "- `h_0::Float64` : today's Hubble adimensional parameter ($H_0 = h_0 \\times 100 \\; \\mathrm{km}/(\\mathrm{s}  \\, \\mathrm{Mpc})$).\n",
    "\n",
    "- `b::Float64` : galaxy bias.\n",
    "\n",
    "- `s_b::Float64` : magnification bias, i.e. the slope of the luminosity function at the luminosity threshold.\n",
    "\n",
    "- `𝑓_evo::Float64` : evolution bias.\n",
    "\n",
    "- many others; if you are interested, check the documentation of `CosmoParams`.\n",
    "\n",
    "Here we provided the full list of them, with all their default values."
   ]
  },
  {
   "cell_type": "code",
   "execution_count": null,
   "id": "6ae90cb6-962e-42d9-90ed-14c51084f2b4",
   "metadata": {},
   "outputs": [],
   "source": [
    "params = GaPSE.CosmoParams(z_min, z_max, θ_max;\n",
    "    Ω_b = 0.0489, Ω_cdm = 0.251020, h_0 = 0.70, s_lim=1e-2,\n",
    "    s_b = 0.0, 𝑓_evo = 0.0, b = 1.0,\n",
    "    IPS_opts = Dict(\n",
    "        :fit_left_min => 1e-6, :fit_left_max => 3e-6,\n",
    "        :fit_right_min => 1e1, :fit_right_max => 2e1),\n",
    "    IPSTools_opts = Dict(\n",
    "        :N => 1024, :fit_min => 0.05, :fit_max => 0.5, \n",
    "        :con => true, :k_min => 1e-8, :k_max => 10.0),\n",
    "    WFI_opts = Dict(\n",
    "        :llim => 0.0, :rlim => Inf, :N => 1000,\n",
    "         :trap => true, :rtol => 1e-2, :atol => 0.0,\n",
    "         :ss_start => 0.0, :ss_step => 10.0,\n",
    "         :ss_stop => 0.0),\n",
    ");"
   ]
  },
  {
   "cell_type": "markdown",
   "id": "4ddca822-ce61-4c8f-b86e-8ae21be6ab22",
   "metadata": {},
   "source": [
    "Finally, we can create the `Cosmology` (let's call it `cosmo`) with all the inputs specified before!\n",
    "We also print on the screen all the options stored by that `Cosmology` itself, in order to be sure that everything is okay, through the function `parameters_used`."
   ]
  },
  {
   "cell_type": "code",
   "execution_count": null,
   "id": "b2a9e45c-db1b-4401-9cac-f9cc77ad9128",
   "metadata": {},
   "outputs": [],
   "source": [
    "cosmo = GaPSE.Cosmology(params, FILE_BACKGROUND, FILE_PS, \n",
    "    FILE_F_MAP, FILE_IF_MAP);\n",
    "\n",
    "GaPSE.parameters_used(stdout, cosmo);"
   ]
  },
  {
   "cell_type": "markdown",
   "id": "9b8970e6-e2f9-4a5b-b7e6-e48b46a00c8e",
   "metadata": {},
   "source": [
    "Now we are ready to calculate the TPCF and/or PS associated with each of the GR effects for this Universe!"
   ]
  },
  {
   "cell_type": "markdown",
   "id": "2980903b-2d2c-44b5-b493-acd42c3d76df",
   "metadata": {},
   "source": [
    "```\n",
    "\n",
    "\n",
    "\n",
    "\n",
    "```"
   ]
  },
  {
   "cell_type": "markdown",
   "id": "110238a5-9c82-4df7-a7ac-ae5b8102010d",
   "metadata": {
    "jp-MarkdownHeadingCollapsed": true,
    "tags": []
   },
   "source": [
    "## TPCF of a single effect"
   ]
  },
  {
   "cell_type": "markdown",
   "id": "e975ba69-f023-4b6f-839d-dd5f9e1654e3",
   "metadata": {},
   "source": [
    "The Genearal Relativistic (GR) effects affecting GNC, following the conventions used in Castorina, Di Dio (2020), are 5: Standard Newtonian, Doppler, Lensing, Local GP and Integrated GP (where GP stands for Gravitational Potential). See th\n",
    "\n",
    "Consequently, the TPCFs associated are $5\\times5=25$ (5 are auto-correlations, and 20 the cross-ones; note that they are not simmetric, so for instance Lensing-Doppler is different from Doppler-Lensing)."
   ]
  },
  {
   "cell_type": "markdown",
   "id": "04ccb5a4-4f94-41ee-af02-acb991e97448",
   "metadata": {},
   "source": [
    "Their names are, with obvious associations, the ones contained inside the\n",
    "`GaPSE.GR_EFFECTS_GNC` vector:"
   ]
  },
  {
   "cell_type": "code",
   "execution_count": null,
   "id": "ea2e33f6-e462-4246-ab62-2bac982dd0a5",
   "metadata": {},
   "outputs": [],
   "source": [
    "GaPSE.GR_EFFECTS_GNC"
   ]
  },
  {
   "cell_type": "markdown",
   "id": "cfbb1e3f-d9b5-4fc4-8b95-fa629bb06c33",
   "metadata": {},
   "source": [
    "As a first example, we will focus on the Doppler auto-correlation function, identified by the name `auto_doppler`.\n",
    "\n",
    "How we may calculate the value of such TPCF, for the considered Cosmology `cosmo`?\n",
    "GaPSE provides three functions:\n",
    "\n",
    "- `ξ_GNC_multipole`\n",
    "- `map_ξ_GNC_multipole`\n",
    "- `print_map_ξ_GNC_multipole`\n",
    "\n",
    "The frame of reference you have to keep in mind is the following:"
   ]
  },
  {
   "cell_type": "markdown",
   "id": "40005898-af3a-498e-9128-3c961ff16c97",
   "metadata": {},
   "source": [
    "<table><tr>\n",
    "<td> <img src=\"images/s1s2.png\" alt=\"Drawing\" style=\"width: 250px;\"/> </td>\n",
    "<td> <img src=\"images/s1s2_inside_survey.png\" alt=\"Drawing\" style=\"width: 350px;\"/> </td>\n",
    "</tr></table>"
   ]
  },
  {
   "cell_type": "markdown",
   "id": "c5e2415b-e2b4-4120-8a9b-851569ac0e02",
   "metadata": {},
   "source": [
    "GaPSE assumes (unless differently specified) that $\\mathbf{s}_1$ is on the $s_\\mathrm{eff}$ sphere (and so $s_1 = s_\\mathrm{eff}$). The second input $s$ is the comoving distance from $s_1$, as you can see from the sketch.\n",
    "\n",
    "These are the transformations concerning the two coordinate systems:\n",
    "\n",
    "$$\n",
    "y = \\cos \\theta = \\hat{\\mathbf{s}}_1 \\cdot  \\hat{\\mathbf{s}}_2 \n",
    "\\quad , \\quad\n",
    "\\mu = \\cos \\phi = \\hat{\\mathbf{s}}_1 \\cdot  \\hat{\\mathbf{s}}\n",
    "$$\n",
    "\n",
    "$$\n",
    "s(s_1, s_2, y) = \\sqrt{s_1^2 + s_2^2 - 2 \\, s_1 \\, s_2 \\, y}\n",
    "\\quad , \\quad\n",
    "s_2(s_1, s, \\mu) = \\sqrt{s_1^2 + s^2 + 2 \\, s_1 \\, s \\, \\mu}\n",
    "$$\n",
    "\n",
    "$$\n",
    "\\mu(s_1, s_2, y) = \\frac{y \\, s_2 - s_1}{s(s_1, s_2, y)}\n",
    "\\quad , \\quad\n",
    "y(s_1, s, \\mu) = \\frac{\\mu \\, s + s_1}{s_2(s_1, s, \\mu)} \n",
    "$$"
   ]
  },
  {
   "cell_type": "markdown",
   "id": "19020bfb-1cd5-4272-bbca-751f6743007b",
   "metadata": {},
   "source": [
    "```\n",
    "\n",
    "\n",
    "```"
   ]
  },
  {
   "cell_type": "markdown",
   "id": "c7f42c01-7680-4c92-8438-043eae5be50f",
   "metadata": {
    "tags": []
   },
   "source": [
    "### ξ_GNC_multipole"
   ]
  },
  {
   "cell_type": "markdown",
   "id": "996916f1-8d65-42aa-8c3d-d1c437dc6e95",
   "metadata": {},
   "source": [
    "```julia\n",
    "ξ_GNC_multipole(s1, s, effect::String, \n",
    "    cosmo::Cosmology; \n",
    "    L::Integer = 0, use_windows::Bool = true,\n",
    "    alg::Symbol = :lobatto,\n",
    "    N_lob::Int = 100, N_trap::Int = 100, \n",
    "    atol_quad::Float64 = 0.0, rtol_quad::Float64 = 1e-2, \n",
    "    kwargs...) ::Float64\n",
    "``` \n",
    "\n",
    "Returns the value of the chosen GNC GR `effect` multipole (of order `L`) calculated in `s1` and a distance `s` from it, in the given Cosmology `cosmo`.\n",
    "\n",
    "As previously explained, you have to set the flag `use_windows = false` if you are not interested in a specific survey, and `use_windows = true` (or not set the flag at all, since `true` is the default value) if you are.\n",
    "\n",
    "The computation of the integral through $\\mu$ might be performed using one between the 3 following algorithm. In order to choose which to use, set th keyword `alg` to the corresponding symbol:\n",
    "- `alg = :quad` : Adaptive Gauss-Kronrod quadrature, using `quadgk` of the native Julia package [QuadGK.jl](https://github.com/JuliaMath/QuadGK.jl). It works perfectly for the monopoles, but does not always converge for higher order multipoles. Specify its relative and absolute (FLOATING POINT) tolerance through the keywords `atol_quad` and `rtol_quad` (the default values `0.0` and `1e-2` should work always fine).\n",
    "- `alg = :lobatto` : Fast Gaussian-Lobatto quadrature, through `gausslobatto` of the Julia package [FastGaussQuadrature.jl](https://github.com/JuliaApproximation/FastGaussQuadrature.jl); you can specify the (INTEGER) number of points to be used through the keyword `N_lob` (default is 100, but we recommed to use even 1000 for a more precise calculus). It works good everywhere, but it's slower than `quad` (so we recommend to use it only for L=1,2,3,4 and to use `quad` for L=0).\n",
    "- `alg = :trap` : basic Trapezoidal rule, through `trapz` of the Julia package [Trapz.jl](https://juliapackages.com/p/trapz); you can specify the (INTEGER) number of points to be used through the keyword `N_trap` (default is 100, but we recommed to use even 1000 for a more precise calculus). HOWEVER, HTIS IS BY FAR THE WORSE METHOD, AVOID TO USE IT IF NOT FOR SPECIFIC REASONS!\n",
    "\n",
    "Let's calculate the value of the `auto_doppler` effect CF in `s1 = s_eff` and `s = 50` (all the distances are measured in $h_0^{-1} \\, \\mathrm{Mpc}$), both with and without window function. You may try to change the `s` value to another one you prefer.\n",
    "\n",
    "NOTE: GaPSE is conceived for computation on large scales; at the moment, the values for small comoving distance `s` (under few $h_0^{-1}\\,\\mathrm{Mpc}$) are not correct, especially for high order multipoles (`L=1,2,...`)"
   ]
  },
  {
   "cell_type": "code",
   "execution_count": null,
   "id": "40ebd318-576c-4ced-bece-c42cd4586520",
   "metadata": {},
   "outputs": [],
   "source": [
    "GaPSE.ξ_GNC_multipole(cosmo.s_eff, 50, \"auto_doppler\", cosmo; \n",
    "    L = 0, use_windows = false, alg = :quad)"
   ]
  },
  {
   "cell_type": "code",
   "execution_count": null,
   "id": "fe78344d-5fd7-4559-b45d-ae3c05226ffa",
   "metadata": {},
   "outputs": [],
   "source": [
    "GaPSE.ξ_GNC_multipole(cosmo.s_eff, 50, \"auto_doppler\", cosmo; \n",
    "    L = 0, use_windows = true, alg = :quad)"
   ]
  },
  {
   "cell_type": "code",
   "execution_count": null,
   "id": "c4fd347a-7a45-4438-b5a8-c34db2083f6a",
   "metadata": {},
   "outputs": [],
   "source": [
    "GaPSE.ξ_GNC_multipole(cosmo.s_eff, 50, \"auto_doppler\", cosmo; \n",
    "    L = 0, alg = :quad)"
   ]
  },
  {
   "cell_type": "code",
   "execution_count": null,
   "id": "302137f6-d29a-442c-bbc1-38418b6a9e13",
   "metadata": {},
   "outputs": [],
   "source": [
    "q = GaPSE.ξ_GNC_multipole(cosmo.s_eff, 50, \"auto_doppler\", cosmo; L = 0, alg = :quad)\n",
    "l = GaPSE.ξ_GNC_multipole(cosmo.s_eff, 50, \"auto_doppler\", cosmo; L = 0, alg = :lobatto, N_lob = 1000)\n",
    "t = GaPSE.ξ_GNC_multipole(cosmo.s_eff, 50, \"auto_doppler\", cosmo; L = 0, alg = :trap, N_trap = 1000)\n",
    "q,t,l"
   ]
  },
  {
   "cell_type": "markdown",
   "id": "eebd0861-d122-4162-823a-78c1fffee5bf",
   "metadata": {},
   "source": [
    "NOTE: it would appear natural, in the Julia language, to use the broadcast operator and/or comprehension lists in order to calculate the chosen GR `effect` multipole in `s1` (fixed) for a vector of `s` distances from it `ss`, in the given Cosmology `cosmo`. In other words, it may seem straightforward to write:\n",
    "\n",
    "```julia\n",
    "    ss = range(1, 1000, length = 100)\n",
    "    res = [GaPSE.ξ_multipole(cosmo.s_eff, s, \n",
    "        \"auto_doppler\", cosmo; L = 0) \n",
    "        for s in ss]\n",
    "```\n",
    "\n",
    "Do not do it: due to the way the program is build, it is computationally faster\n",
    "and more accurate to use other GaPSE functions (`map_ξ_GNC_multipole` and so on, which we will present in the next section)."
   ]
  },
  {
   "cell_type": "markdown",
   "id": "d9698bb2-3398-42a1-a619-63b249a3a38e",
   "metadata": {},
   "source": [
    "And for the next multipoles? Simply set the keyword parameter `L` to the order you need."
   ]
  },
  {
   "cell_type": "code",
   "execution_count": null,
   "id": "6bf65534-2095-497a-9dd2-79176f007408",
   "metadata": {},
   "outputs": [],
   "source": [
    "vec = [GaPSE.ξ_GNC_multipole(cosmo.s_eff, 50, \n",
    "        \"auto_doppler\", cosmo; L = L, alg = :lobatto, use_windows = false) \n",
    "        for L in 0:4]\n",
    "for (i, r) in enumerate(vec)\n",
    "    println(\"L = $(i-1) :  xi^{Doppler} = $r\")\n",
    "end"
   ]
  },
  {
   "cell_type": "markdown",
   "id": "72674d46-687d-4402-a1b5-13bb8b71e5ee",
   "metadata": {},
   "source": [
    "```\n",
    "\n",
    "```"
   ]
  },
  {
   "cell_type": "markdown",
   "id": "fd833ed6-bc5c-4e4b-816d-fc4eaca312a8",
   "metadata": {},
   "source": [
    "### map_ξ_GNC_multipole"
   ]
  },
  {
   "cell_type": "markdown",
   "id": "2c5b606e-9647-4ddb-9764-d9f34c1e5c90",
   "metadata": {},
   "source": [
    "```julia\n",
    "map_ξ_GNC_multipole(cosmo::Cosmology, effect::String,\n",
    "    ss::Union{Vector{Float64},Nothing} = nothing; \n",
    "    s1 = nothing, kwargs... \n",
    "    ) ::Tuple{Vector{Float64}, Vector{Float64}}\n",
    "```\n",
    "\n",
    "For an input vector of distances `ss`, return a tuple with\n",
    "- `ss` itself as first element\n",
    "- the vector of values of the chosen GR `effect` multipole (of order `L`) calculated in `s1` for all the distances `s` contained in the vector `ss` (in the given Cosmology `cosmo`) as second element\n",
    "\n",
    "If, as by default, `ss = nothing`, it is interally set `ss = 10 .^ range(0, log10(2.0*cosmo.s_max), length=N_log)`, where `N_log` is a keyword argument; this is why it is returned `ss`.\n",
    "\n",
    "Likewise, if `s1 = nothing` (as by default), it is internally set `s1 = cosmo.s_eff`.\n",
    "The keywords are shared with `ξ_GNC_multipole`, so you can set/unset the window, select algorithm, choose monopole and so on asa before.\n",
    "\n",
    "\n",
    "IMPORTANT: USE LOGARITHMICALLY DISTRUBUTED POINTS FOR `ss`!\n",
    "It's really important not for the `map_ξ_GNC_multipole`function or its family, but for the Power Spectrum computation algorithm we'll see later."
   ]
  },
  {
   "cell_type": "markdown",
   "id": "360caca7-9283-4219-9361-d15ae97112da",
   "metadata": {},
   "source": [
    "For instance, we might calculate the `auto_doppler` effect monopole CF in a linearly spaced set of points `range(1, 1000, length=300)`, both with and without window functions:"
   ]
  },
  {
   "cell_type": "code",
   "execution_count": null,
   "id": "fbd74025-49d6-4ae1-8854-e6ea4f3c4f3b",
   "metadata": {},
   "outputs": [],
   "source": [
    "XS = range(1, 1000, length = 300)\n",
    "xs1, ys1 = GaPSE.map_ξ_GNC_multipole(cosmo, \"auto_doppler\", XS; \n",
    "    L = 0, use_windows = false, alg = :quad);\n",
    "xs2, ys2 = GaPSE.map_ξ_GNC_multipole(cosmo, \"auto_doppler\", XS; \n",
    "     L = 0, use_windows = true, alg = :quad);\n",
    "\n",
    "\n",
    "pyplot()\n",
    "plot(xs1, ys1 .* xs1 .^2,\n",
    "    #xaxis=:log, #yaxis=:log, \n",
    "    lc=:red, ls=:solid, size=(500, 300),\n",
    "    title=\"auto_doppler TPCF\", label = \"no F\",\n",
    "    ylabel=L\"s^2 \\; \\xi^{v_{\\parallel} \\, v_{\\parallel}}_{L=0}(s)\",\n",
    "    xlabel=L\"s \\quad [h_0^{-1}\\,\\mathrm{Mpc}]\",\n",
    "    legend = :topright,\n",
    ")\n",
    "plot!(xs2, ys2 .* xs2 .^2,\n",
    "    #xaxis=:log, #yaxis=:log, \n",
    "    lc=:blue, ls=:solid, size=(500, 300), label = \"with F\",\n",
    "    ylabel=L\"s^2 \\; \\xi^{v_{\\parallel} \\, v_{\\parallel}}_{L=0}(s)\",\n",
    "    xlabel=L\"s \\quad [h_0^{-1}\\,\\mathrm{Mpc}]\",\n",
    ")"
   ]
  },
  {
   "cell_type": "markdown",
   "id": "cf72aa1a-806c-4245-b3d2-90401799b4f9",
   "metadata": {},
   "source": [
    "What if instead we are not interested in a survey and so the default `s1 = s_eff` is useless? Simply we set `s1` to the value we are interested in! Supposing `s1 = 400`, let's compare this one with the previous one without windows: "
   ]
  },
  {
   "cell_type": "code",
   "execution_count": null,
   "id": "59564d70-e492-4817-9a9f-2b53f0b8dcf6",
   "metadata": {},
   "outputs": [],
   "source": [
    "XS = range(1, 1000, length = 300)\n",
    "xs1, ys1 = GaPSE.map_ξ_GNC_multipole(cosmo, \"auto_doppler\", XS; \n",
    "    L = 0, use_windows = false, alg = :quad)\n",
    "xs2, ys2 = GaPSE.map_ξ_GNC_multipole(cosmo, \"auto_doppler\", XS; \n",
    "    s1 = 400, L = 0, use_windows = false, alg = :quad)\n",
    "\n",
    "\n",
    "pyplot()\n",
    "plot(xs1, ys1 .* xs1 .^2,\n",
    "    #xaxis=:log, #yaxis=:log, \n",
    "    lc=:red, ls=:solid, size=(500, 300),\n",
    "    title=\"auto_doppler TPCF\", label = \"s1 = s_eff\",\n",
    "    ylabel=L\"s^2 \\; \\xi^{v_{\\parallel} \\, v_{\\parallel}}_{L=0}(s)\",\n",
    "    xlabel=L\"s \\quad [h_0^{-1}\\,\\mathrm{Mpc}]\",\n",
    "    legend = :topright,\n",
    ")\n",
    "plot!(xs2, ys2 .* xs2 .^2,\n",
    "    #xaxis=:log, #yaxis=:log, \n",
    "    lc=:blue, ls=:solid, size=(500, 300), label = \"s1 = 400\",\n",
    "    ylabel=L\"s^2 \\; \\xi^{v_{\\parallel} \\, v_{\\parallel}}_{L=0}(s)\",\n",
    "    xlabel=L\"s \\quad [h_0^{-1}\\,\\mathrm{Mpc}]\",\n",
    ")"
   ]
  },
  {
   "cell_type": "markdown",
   "id": "ecbd5e26-aa20-448f-be11-86d02b713f9d",
   "metadata": {},
   "source": [
    "```\n",
    "\n",
    "\n",
    "\n",
    "```"
   ]
  },
  {
   "cell_type": "markdown",
   "id": "4683b1e9-f56c-484f-9a9f-7797a1ccd47b",
   "metadata": {},
   "source": [
    "### print_map_ξ_GNC_multipole"
   ]
  },
  {
   "cell_type": "markdown",
   "id": "a61b90be-de91-4d34-996e-6d31d92a0bd3",
   "metadata": {},
   "source": [
    "```julia\n",
    "print_map_ξ_GNC_multipole(cosmo::Cosmology, out::String, \n",
    "    effect::Union{String,Function}, ss = nothing;\n",
    "    s1 = nothing, kwargs...)\n",
    "```"
   ]
  },
  {
   "cell_type": "markdown",
   "id": "205b0a17-7b49-4a47-b199-6541fcf3bbb5",
   "metadata": {},
   "source": [
    "Same as `map_ξ_GNC_multipole`, but the two resulting vectors are printed in the file `out`, together with all the options used for their computations."
   ]
  },
  {
   "cell_type": "markdown",
   "id": "0d687a97-386f-4e3c-8cb4-53ac3a60aac0",
   "metadata": {},
   "source": [
    "For instance, let's print on a file named `my_first_doppler.txt` the `auto_doppler`TPCF monopole, calculated in the vector of values `ss = 10 .^ range(0, 3, length = 1000)`."
   ]
  },
  {
   "cell_type": "code",
   "execution_count": null,
   "id": "65c82a02-4901-49fd-abd7-9db2db6dbcdb",
   "metadata": {},
   "outputs": [],
   "source": [
    "GaPSE.print_map_ξ_GNC_multipole(cosmo, \"my_first_doppler.txt\", \n",
    "    \"auto_doppler\", 10 .^ range(0, 3, length = 1000); \n",
    "    L = 0, use_windows = false, alg = :quad);"
   ]
  },
  {
   "cell_type": "markdown",
   "id": "4d6077b4-9c76-444b-8093-164f78c469a1",
   "metadata": {},
   "source": [
    "Here we plot the result:"
   ]
  },
  {
   "cell_type": "code",
   "execution_count": null,
   "id": "aa3c683e-7dd5-42ef-8209-d100ae985280",
   "metadata": {},
   "outputs": [],
   "source": [
    "xs, ys = GaPSE.readxy(\"my_first_doppler.txt\", comments=true)\n",
    "\n",
    "pyplot()\n",
    "plot(xs, ys .* xs .^2,\n",
    "    #xaxis=:log, #yaxis=:log, \n",
    "    lc=:red, ls=:solid,size=(500, 300),\n",
    "    title=\"auto_doppler TPCF\",\n",
    "    ylabel=L\"s^2 \\; \\xi^{v_{\\parallel} \\, v_{\\parallel}}_{L=0}(s)\",\n",
    "    xlabel=L\"s \\quad [h_0^{-1}\\,\\mathrm{Mpc}]\",\n",
    "    legend=false,\n",
    ")"
   ]
  },
  {
   "cell_type": "markdown",
   "id": "891f3cda-a6ab-4105-9ee9-7ad096ecdc2a",
   "metadata": {},
   "source": [
    "```\n",
    "\n",
    "\n",
    "```"
   ]
  },
  {
   "cell_type": "markdown",
   "id": "12e29f52-1a2c-4d77-9b72-0ab16c1641e0",
   "metadata": {
    "jp-MarkdownHeadingCollapsed": true,
    "tags": []
   },
   "source": [
    "## TPCF of all the effects"
   ]
  },
  {
   "cell_type": "markdown",
   "id": "7bfa56a6-3270-482b-9296-dfc6e1131f98",
   "metadata": {},
   "source": [
    "The most straightforward path to calculate all the CFs (and also their sum) is through the three following functions:\n",
    "\n",
    "- `sum_ξ_GNC_multipole`\n",
    "- `map_sum_ξ_GNC_multipole`\n",
    "- `print_map_sum_ξ_GNC_multipole`\n",
    "\n",
    "They work in the exactly same way of their corresponding \"single-effect\" one. The only difference is that the output is now not a single GR effect, but all of them plus their sum."
   ]
  },
  {
   "cell_type": "markdown",
   "id": "72ad5729-eed1-4305-ba6f-3f7de12c0914",
   "metadata": {},
   "source": [
    "```\n",
    "\n",
    "```"
   ]
  },
  {
   "cell_type": "markdown",
   "id": "a9ebc5ec-eb32-484c-9aca-5ed7188d4754",
   "metadata": {},
   "source": [
    "### sum_ξ_GNC_multipole"
   ]
  },
  {
   "cell_type": "markdown",
   "id": "bd6fec6b-a2f2-4687-88a8-8540eb1fd065",
   "metadata": {},
   "source": [
    "```julia \n",
    "sum_ξ_GNC_multipole(s1, s, cosmo::Cosmology; kwargs...\n",
    "    )::Tuple{Float64,Vector{Float64}}\n",
    "```\n",
    "For input distances `s1` ans `s` and in the given Cosmology `cosmo`, returns a tuple which has:\n",
    "- the sum of all the 16 GNC TPCFs multipoles (of order `L`) calculated in `s1` and a distance `s` from it, in the given Cosmology `cosmo`.\n",
    "- a vector of `Float64` values containing each off the 16 TPCF terms; they are ordered following the `GaPSE.GR_EFFECTS_GNC` one"
   ]
  },
  {
   "cell_type": "code",
   "execution_count": null,
   "id": "23f60a9e-cb65-422f-a6d5-f5fce29788e1",
   "metadata": {},
   "outputs": [],
   "source": [
    "s = 1000\n",
    "res_sum, res_xis = GaPSE.sum_ξ_GNC_multipole(cosmo.s_eff, s, \n",
    "    cosmo; use_windows = false, L = 0, alg = :quad);\n",
    "res_sum, res_xis"
   ]
  },
  {
   "cell_type": "code",
   "execution_count": null,
   "id": "61ef01ff-4f3b-464c-997e-43524a58ab72",
   "metadata": {},
   "outputs": [],
   "source": [
    "names = [\n",
    "    L\"\\delta \\, \\delta\", \n",
    "    L\"v_{\\parallel} \\, v_{\\parallel}\", \n",
    "    L\"\\kappa \\, \\kappa\", \n",
    "    L\"\\phi \\, \\phi\", \n",
    "    L\"\\int\\phi \\, \\int\\phi\", \n",
    "    \n",
    "    \n",
    "    L\"\\delta \\, v_{\\parallel}\", L\"v_{\\parallel} \\, \\delta\",\n",
    "    L\"\\delta \\, \\kappa\", L\"\\kappa \\, \\delta\",\n",
    "    L\"\\delta \\, \\phi\", L\"\\phi \\, \\delta\",\n",
    "    L\"\\delta \\, \\int\\phi\", L\"\\int\\phi \\, \\delta\",\n",
    "    \n",
    "    L\"\\kappa \\, v_{\\parallel}\", L\"v_{\\parallel} \\, \\kappa\",\n",
    "    L\"v_{\\parallel} \\, \\phi\", L\"\\phi \\, v_{\\parallel}\",\n",
    "    L\"v_{\\parallel} \\, \\int\\phi\", L\"\\int\\phi \\, v_{\\parallel}\",\n",
    "    \n",
    "    L\"\\kappa \\, \\phi\", L\"\\phi \\, \\kappa\",\n",
    "    L\"\\kappa \\, \\int\\phi\", L\"\\int\\phi \\, \\kappa\",\n",
    "    \n",
    "    L\"\\phi \\, \\int\\phi\", L\"\\int\\phi \\, \\phi\"\n",
    "];\n",
    "leg = L\"\\delta\"*\" = Newton    \\n\"*L\"v_{\\parallel}\"*\" = Doppler    \\n\" *\n",
    "        \"κ = Lensing  \\n\"*\"ϕ = Local GP  \\n\"*\"∫ϕ = Integrated GP\"\n",
    "\n",
    "pyplot()\n",
    "ys = [res_xis[i] for i in 1:length(res_xis)];\n",
    "plot(1:25, ys .* (s^2), seriestype=:scatter, \n",
    "    series_annotations = [text(name; pointsize=7, valign=:bottom) \n",
    "        for name in names], \n",
    "    mc=vcat([:red for i in 1:5], [:blue for i in 6:25]), \n",
    "    markerstrokewidth = 0, legend=false,\n",
    "    xlabel = \"ξ considered\",  xticks=false, size = (800, 400),\n",
    "    ylabel = L\"s^2 \\, \\xi^{i}_{L=0}(s),\" * \n",
    "    L\" \\quad \\mathrm{with} \\; s = %$s \\; h_0^{-1}\\mathrm{Mpc}\",\n",
    "    ylims = (-1.10, 0.61), yticks = -1.0:0.25:0.5,\n",
    "    title = \"Contribution at s = $s Mpc/h_0 of each GNC ξ\"\n",
    "    \n",
    ")\n",
    "\n",
    "annotate!([(12, -0.6, text(leg; pointsize=7))])\n",
    "#annotate!([(12, 0.8*max(ys.* (s^2)...), text(leg; pointsize=7))])"
   ]
  },
  {
   "cell_type": "markdown",
   "id": "71f12b4c-94b3-4c86-bd81-969f8ec00f94",
   "metadata": {},
   "source": [
    "```\n",
    "\n",
    "\n",
    "```"
   ]
  },
  {
   "cell_type": "markdown",
   "id": "f49ccdba-e3da-42f1-8a0e-92c3f602761f",
   "metadata": {},
   "source": [
    "### map_sum_ξ_GNC_multipole"
   ]
  },
  {
   "cell_type": "markdown",
   "id": "85a6ca26-fdff-42fa-aad1-d10bc9384ab6",
   "metadata": {},
   "source": [
    "```julia\n",
    "map_sum_ξ_GNC_multipole(cosmo::Cosmology, \n",
    "    ss = nothing; L::Integer = 0, s1 = nothing, \n",
    "    kwargs...\n",
    "    )::Tuple{Vector{Float64}, Vector{Float64},\n",
    "        Vector{Vector{Float64}}}\n",
    "```"
   ]
  },
  {
   "cell_type": "markdown",
   "id": "b38f3601-f757-480e-9d3c-d8308a53c216",
   "metadata": {},
   "source": [
    "As for `map_ξ_multipole`, returns also the vector `ss`. It's now prettly useless to spend more words on this instead of simply see it in action, isn't it?"
   ]
  },
  {
   "cell_type": "code",
   "execution_count": null,
   "id": "270cdd47-65ae-4110-a12c-3f771e162217",
   "metadata": {},
   "outputs": [],
   "source": [
    "ss, res_sums, res_xis = GaPSE.map_sum_ξ_GNC_multipole(cosmo, \n",
    "    10 .^ range(0, 3, length = 100), use_windows = false, L = 0, alg = :quad);"
   ]
  },
  {
   "cell_type": "code",
   "execution_count": null,
   "id": "b0344737-d762-4360-a766-d2a3dbc458e6",
   "metadata": {},
   "outputs": [],
   "source": [
    "func_ξs_names = [\n",
    "    L::Int -> L\"$\\xi^{\\delta \\, \\delta}_{L=%$L}(s)$\", \n",
    "    L::Int -> L\"$\\xi^{v_{\\parallel} \\, v_{\\parallel}}_{L=%$L}(s)$\", \n",
    "    L::Int -> L\"$\\xi^{\\kappa \\, \\kappa}_{L=%$L}(s)$\", \n",
    "    L::Int -> L\"$\\xi^{\\phi \\, \\phi}_{L=%$L}(s)$\", \n",
    "    L::Int -> L\"$\\xi^{\\int\\phi \\, \\int\\phi}_{L=%$L}(s)$\", \n",
    "    \n",
    "    L::Int -> L\"$\\xi^{\\delta \\, v_{\\parallel}}_{L=%$L}(s)$\",\n",
    "    L::Int -> L\"$\\xi^{v_{\\parallel} \\, \\delta}_{L=%$L}(s)$\",\n",
    "    \n",
    "    L::Int -> L\"$\\xi^{\\delta \\, \\kappa}_{L=%$L}(s)$\",\n",
    "    L::Int -> L\"$\\xi^{\\kappa \\, \\delta}_{L=%$L}(s)$\",\n",
    "    \n",
    "    L::Int -> L\"$\\xi^{\\delta \\, \\phi}_{L=%$L}(s)$\",\n",
    "    L::Int -> L\"$\\xi^{\\phi \\, \\delta}_{L=%$L}(s)$\",\n",
    "    \n",
    "    L::Int -> L\"$\\xi^{\\delta \\, \\int\\phi}_{L=%$L}(s)$\",\n",
    "    L::Int -> L\"$\\xi^{\\int\\phi \\, \\delta}_{L=%$L}(s)$\",\n",
    "    \n",
    "    L::Int -> L\"$\\xi^{\\kappa \\, v_{\\parallel}}_{L=%$L}(s)$\",\n",
    "    L::Int -> L\"$\\xi^{v_{\\parallel} \\, \\kappa}_{L=%$L}(s)$\",\n",
    "    \n",
    "    L::Int -> L\"$\\xi^{v_{\\parallel} \\, \\phi}_{L=%$L}(s)$\",\n",
    "    L::Int -> L\"$\\xi^{\\phi \\, v_{\\parallel}}_{L=%$L}(s)$\",\n",
    "    \n",
    "    L::Int -> L\"$\\xi^{v_{\\parallel} \\, \\int\\phi}_{L=%$L}(s)$\",\n",
    "    L::Int -> L\"$\\xi^{\\int\\phi \\, v_{\\parallel}}_{L=%$L}(s)$\",\n",
    "    \n",
    "    L::Int -> L\"$\\xi^{\\kappa \\, \\phi}_{L=%$L}(s)$\",\n",
    "    L::Int -> L\"$\\xi^{\\phi \\, \\kappa}_{L=%$L}(s)$\",\n",
    "    \n",
    "    L::Int -> L\"$\\xi^{\\kappa \\, \\int\\phi}_{L=%$L}(s)$\",\n",
    "    L::Int -> L\"$\\xi^{\\int\\phi \\, \\kappa}_{L=%$L}(s)$\",\n",
    "    \n",
    "    L::Int -> L\"$\\xi^{\\phi \\, \\int\\phi}_{L=%$L}(s)$\",\n",
    "    L::Int -> L\"$\\xi^{\\int\\phi \\, \\phi}_{L=%$L}(s)$\",\n",
    "];"
   ]
  },
  {
   "cell_type": "code",
   "execution_count": null,
   "id": "b3d7c566-49c2-4a77-ae50-327f5b89f348",
   "metadata": {},
   "outputs": [],
   "source": [
    "pyplot()\n",
    "ps = [plot() for i in 1:length(GaPSE.GR_EFFECTS_GNC) + 1]\n",
    "\n",
    "title = plot(title = \"GNC Correlation functions terms\", grid=false, \n",
    "    showaxis = false, bottom_margin = -50Plots.px, ticks=false)\n",
    "\n",
    "legend_pos=[\n",
    "    :bottomleft,\n",
    "    :bottomleft, :topright, :bottomleft, :bottomleft,\n",
    "    :topleft, :topleft, :topleft, :topleft,\n",
    "    :bottomleft, :bottomleft, :bottomleft, :bottomleft,\n",
    "    :bottomleft, :bottomleft, :bottomleft, :bottomleft,\n",
    "]\n",
    "\n",
    "xs = ss\n",
    "\n",
    "ps[1] = plot(xs, res_sums .* xs .^2, size=(300, 100),\n",
    "        lw=2, lc=\"red\", ls=:solid,\n",
    "        title=\"All summed xis\", \n",
    "        xlabel=L\"s \\quad [h_0^{-1}\\,\\mathrm{Mpc}]\",\n",
    "        ylabel=L\"s^2 \\, \\xi^{\\mathrm{ALL}}_{L=0}(s)\",\n",
    "        #xaxis=:log, #yaxis=:log,\n",
    "        top_margins=15Plots.px, legend=false)\n",
    "\n",
    "for i in 1:length(GaPSE.GR_EFFECTS_GNC)\n",
    "    ys = res_xis[i]\n",
    "\n",
    "    ps[i+1] = plot(\n",
    "        xs, ys .* xs .^2, \n",
    "        size=(300, 100),\n",
    "        lw=2, lc=\"red\", ls=:solid,\n",
    "        title=GaPSE.GR_EFFECTS_GNC[i], \n",
    "        xlabel=L\"s \\quad [h_0^{-1}\\,\\mathrm{Mpc}]\",\n",
    "        ylabel=L\"s^2 \\, \" * func_ξs_names[i](0),\n",
    "        #xaxis=:log, #yaxis=:log,\n",
    "        top_margins=15Plots.px,\n",
    "        legend = false,\n",
    "    )\n",
    "end\n",
    "\n",
    "l = @layout [A{0.02h}; grid(2,3){0.22h} ; grid(5,4){0.75h} ]\n",
    "P = plot(title, ps..., layout=l, \n",
    "    left_margins = 15Plots.px, right_margins = 30Plots.px,\n",
    "    size=(1200,1800))"
   ]
  },
  {
   "cell_type": "markdown",
   "id": "924f0048-0b6c-43a7-9603-e9dbff8b2111",
   "metadata": {},
   "source": [
    "```\n",
    "\n",
    "\n",
    "\n",
    "```"
   ]
  },
  {
   "cell_type": "markdown",
   "id": "dd515d69-0262-4627-833b-1fc47dc882ec",
   "metadata": {},
   "source": [
    "### print_map_sum_ξ_GNC_multipole"
   ]
  },
  {
   "cell_type": "markdown",
   "id": "9ffb94fc-059d-4766-898b-0192b3e4b007",
   "metadata": {},
   "source": [
    "```julia \n",
    "print_map_sum_ξ_GNC_multipole(cosmo::Cosmology, \n",
    "    out::String, ss = nothing; \n",
    "    single::Bool = true, \n",
    "    kwargs...)\n",
    "```\n",
    "As `print_map_ξ_GNC_multipole`, prints the output in the file `out`.\n",
    "\n",
    "The only new thing to point out is the bool `single`: if `true`, all the CFs are printed inside the file of the sum, in a table with 18 columns (first one for `ss`, second for their sum an the next 16 for each effect). \n",
    "\n",
    "Otherwise, a new directory \"all_standalones_CFs\" is created (in the same path given in `out`) and they are separately saved in files there placed."
   ]
  },
  {
   "cell_type": "code",
   "execution_count": null,
   "id": "3e7adffb-dbbf-48d3-962a-e6b59e0800a7",
   "metadata": {},
   "outputs": [],
   "source": [
    "GaPSE.print_map_sum_ξ_GNC_multipole(cosmo, \n",
    "    \"my_first_all_xis.txt\", 10 .^ range(0, 3, length = 100);\n",
    "    L = 0, use_windows = false, alg = :quad);"
   ]
  },
  {
   "cell_type": "code",
   "execution_count": null,
   "id": "2de610b8-1aae-4370-af80-9b895aa36264",
   "metadata": {},
   "outputs": [],
   "source": [
    "ss, res_sums, res_xis = GaPSE.readxyall(\"my_first_all_xis.txt\"; comments = true);"
   ]
  },
  {
   "cell_type": "code",
   "execution_count": null,
   "id": "9ed699d5-c94f-4444-a7b6-e8c42225c295",
   "metadata": {},
   "outputs": [],
   "source": [
    "pyplot()\n",
    "ps = [plot() for i in 1:length(GaPSE.GR_EFFECTS_GNC) + 1]\n",
    "\n",
    "title = plot(title = \"GNC Correlation functions terms\", grid=false, \n",
    "    showaxis = false, bottom_margin = -50Plots.px, ticks=false)\n",
    "\n",
    "legend_pos=[\n",
    "    :bottomleft,\n",
    "    :bottomleft, :topright, :bottomleft, :bottomleft,\n",
    "    :topleft, :topleft, :topleft, :topleft,\n",
    "    :bottomleft, :bottomleft, :bottomleft, :bottomleft,\n",
    "    :bottomleft, :bottomleft, :bottomleft, :bottomleft,\n",
    "]\n",
    "\n",
    "xs = ss\n",
    "\n",
    "ps[1] = plot(xs, res_sums .* xs .^2, size=(300, 100),\n",
    "        lw=2, lc=\"red\", ls=:solid,\n",
    "        title=\"All summed xis\", \n",
    "        xlabel=L\"s \\quad [h_0^{-1}\\,\\mathrm{Mpc}]\",\n",
    "        ylabel=L\"s^2 \\, \\xi^{\\mathrm{ALL}}_{L=0}(s)\",\n",
    "        #xaxis=:log, #yaxis=:log,\n",
    "        top_margins=15Plots.px, legend=false)\n",
    "\n",
    "for i in 1:length(GaPSE.GR_EFFECTS_GNC)\n",
    "    ys = res_xis[i]\n",
    "\n",
    "    ps[i+1] = plot(\n",
    "        xs, ys .* xs .^2, \n",
    "        size=(300, 100),\n",
    "        lw=2, lc=\"red\", ls=:solid,\n",
    "        title=GaPSE.GR_EFFECTS_GNC[i], \n",
    "        xlabel=L\"s \\quad [h_0^{-1}\\,\\mathrm{Mpc}]\",\n",
    "        ylabel=L\"s^2 \\, \" * func_ξs_names[i](0),\n",
    "        #xaxis=:log, #yaxis=:log,\n",
    "        top_margins=15Plots.px,\n",
    "        legend = false,\n",
    "    )\n",
    "end\n",
    "\n",
    "l = @layout [A{0.02h}; grid(2,3){0.22h} ; grid(5,4){0.75h} ]\n",
    "P = plot(title, ps..., layout=l, \n",
    "    left_margins = 15Plots.px, right_margins = 30Plots.px,\n",
    "    size=(1200,1800))"
   ]
  },
  {
   "cell_type": "markdown",
   "id": "bd7719aa-e777-4b79-a90b-d89276d78b05",
   "metadata": {},
   "source": [
    "```\n",
    "\n",
    "\n",
    "\n",
    "\n",
    "\n",
    "```"
   ]
  },
  {
   "cell_type": "markdown",
   "id": "aaf56105-7338-4f64-8334-b19364d43a7f",
   "metadata": {
    "jp-MarkdownHeadingCollapsed": true,
    "tags": []
   },
   "source": [
    "## Power Spectrum Multipole"
   ]
  },
  {
   "cell_type": "markdown",
   "id": "81706989-d99c-4f07-b784-e99b602ed80b",
   "metadata": {},
   "source": [
    "Last but not least, from a CF file generated as previously showed, we can easily obtain the corresponding Power Spectrum multipole.\n",
    "GaPSE provieds two functions:\n",
    "- `PS_multipole` and `print_PS_multipole`\n",
    "- `all_PS_multipole` and `print_all_PS_multipole`"
   ]
  },
  {
   "cell_type": "markdown",
   "id": "965d8078-962a-451e-9d39-75208caf2778",
   "metadata": {},
   "source": [
    "```julia\n",
    "PS_multipole(ss, fs; alg::Symbol=:fftlog,\n",
    "     cut_first_n::Int=0, cut_last_n::Int=0, kwargs...)\n",
    "PS_multipole(input::String; comments=true, kwargs...)\n",
    "```\n",
    "\n",
    "Return a tuple (`ks`, `pks`) of the Power Spectrum obtained from the CF sampled by (`ss`, `fs`) or stored in the file `input`, through the following expression: \n",
    "\n",
    "$$\n",
    "P_L(k) = \\frac{(-i)^L}{A^{'}} \\, \\phi(s_\\mathrm{eff}) \\int_0^\\infty \n",
    "        \\mathrm{d} s \\; s^2 \\, j_L(ks) \\, \\xi_L(s) \\; ,\n",
    "        \\quad \\; A^{'} = \\frac{1}{4\\,\\pi}\n",
    "$$\n",
    "\n",
    "Currenlty, there are two algorithms you can coose in order to perform the computation; you can choose \n",
    "which one to use through the keyword value `alg`:\n",
    "- `alg = :fftlog` (default and recommended option) will employ the [FFTLog](https://github.com/marcobonici/FFTLog.jl) \n",
    "  algorithm.\n",
    "- `alg = :twofast` will employ the TwoFAST `xicalc` function of the [TwoFAST](https://github.com/hsgg/TwoFAST.jl) \n",
    "  Julia package. Note that in the computation the integration range `` 0\\\\leq s \\\\leq \\\\infty``\n",
    "  is reduced to `int_s_min ≤ s ≤ int_s_max`. This alogrithm is not the ideal choise, because TwoFAST is conceived\n",
    "  for the direction PS -> TPCF, while is not 100% trustworthy for the other way round.\n",
    "\n",
    "IMPORTANT: no matter which algorithm you choose, you will need to give the input data in a\n",
    "LOGARITHMICALLY DISTRIBUTED scale. A linear distribution does not fit for the algorithms to apply.\n",
    "\n",
    "Depending on the algorithm you choose, the options would change. The options in common are:\n",
    "- `pr::Bool=true` : want to print the automatic messages to the screen?\n",
    "- `L::Int=0` : which multipole order should I use for this computation? IT MUST MATCH \n",
    "  THE MULTIPOLE ORDER OF THE INPUT TPCF!\n",
    "- `cut_first_n::Int=0` and `cut_last_n::Int=0` : you can cout the first and/or last n elements\n",
    "  of the input data, if they are highly irregular.\n",
    "  \n",
    "The complete list of options can be obrained thorugh `?PS_multipole`"
   ]
  },
  {
   "cell_type": "markdown",
   "id": "e9416592-97d0-46c8-b28a-d602f41e6091",
   "metadata": {},
   "source": [
    "\n",
    "\n",
    "```julia\n",
    "print_PS_multipole(input::String, out::String; L::Integer = 0, \n",
    "    int_s_min = 1e-3, int_s_max = 1e3, \n",
    "    kwargs...) ::Tuple{Vector{Float64}, Vector{Float64}}\n",
    "```\n",
    "\n",
    "Same as before, but store the results in a file named `out`.\n",
    "\n",
    "NOTE: the multipole order `L` must be the same of the input TPCF in exam! Otherwise, the results would have no sense at all!"
   ]
  },
  {
   "cell_type": "code",
   "execution_count": null,
   "id": "d45fe678-1ac6-48fb-ad2d-eed4fe6527f2",
   "metadata": {},
   "outputs": [],
   "source": [
    "GaPSE.print_PS_multipole(\"my_first_doppler.txt\",\n",
    "    \"my_first_ps_doppler.txt\"; L = 0)"
   ]
  },
  {
   "cell_type": "code",
   "execution_count": null,
   "id": "21167255-8b02-4208-a2fa-2b276dcb6555",
   "metadata": {},
   "outputs": [],
   "source": [
    "xs, ys = GaPSE.readxy(\"my_first_ps_doppler.txt\"; comments = true);\n",
    "pyplot()\n",
    "plot(xs, abs.(ys),\n",
    "    xaxis=:log, yaxis=:log, \n",
    "    lc=:red, ls=:solid,size=(500, 300),\n",
    "    title=\"auto_doppler PS\",\n",
    "    ylabel=L\"P^{v_{\\parallel} \\, v_{\\parallel}}_{L=0}(k)\",\n",
    "    xlabel=L\"k \\quad [h_0\\,\\mathrm{Mpc}^{-1}]\",\n",
    "    legend=false,\n",
    ")"
   ]
  },
  {
   "cell_type": "markdown",
   "id": "5af7b8ed-5d08-4f4e-9339-5a19bc1e543d",
   "metadata": {},
   "source": [
    "Finally, if we want to operate with a full set of xis, obtained from the group \"GNC\" for example, we should exploit the final two functions:\n",
    "\n",
    "```julia\n",
    "    all_PS_multipole(input::String,\n",
    "        group::String=VALID_GROUPS[end];\n",
    "        L::Int=0, pr::Bool=true,\n",
    "        alg::Symbol=:fftlog, kwargs...)\n",
    "    print_all_PS_multipole(input::String, out::String,\n",
    "        group::String=VALID_GROUPS[end];\n",
    "        L::Int=0, pr::Bool=true,\n",
    "        alg::Symbol=:fftlog,\n",
    "        kwargs...)\n",
    "```\n",
    "\n",
    "where the argument `group::String=VALID_GROUPS[end]` refers to the name of the group considered. The currently available ones are:"
   ]
  },
  {
   "cell_type": "code",
   "execution_count": null,
   "id": "fa106c85-fd31-4973-bbb5-203987cd88d1",
   "metadata": {},
   "outputs": [],
   "source": [
    "GaPSE.VALID_GROUPS"
   ]
  },
  {
   "cell_type": "markdown",
   "id": "5ccda61a-0f73-45a2-a439-480d0df2e1a4",
   "metadata": {},
   "source": [
    "where the last one should be used for a generic group of xis, without a specific order.\n",
    "As an example, we cosider the group \"GNC\" previously computed:"
   ]
  },
  {
   "cell_type": "code",
   "execution_count": null,
   "id": "ec980a8a-d6d3-4b32-a9da-25d03f8a156d",
   "metadata": {},
   "outputs": [],
   "source": [
    "function ps_kwargs(alg::Symbol = :fftlog) \n",
    "    if alg == :twofast\n",
    "        return Dict(\n",
    "            :alg => :twofast, :pr => true,\n",
    "            :cut_first_n => 6, :cut_last_n => 4,\n",
    "            :epl => true, \n",
    "            :N_left => 12, :N_right => 12,\n",
    "            :p0_left => [-2.0, 1.0], :p0_right => [-2.0, 1.0],\n",
    "            :int_s_min => 1e0, :int_s_max => 1200.0,\n",
    "            cut_first_n => 6, cut_last_n => 3,\n",
    "            ) \n",
    "    elseif alg == :fftlog\n",
    "\n",
    "        return Dict(\n",
    "            :alg => :fftlog, \n",
    "            :cut_first_n => 6, :cut_last_n => 4,\n",
    "            :ν => 1.5, :n_pad => 500,\n",
    "            :n_extrap_low => 0, :n_extrap_high => 0,  \n",
    "            )\n",
    "    else\n",
    "        throw(AssertionError(\"alg = :$alg is not a valid algorithm for PS_multipole\"))\n",
    "    end\n",
    "end\n",
    "\n",
    " GaPSE.print_all_PS_multipole(\"my_first_all_xis.txt\", \"my_first_all_ps.txt\", \n",
    "    \"GNC\"; L=0, ps_kwargs(:fftlog)...)"
   ]
  },
  {
   "cell_type": "code",
   "execution_count": null,
   "id": "9279b1c5-d238-4e3e-ad44-93141223acaa",
   "metadata": {},
   "outputs": [],
   "source": [
    "ks, pks_sums, res_pks = GaPSE.readxyall(\"my_first_all_ps.txt\"; comments = true);"
   ]
  },
  {
   "cell_type": "code",
   "execution_count": null,
   "id": "4d441064-94a4-471b-b882-e43361f950bd",
   "metadata": {},
   "outputs": [],
   "source": [
    "func_ps_names = [\n",
    "    L::Int -> L\"$P^{\\delta \\, \\delta}_{L=%$L}(s)$\", \n",
    "    L::Int -> L\"$P^{v_{\\parallel} \\, v_{\\parallel}}_{L=%$L}(s)$\", \n",
    "    L::Int -> L\"$P^{\\kappa \\, \\kappa}_{L=%$L}(s)$\", \n",
    "    L::Int -> L\"$P^{\\phi \\, \\phi}_{L=%$L}(s)$\", \n",
    "    L::Int -> L\"$P^{\\int\\phi \\, \\int\\phi}_{L=%$L}(s)$\", \n",
    "    \n",
    "    L::Int -> L\"$P^{\\delta \\, v_{\\parallel}}_{L=%$L}(s)$\",\n",
    "    L::Int -> L\"$P^{v_{\\parallel} \\, \\delta}_{L=%$L}(s)$\",\n",
    "    \n",
    "    L::Int -> L\"$P^{\\delta \\, \\kappa}_{L=%$L}(s)$\",\n",
    "    L::Int -> L\"$P^{\\kappa \\, \\delta}_{L=%$L}(s)$\",\n",
    "    \n",
    "    L::Int -> L\"$P^{\\delta \\, \\phi}_{L=%$L}(s)$\",\n",
    "    L::Int -> L\"$P^{\\phi \\, \\delta}_{L=%$L}(s)$\",\n",
    "    \n",
    "    L::Int -> L\"$P^{\\delta \\, \\int\\phi}_{L=%$L}(s)$\",\n",
    "    L::Int -> L\"$P^{\\int\\phi \\, \\delta}_{L=%$L}(s)$\",\n",
    "    \n",
    "    L::Int -> L\"$P^{\\kappa \\, v_{\\parallel}}_{L=%$L}(s)$\",\n",
    "    L::Int -> L\"$P^{v_{\\parallel} \\, \\kappa}_{L=%$L}(s)$\",\n",
    "    \n",
    "    L::Int -> L\"$P^{v_{\\parallel} \\, \\phi}_{L=%$L}(s)$\",\n",
    "    L::Int -> L\"$P^{\\phi \\, v_{\\parallel}}_{L=%$L}(s)$\",\n",
    "    \n",
    "    L::Int -> L\"$P^{v_{\\parallel} \\, \\int\\phi}_{L=%$L}(s)$\",\n",
    "    L::Int -> L\"$P^{\\int\\phi \\, v_{\\parallel}}_{L=%$L}(s)$\",\n",
    "    \n",
    "    L::Int -> L\"$P^{\\kappa \\, \\phi}_{L=%$L}(s)$\",\n",
    "    L::Int -> L\"$P^{\\phi \\, \\kappa}_{L=%$L}(s)$\",\n",
    "    \n",
    "    L::Int -> L\"$P^{\\kappa \\, \\int\\phi}_{L=%$L}(s)$\",\n",
    "    L::Int -> L\"$P^{\\int\\phi \\, \\kappa}_{L=%$L}(s)$\",\n",
    "    \n",
    "    L::Int -> L\"$P^{\\phi \\, \\int\\phi}_{L=%$L}(s)$\",\n",
    "    L::Int -> L\"$P^{\\int\\phi \\, \\phi}_{L=%$L}(s)$\",\n",
    "];"
   ]
  },
  {
   "cell_type": "code",
   "execution_count": null,
   "id": "c91d8e90-3705-4f67-ad26-964203fa9ebb",
   "metadata": {},
   "outputs": [],
   "source": [
    "pyplot()\n",
    "ps = [plot() for i in 1:length(GaPSE.GR_EFFECTS_GNC) + 1]\n",
    "\n",
    "title = plot(title = \"GNC Correlation functions terms\", grid=false, \n",
    "    showaxis = false, bottom_margin = -50Plots.px, ticks=false)\n",
    "\n",
    "legend_pos=[\n",
    "    :bottomleft,\n",
    "    :bottomleft, :topright, :bottomleft, :bottomleft,\n",
    "    :topleft, :topleft, :topleft, :topleft,\n",
    "    :bottomleft, :bottomleft, :bottomleft, :bottomleft,\n",
    "    :bottomleft, :bottomleft, :bottomleft, :bottomleft,\n",
    "]\n",
    "\n",
    "xs = ks\n",
    "\n",
    "ps[1] = plot(xs, abs.(pks_sums), size=(300, 100),\n",
    "        lw=2, lc=\"red\", ls=:solid, axis=:log,\n",
    "        title=\"All summed ps\", \n",
    "        xlabel=L\"k \\quad [h_0\\,\\mathrm{Mpc}^{-1}]\",\n",
    "        ylabel=L\"P^{\\mathrm{ALL}}_{L=0}(s)\",\n",
    "        #xaxis=:log, #yaxis=:log,\n",
    "        top_margins=15Plots.px, legend=false)\n",
    "\n",
    "for i in 1:length(GaPSE.GR_EFFECTS_GNC)\n",
    "    ys = res_pks[i]\n",
    "\n",
    "    ps[i+1] = plot(\n",
    "        xs, abs.(ys), \n",
    "        size=(300, 100), axis=:log,\n",
    "        lw=2, lc=\"red\", ls=:solid,\n",
    "        title=GaPSE.GR_EFFECTS_GNC[i], \n",
    "        xlabel=L\"k \\quad [h_0 \\mathrm{Mpc}^{-1}]\",\n",
    "        ylabel=func_ps_names[i](0),\n",
    "        #xaxis=:log, #yaxis=:log,\n",
    "        top_margins=15Plots.px,\n",
    "        legend = false,\n",
    "    )\n",
    "end\n",
    "\n",
    "l = @layout [A{0.02h}; grid(2,3){0.22h} ; grid(5,4){0.75h} ]\n",
    "P = plot(title, ps..., layout=l, \n",
    "    left_margins = 15Plots.px, right_margins = 30Plots.px,\n",
    "    size=(1200,1800))"
   ]
  },
  {
   "cell_type": "markdown",
   "id": "0bc2a76a-9252-402e-a3b0-7326be31b6f3",
   "metadata": {
    "tags": []
   },
   "source": [
    "## Window Function F and Integrated Window Function "
   ]
  },
  {
   "cell_type": "markdown",
   "id": "e8b7fcdb-7ed5-4e83-830b-16ae9d0da673",
   "metadata": {},
   "source": [
    "The bool `use_windows`'s work may be written as follows, with `U = use_windows`:\n",
    "\n",
    "$$\n",
    "\\xi_L(s_1, s, \\mu) = \\frac{2 L + 1}{2} \\int_{-1}^{+1} \\mathrm{d}\\mu \\; \n",
    "    \\xi (s_1, s, \\mu) \\, \\mathcal{L}_L(\\mu) \\,\\times\n",
    "\\begin{cases}  \n",
    "     \\mathcal{F(s, \\mu)}\\;,\n",
    "        \\quad \\mathrm{U = true}\\\\\n",
    "    1\\;, \\quad \\mathrm{U = false}\n",
    "\\end{cases}\n",
    "$$"
   ]
  },
  {
   "cell_type": "markdown",
   "id": "98876ef6-fde0-4a09-987f-049cdfab1862",
   "metadata": {},
   "source": [
    "$$\n",
    "\\mathcal{F}(s, \\mu) = \n",
    "    \\int_0^\\infty \\mathrm{d}s_1 \\, \\phi(s_1) \\,  \n",
    "    \\phi\\left(\\sqrt{s_1^2 + s^2 + 2 \\, s_1 \\, s \\, \\mu}\\right) \n",
    "    \\, F\\left(\\frac{s}{s_1}, \\mu \\right)\n",
    "$$"
   ]
  },
  {
   "cell_type": "markdown",
   "id": "1657ba38-8566-416a-8eb5-230c2f9ee013",
   "metadata": {},
   "source": [
    "with $F$ defined as follows (check Eq.(A.10) of Castorina, Di Dio (2021) for more details):\n",
    "\n",
    "$$\n",
    "\\begin{split}\n",
    "F(x,\\mu; \\theta_\\mathrm{max}) = & \\;4\\pi \n",
    "    \\int_0^{\\theta_\\mathrm{max}} \\mathrm{d}\\theta_1 \\int_0^\\pi \\mathrm{d} \\theta \\; \n",
    "    \\, \\Theta\\left(\\frac\n",
    "        {x \\cos \\theta + \\cos \\theta_1}{\\sqrt{x^1+2+2x\\mu}} - \n",
    "        \\cos(\\theta_\\mathrm{max}) \n",
    "        \\right) \n",
    "    \\, \\Theta(\\mu-\\cos(\\theta+\\theta_1)) \\\\\n",
    "    &\\Theta(\\cos(\\theta - \\theta_1)-\\mu) \\;\n",
    "    \\frac{\\sin\\theta\\sin\\theta_1}\n",
    "        {\\sqrt{(\\sin\\theta\\sin\\theta_1)^2-(\\cos\\theta\\cos\\theta_1-\\mu)^2}}\n",
    "\\end{split}\n",
    "$$"
   ]
  },
  {
   "cell_type": "markdown",
   "id": "7302cd61-592d-47bc-9284-d522a90949c3",
   "metadata": {},
   "source": [
    "where the $\\Theta$s are Heaviside theta functions."
   ]
  },
  {
   "cell_type": "markdown",
   "id": "69c1a0cd-a6c4-4659-9a72-62f80a695e83",
   "metadata": {},
   "source": [
    "The most efficient way to use $F$ in our computation is to calculate it separetely for a map of $\\mu$ and $x$ values (with the $\\theta_\\mathrm{MAX}$ of the survey), then compute from it $\\mathcal{F}$ and load them into the `Cosmology` we want to create. Internally, the code creates a 2d-spline from the input file of $F$.\n",
    "\n",
    "In order to create suh a file, GaPSE provides the function `F_map`, which has two methods:\n",
    "\n",
    "```julia\n",
    "print_F_map(out::String,\n",
    "    x_step::Float64 = 0.01, μ_step::Float64 = 0.01;\n",
    "    x1 = 0, x2 = 3, μ1 = -1, μ2 = 1, \n",
    "    alg::Symbol = :trap,\n",
    "    Fmap_opts::Dict = Dict{Symbol,Any}(), \n",
    "    kwargs...)\n",
    "\n",
    "print_F_map(out::String,\n",
    "    xs::Vector{Float64}, μs::Vector{Float64};\n",
    "    alg::Symbol = :trap,\n",
    "    Fmap_opts::Dict = Dict{Symbol,Any}(),\n",
    "    kwargs...)\n",
    "```\n",
    "\n",
    "The first one creates a map of:\n",
    "- $\\mu$ values from `μ1 = -1` to `μ2 = 1` with linear step `μ_step`\n",
    "- $x$ values from `x1 = 0` to `x2 = 3` with linear step `x_step`\n",
    "and calculate $F$ in each point of this grid, saving the results in the file `out`.\n",
    "\n",
    "The symbol keyword argument `alg` tells if you want to perform the computation of `F` with\n",
    "`F_trap` (if `alg = :trap`) or with `F_hcub` (if `alg = :hcub`). Other symbols will lead to \n",
    "an `AssertionError`.\n",
    "Both for computational efficiency and stability, it's highly recommended to use\n",
    "the former (i.e. the default one). \n",
    "\n",
    "The second one creates a grid from the input vector of $\\mu$ and $x$ values, \n",
    "calculate $F$ in each point of this grid and save the results in the file `out`."
   ]
  },
  {
   "cell_type": "markdown",
   "id": "8eb99739-2912-4905-bbef-395751b615bf",
   "metadata": {},
   "source": [
    "We now give here an example of use, which corresponds to the code necessary to produce the file `data/F_REFERENCE_pi2.txt`; consider that this computation, for the following values, might takes about 43 minutes. "
   ]
  },
  {
   "cell_type": "code",
   "execution_count": 6,
   "id": "4cded543-5e39-4f51-a07a-7b7d35ad1c7b",
   "metadata": {},
   "outputs": [],
   "source": [
    "#=\n",
    "reference_output =  PATH_TO_GAPSE * \"data/F_REFERENCE_pi2.txt\"\n",
    "\n",
    "kwargs_map_F_hcub = Dict(\n",
    "     :θ_max => π / 2.0, :tolerance => 1e-10, \n",
    "     :rtol => 1e-2, :atol => 1e-3, :pr => true,\n",
    ");\n",
    "\n",
    "kwargs_map_F_trap = Dict(\n",
    "     :θ_max => π / 2.0, :tolerance => 1e-10, \n",
    "     :N => 1000, :pr => true,\n",
    ");\n",
    "\n",
    "xs = [x for x in 0:0.02:5]\n",
    "μs = union(\n",
    "    [μ for μ in range(-1.0, -0.98, length = 50)], \n",
    "    [μ for μ in range(-0.98, 0.98, length = 102)],\n",
    "    [μ for μ in range(0.98, 1.0, length = 50)]);\n",
    "GaPSE.print_map_F(reference_output, xs, μs; \n",
    "    alg = :trap, Fmap_opts = kwargs_map_F_trap # we recommend to use :trap\n",
    "    #alg = :hcub, Fmap_opts = kwargs_map_F_hcub # but you can use also :hcub if you prefer\n",
    ")\n",
    "=#"
   ]
  },
  {
   "cell_type": "markdown",
   "id": "cbc7de90-f13c-4b27-9f34-bc2e74e5aea0",
   "metadata": {},
   "source": [
    "From such a file we can compute the integrated windof function $\\mathcal{F}$:"
   ]
  },
  {
   "cell_type": "markdown",
   "id": "4fdcc84e-6b87-4a91-9ca4-c9faa4e28608",
   "metadata": {},
   "source": [
    "```julia\n",
    "print_map_IntegratedF(s_min, s_max, ss::Vector{Float64},\n",
    "     μs::Vector{Float64}, windowF::Union{String,WindowF}, out::String;\n",
    "     alg::Symbol=:trap, llim=nothing, rlim=nothing,\n",
    "     rtol=1e-2, atol=0.0, N::Int=1000, pr::Bool=true)\n",
    "```"
   ]
  },
  {
   "cell_type": "markdown",
   "id": "54c68123-08d4-4006-92ca-5df07fc6585d",
   "metadata": {},
   "source": [
    "You should specify:\n",
    "- `s_min` and `s_max` for the radial `ϕ` function.\n",
    "- `ss::Vector{Float64}` and `μs::Vector{Float64}` :  the vector of s and μ points where to evaluate \n",
    "  sample the integrated window function ``\\\\mathcal{F}``; they will be stored in the struct.\n",
    "- `windowF::Union{String,WindowF}`, i.e. the window function itself; it can be passed as the namefile\n",
    "  where the window is stored in (that will be opened with `WindowF`) or as a `WindowF` struct directly.\n",
    "- `out::String` : the name of the output file\n",
    "\n",
    "As optional arguments:\n",
    "\n",
    "- `alg::Symbol = :trap` : algorithm to be used for the integration; the valid options are `:quad`\n",
    "  (that will recall `integrated_F_quadgk`) and `:trap` (that will recall `integrated_F_trapz`);\n",
    "  other values will lead to `AssertionError`\n",
    "- `llim=nothing` and `rlim=nothing` : integration limits for quad/trap; \n",
    "  if `llim=nothing` it will be set to `0.95 * s_min`; if `rlim=nothing`, it will be set to `1.05*s_max`,\n",
    "  while if `rlim=Inf` it will be set to `3 * s_max`.\n",
    "- `N::Int = 1000` : number of points to be used for the sampling of `trapz`; it's useless if you set\n",
    "  `alg = :quad`;\n",
    "- `rtol=1e-2` and `atol=0.0` : relative and absoute tolerance for `quadgk`; they are useless if you set\n",
    "  `alg = :trap`;\n",
    "- `pr::Bool = true` : do you want to see the progress-bar of the computation?\n",
    "\n",
    "We now give here an example of use, which corresponds to the code necessary to produce the file `data/IntegrF_REFERENCE_pi2_z005020.txt`; consider that this computation, for the following values, might takes about 3 minutes. "
   ]
  },
  {
   "cell_type": "code",
   "execution_count": 7,
   "id": "be5db879-7797-41a6-b34c-837c0bd612b1",
   "metadata": {},
   "outputs": [
    {
     "ename": "LoadError",
     "evalue": "MethodError: no method matching print_map_IntegratedF(::String, ::String, ::Float64, ::Float64, ::Vector{Float64}; alg=:trap, atol=0.0, rtol=0.01, llim=nothing, N=1000, rlim=nothing, pr=true)\n\u001b[0mClosest candidates are:\n\u001b[0m  print_map_IntegratedF(::Any, ::Any, \u001b[91m::Vector{Float64}\u001b[39m, \u001b[91m::Vector{Float64}\u001b[39m, \u001b[91m::Union{String, Main.GaPSE.WindowF}\u001b[39m, \u001b[91m::String\u001b[39m; alg, llim, rlim, rtol, atol, N, pr) at ~/AAA_TESI_MAGISTRALE/GaPSE/src/WindowFIntegrated.jl:191\n\u001b[0m  print_map_IntegratedF(::String, \u001b[91m::Main.GaPSE.WindowFIntegrated\u001b[39m) at ~/AAA_TESI_MAGISTRALE/GaPSE/src/WindowFIntegrated.jl:470\u001b[91m got unsupported keyword arguments \"alg\", \"atol\", \"rtol\", \"llim\", \"N\", \"rlim\", \"pr\"\u001b[39m",
     "output_type": "error",
     "traceback": [
      "MethodError: no method matching print_map_IntegratedF(::String, ::String, ::Float64, ::Float64, ::Vector{Float64}; alg=:trap, atol=0.0, rtol=0.01, llim=nothing, N=1000, rlim=nothing, pr=true)\n\u001b[0mClosest candidates are:\n\u001b[0m  print_map_IntegratedF(::Any, ::Any, \u001b[91m::Vector{Float64}\u001b[39m, \u001b[91m::Vector{Float64}\u001b[39m, \u001b[91m::Union{String, Main.GaPSE.WindowF}\u001b[39m, \u001b[91m::String\u001b[39m; alg, llim, rlim, rtol, atol, N, pr) at ~/AAA_TESI_MAGISTRALE/GaPSE/src/WindowFIntegrated.jl:191\n\u001b[0m  print_map_IntegratedF(::String, \u001b[91m::Main.GaPSE.WindowFIntegrated\u001b[39m) at ~/AAA_TESI_MAGISTRALE/GaPSE/src/WindowFIntegrated.jl:470\u001b[91m got unsupported keyword arguments \"alg\", \"atol\", \"rtol\", \"llim\", \"N\", \"rlim\", \"pr\"\u001b[39m",
      "",
      "Stacktrace:",
      " [1] top-level scope",
      "   @ In[7]:6",
      " [2] eval",
      "   @ ./boot.jl:368 [inlined]",
      " [3] include_string(mapexpr::typeof(REPL.softscope), mod::Module, code::String, filename::String)",
      "   @ Base ./loading.jl:1428"
     ]
    }
   ],
   "source": [
    "calc_μs = union(\n",
    "    [μ for μ in range(-1.0, -0.98, length = 50)], \n",
    "    [μ for μ in range(-0.98, 0.98, length = 102)],\n",
    "    [μ for μ in range(0.98, 1.0, length = 50)]);\n",
    "\n",
    "GaPSE.print_map_IntegratedF(\n",
    "    PATH_TO_GAPSE * \"data/F_REFERENCE_pi2.txt\", \n",
    "    PATH_TO_GAPSE * \"data/IntegrF_REFERENCE_pi2_z005020.txt\", \n",
    "    calc_μs;\n",
    "    alg = :trap, Dict(\n",
    "        :llim => nothing, :rlim => nothing, \n",
    "        :rtol => 1e-2, :atol => 0.0, \n",
    "        :N => 1000, :pr => true,\n",
    "    )...\n",
    ")"
   ]
  },
  {
   "cell_type": "code",
   "execution_count": null,
   "id": "c6fdb51e-ec11-4b5c-98d8-89588fbe858a",
   "metadata": {},
   "outputs": [],
   "source": []
  }
 ],
 "metadata": {
  "kernelspec": {
   "display_name": "Julia 1.8.3",
   "language": "julia",
   "name": "julia-1.8"
  },
  "language_info": {
   "file_extension": ".jl",
   "mimetype": "application/julia",
   "name": "julia",
   "version": "1.8.3"
  },
  "toc-autonumbering": true
 },
 "nbformat": 4,
 "nbformat_minor": 5
}
